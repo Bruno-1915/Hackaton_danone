{
 "cells": [
  {
   "cell_type": "code",
   "execution_count": 1,
   "id": "4170e82a",
   "metadata": {
    "execution": {
     "iopub.execute_input": "2023-06-19T14:06:35.774061Z",
     "iopub.status.busy": "2023-06-19T14:06:35.773540Z",
     "iopub.status.idle": "2023-06-19T14:06:35.785441Z",
     "shell.execute_reply": "2023-06-19T14:06:35.784768Z"
    },
    "lines_to_next_cell": 0,
    "papermill": {
     "duration": 0.021625,
     "end_time": "2023-06-19T14:06:35.787861",
     "exception": false,
     "start_time": "2023-06-19T14:06:35.766236",
     "status": "completed"
    },
    "tags": [
     "parameters"
    ]
   },
   "outputs": [],
   "source": [
    "upstream = None\n",
    "product = None"
   ]
  },
  {
   "cell_type": "code",
   "execution_count": 2,
   "id": "4b1701a2",
   "metadata": {
    "execution": {
     "iopub.execute_input": "2023-06-19T14:06:35.795681Z",
     "iopub.status.busy": "2023-06-19T14:06:35.795068Z",
     "iopub.status.idle": "2023-06-19T14:06:35.799100Z",
     "shell.execute_reply": "2023-06-19T14:06:35.798539Z"
    },
    "papermill": {
     "duration": 0.009613,
     "end_time": "2023-06-19T14:06:35.800836",
     "exception": false,
     "start_time": "2023-06-19T14:06:35.791223",
     "status": "completed"
    },
    "tags": [
     "injected-parameters"
    ]
   },
   "outputs": [],
   "source": [
    "# Parameters\n",
    "upstream = {\"Preprocess features\": {\"nb\": \"/Users/bruno/Documents/Hackaton_danone/output/process_data.ipynb\", \"train_csv\": \"/Users/bruno/Documents/Hackaton_danone/data/train.csv\", \"test_csv\": \"/Users/bruno/Documents/Hackaton_danone/data/test.csv\"}}\n",
    "product = {\"nb\": \"/Users/bruno/Documents/Hackaton_danone/output/train_rf.ipynb\", \"result\": \"/Users/bruno/Documents/Hackaton_danone/predictions/result_rf.json\"}\n"
   ]
  },
  {
   "cell_type": "code",
   "execution_count": 3,
   "id": "b85915ab",
   "metadata": {
    "execution": {
     "iopub.execute_input": "2023-06-19T14:06:35.806536Z",
     "iopub.status.busy": "2023-06-19T14:06:35.806295Z",
     "iopub.status.idle": "2023-06-19T14:06:35.891148Z",
     "shell.execute_reply": "2023-06-19T14:06:35.890177Z"
    },
    "lines_to_next_cell": 0,
    "papermill": {
     "duration": 0.090902,
     "end_time": "2023-06-19T14:06:35.894146",
     "exception": false,
     "start_time": "2023-06-19T14:06:35.803244",
     "status": "completed"
    },
    "tags": []
   },
   "outputs": [],
   "source": [
    "import json\n",
    "import pickle\n",
    "import warnings\n",
    "from pathlib import Path\n",
    "\n",
    "import numpy as np"
   ]
  },
  {
   "cell_type": "code",
   "execution_count": 4,
   "id": "ca33ff9a",
   "metadata": {
    "execution": {
     "iopub.execute_input": "2023-06-19T14:06:35.905403Z",
     "iopub.status.busy": "2023-06-19T14:06:35.904651Z",
     "iopub.status.idle": "2023-06-19T14:06:37.131245Z",
     "shell.execute_reply": "2023-06-19T14:06:37.130054Z"
    },
    "lines_to_next_cell": 0,
    "papermill": {
     "duration": 1.235279,
     "end_time": "2023-06-19T14:06:37.134164",
     "exception": false,
     "start_time": "2023-06-19T14:06:35.898885",
     "status": "completed"
    },
    "tags": []
   },
   "outputs": [],
   "source": [
    "import pandas as pd\n",
    "import xgboost as xgb\n",
    "from sklearn.ensemble import RandomForestClassifier\n",
    "\n",
    "warnings.filterwarnings('ignore')"
   ]
  },
  {
   "cell_type": "code",
   "execution_count": 5,
   "id": "a1355a0e",
   "metadata": {
    "execution": {
     "iopub.execute_input": "2023-06-19T14:06:37.140283Z",
     "iopub.status.busy": "2023-06-19T14:06:37.139968Z",
     "iopub.status.idle": "2023-06-19T14:06:37.145147Z",
     "shell.execute_reply": "2023-06-19T14:06:37.144200Z"
    },
    "lines_to_next_cell": 0,
    "papermill": {
     "duration": 0.011312,
     "end_time": "2023-06-19T14:06:37.147753",
     "exception": false,
     "start_time": "2023-06-19T14:06:37.136441",
     "status": "completed"
    },
    "tags": []
   },
   "outputs": [],
   "source": [
    "cols = ['is_beverage', 'non_recyclable_and_non_biodegradable_materials_count', \n",
    "        'est_co2_agriculture', 'est_co2_consumption', \n",
    "        'est_co2_distribution', 'est_co2_packaging', 'est_co2_processing', \n",
    "        'est_co2_transportation']\n",
    "target_col = 'ecoscore_grade'"
   ]
  },
  {
   "cell_type": "code",
   "execution_count": 6,
   "id": "e7243601",
   "metadata": {
    "execution": {
     "iopub.execute_input": "2023-06-19T14:06:37.154202Z",
     "iopub.status.busy": "2023-06-19T14:06:37.153684Z",
     "iopub.status.idle": "2023-06-19T14:06:37.159992Z",
     "shell.execute_reply": "2023-06-19T14:06:37.158944Z"
    },
    "lines_to_next_cell": 0,
    "papermill": {
     "duration": 0.013332,
     "end_time": "2023-06-19T14:06:37.163365",
     "exception": false,
     "start_time": "2023-06-19T14:06:37.150033",
     "status": "completed"
    },
    "tags": []
   },
   "outputs": [
    {
     "name": "stdout",
     "output_type": "stream",
     "text": [
      "['is_beverage', 'non_recyclable_and_non_biodegradable_materials_count', 'est_co2_agriculture', 'est_co2_consumption', 'est_co2_distribution', 'est_co2_packaging', 'est_co2_processing', 'est_co2_transportation']\n"
     ]
    }
   ],
   "source": [
    "print(cols)"
   ]
  },
  {
   "cell_type": "code",
   "execution_count": 7,
   "id": "c588c641",
   "metadata": {
    "execution": {
     "iopub.execute_input": "2023-06-19T14:06:37.170682Z",
     "iopub.status.busy": "2023-06-19T14:06:37.170456Z",
     "iopub.status.idle": "2023-06-19T14:06:37.430327Z",
     "shell.execute_reply": "2023-06-19T14:06:37.429944Z"
    },
    "papermill": {
     "duration": 0.26621,
     "end_time": "2023-06-19T14:06:37.431851",
     "exception": false,
     "start_time": "2023-06-19T14:06:37.165641",
     "status": "completed"
    },
    "tags": []
   },
   "outputs": [],
   "source": [
    "# train = pd.read_csv(upstream['Preprocess features']['train_csv'])\n",
    "train = pd.read_csv(upstream['Preprocess features']['train_csv'], usecols=cols + [target_col])\n",
    "test = pd.read_csv(upstream['Preprocess features']['test_csv'], usecols=cols)"
   ]
  },
  {
   "cell_type": "code",
   "execution_count": 8,
   "id": "8d613216",
   "metadata": {
    "execution": {
     "iopub.execute_input": "2023-06-19T14:06:37.437490Z",
     "iopub.status.busy": "2023-06-19T14:06:37.437253Z",
     "iopub.status.idle": "2023-06-19T14:06:37.446547Z",
     "shell.execute_reply": "2023-06-19T14:06:37.446064Z"
    },
    "lines_to_next_cell": 0,
    "papermill": {
     "duration": 0.013693,
     "end_time": "2023-06-19T14:06:37.447819",
     "exception": false,
     "start_time": "2023-06-19T14:06:37.434126",
     "status": "completed"
    },
    "tags": []
   },
   "outputs": [],
   "source": [
    "X_train, y_train = train[cols], train[target_col]\n",
    "X_test = test[cols]\n",
    "for i in cols:\n",
    "    X_train[i] = X_train[i].astype(float)\n",
    "    X_test[i] = X_test[i].astype(float)"
   ]
  },
  {
   "cell_type": "code",
   "execution_count": 9,
   "id": "b86a7c11",
   "metadata": {
    "execution": {
     "iopub.execute_input": "2023-06-19T14:06:37.452661Z",
     "iopub.status.busy": "2023-06-19T14:06:37.452478Z",
     "iopub.status.idle": "2023-06-19T14:06:37.455092Z",
     "shell.execute_reply": "2023-06-19T14:06:37.454729Z"
    },
    "lines_to_next_cell": 0,
    "papermill": {
     "duration": 0.006403,
     "end_time": "2023-06-19T14:06:37.456340",
     "exception": false,
     "start_time": "2023-06-19T14:06:37.449937",
     "status": "completed"
    },
    "tags": []
   },
   "outputs": [
    {
     "name": "stdout",
     "output_type": "stream",
     "text": [
      "(20835, 8) (20835,)\n",
      "(1272, 8)\n"
     ]
    }
   ],
   "source": [
    "print(X_train.shape, y_train.shape)\n",
    "print(X_test.shape)"
   ]
  },
  {
   "cell_type": "code",
   "execution_count": 10,
   "id": "3a3ad176",
   "metadata": {
    "execution": {
     "iopub.execute_input": "2023-06-19T14:06:37.461143Z",
     "iopub.status.busy": "2023-06-19T14:06:37.460990Z",
     "iopub.status.idle": "2023-06-19T14:06:37.463299Z",
     "shell.execute_reply": "2023-06-19T14:06:37.462898Z"
    },
    "lines_to_next_cell": 0,
    "papermill": {
     "duration": 0.006063,
     "end_time": "2023-06-19T14:06:37.464506",
     "exception": false,
     "start_time": "2023-06-19T14:06:37.458443",
     "status": "completed"
    },
    "tags": []
   },
   "outputs": [],
   "source": [
    "model = RandomForestClassifier(n_estimators=500, random_state=0)"
   ]
  },
  {
   "cell_type": "code",
   "execution_count": 11,
   "id": "2f5b960f",
   "metadata": {
    "execution": {
     "iopub.execute_input": "2023-06-19T14:06:37.469480Z",
     "iopub.status.busy": "2023-06-19T14:06:37.469323Z",
     "iopub.status.idle": "2023-06-19T14:06:42.677925Z",
     "shell.execute_reply": "2023-06-19T14:06:42.677504Z"
    },
    "lines_to_next_cell": 0,
    "papermill": {
     "duration": 5.212553,
     "end_time": "2023-06-19T14:06:42.679397",
     "exception": false,
     "start_time": "2023-06-19T14:06:37.466844",
     "status": "completed"
    },
    "tags": []
   },
   "outputs": [
    {
     "data": {
      "text/html": [
       "<style>#sk-container-id-1 {color: black;background-color: white;}#sk-container-id-1 pre{padding: 0;}#sk-container-id-1 div.sk-toggleable {background-color: white;}#sk-container-id-1 label.sk-toggleable__label {cursor: pointer;display: block;width: 100%;margin-bottom: 0;padding: 0.3em;box-sizing: border-box;text-align: center;}#sk-container-id-1 label.sk-toggleable__label-arrow:before {content: \"▸\";float: left;margin-right: 0.25em;color: #696969;}#sk-container-id-1 label.sk-toggleable__label-arrow:hover:before {color: black;}#sk-container-id-1 div.sk-estimator:hover label.sk-toggleable__label-arrow:before {color: black;}#sk-container-id-1 div.sk-toggleable__content {max-height: 0;max-width: 0;overflow: hidden;text-align: left;background-color: #f0f8ff;}#sk-container-id-1 div.sk-toggleable__content pre {margin: 0.2em;color: black;border-radius: 0.25em;background-color: #f0f8ff;}#sk-container-id-1 input.sk-toggleable__control:checked~div.sk-toggleable__content {max-height: 200px;max-width: 100%;overflow: auto;}#sk-container-id-1 input.sk-toggleable__control:checked~label.sk-toggleable__label-arrow:before {content: \"▾\";}#sk-container-id-1 div.sk-estimator input.sk-toggleable__control:checked~label.sk-toggleable__label {background-color: #d4ebff;}#sk-container-id-1 div.sk-label input.sk-toggleable__control:checked~label.sk-toggleable__label {background-color: #d4ebff;}#sk-container-id-1 input.sk-hidden--visually {border: 0;clip: rect(1px 1px 1px 1px);clip: rect(1px, 1px, 1px, 1px);height: 1px;margin: -1px;overflow: hidden;padding: 0;position: absolute;width: 1px;}#sk-container-id-1 div.sk-estimator {font-family: monospace;background-color: #f0f8ff;border: 1px dotted black;border-radius: 0.25em;box-sizing: border-box;margin-bottom: 0.5em;}#sk-container-id-1 div.sk-estimator:hover {background-color: #d4ebff;}#sk-container-id-1 div.sk-parallel-item::after {content: \"\";width: 100%;border-bottom: 1px solid gray;flex-grow: 1;}#sk-container-id-1 div.sk-label:hover label.sk-toggleable__label {background-color: #d4ebff;}#sk-container-id-1 div.sk-serial::before {content: \"\";position: absolute;border-left: 1px solid gray;box-sizing: border-box;top: 0;bottom: 0;left: 50%;z-index: 0;}#sk-container-id-1 div.sk-serial {display: flex;flex-direction: column;align-items: center;background-color: white;padding-right: 0.2em;padding-left: 0.2em;position: relative;}#sk-container-id-1 div.sk-item {position: relative;z-index: 1;}#sk-container-id-1 div.sk-parallel {display: flex;align-items: stretch;justify-content: center;background-color: white;position: relative;}#sk-container-id-1 div.sk-item::before, #sk-container-id-1 div.sk-parallel-item::before {content: \"\";position: absolute;border-left: 1px solid gray;box-sizing: border-box;top: 0;bottom: 0;left: 50%;z-index: -1;}#sk-container-id-1 div.sk-parallel-item {display: flex;flex-direction: column;z-index: 1;position: relative;background-color: white;}#sk-container-id-1 div.sk-parallel-item:first-child::after {align-self: flex-end;width: 50%;}#sk-container-id-1 div.sk-parallel-item:last-child::after {align-self: flex-start;width: 50%;}#sk-container-id-1 div.sk-parallel-item:only-child::after {width: 0;}#sk-container-id-1 div.sk-dashed-wrapped {border: 1px dashed gray;margin: 0 0.4em 0.5em 0.4em;box-sizing: border-box;padding-bottom: 0.4em;background-color: white;}#sk-container-id-1 div.sk-label label {font-family: monospace;font-weight: bold;display: inline-block;line-height: 1.2em;}#sk-container-id-1 div.sk-label-container {text-align: center;}#sk-container-id-1 div.sk-container {/* jupyter's `normalize.less` sets `[hidden] { display: none; }` but bootstrap.min.css set `[hidden] { display: none !important; }` so we also need the `!important` here to be able to override the default hidden behavior on the sphinx rendered scikit-learn.org. See: https://github.com/scikit-learn/scikit-learn/issues/21755 */display: inline-block !important;position: relative;}#sk-container-id-1 div.sk-text-repr-fallback {display: none;}</style><div id=\"sk-container-id-1\" class=\"sk-top-container\"><div class=\"sk-text-repr-fallback\"><pre>RandomForestClassifier(n_estimators=500, random_state=0)</pre><b>In a Jupyter environment, please rerun this cell to show the HTML representation or trust the notebook. <br />On GitHub, the HTML representation is unable to render, please try loading this page with nbviewer.org.</b></div><div class=\"sk-container\" hidden><div class=\"sk-item\"><div class=\"sk-estimator sk-toggleable\"><input class=\"sk-toggleable__control sk-hidden--visually\" id=\"sk-estimator-id-1\" type=\"checkbox\" checked><label for=\"sk-estimator-id-1\" class=\"sk-toggleable__label sk-toggleable__label-arrow\">RandomForestClassifier</label><div class=\"sk-toggleable__content\"><pre>RandomForestClassifier(n_estimators=500, random_state=0)</pre></div></div></div></div></div>"
      ],
      "text/plain": [
       "RandomForestClassifier(n_estimators=500, random_state=0)"
      ]
     },
     "execution_count": 11,
     "metadata": {},
     "output_type": "execute_result"
    }
   ],
   "source": [
    "model.fit(X_train, y_train)"
   ]
  },
  {
   "cell_type": "code",
   "execution_count": 12,
   "id": "e1d30c0d",
   "metadata": {
    "execution": {
     "iopub.execute_input": "2023-06-19T14:06:42.685528Z",
     "iopub.status.busy": "2023-06-19T14:06:42.685198Z",
     "iopub.status.idle": "2023-06-19T14:06:42.801756Z",
     "shell.execute_reply": "2023-06-19T14:06:42.801352Z"
    },
    "papermill": {
     "duration": 0.120837,
     "end_time": "2023-06-19T14:06:42.803098",
     "exception": false,
     "start_time": "2023-06-19T14:06:42.682261",
     "status": "completed"
    },
    "tags": []
   },
   "outputs": [
    {
     "data": {
      "text/plain": [
       "12894"
      ]
     },
     "execution_count": 12,
     "metadata": {},
     "output_type": "execute_result"
    }
   ],
   "source": [
    "Path(product['result']).write_text(json.dumps({'target': {index: int(i) for index, i in enumerate(model.predict(X_test))}}))"
   ]
  }
 ],
 "metadata": {
  "jupytext": {
   "cell_metadata_filter": "tags,-all",
   "main_language": "python",
   "notebook_metadata_filter": "-all",
   "text_representation": {
    "extension": ".py",
    "format_name": "percent"
   }
  },
  "kernelspec": {
   "display_name": "Python 3 (ipykernel)",
   "language": "python",
   "name": "python3"
  },
  "language_info": {
   "codemirror_mode": {
    "name": "ipython",
    "version": 3
   },
   "file_extension": ".py",
   "mimetype": "text/x-python",
   "name": "python",
   "nbconvert_exporter": "python",
   "pygments_lexer": "ipython3",
   "version": "3.9.6"
  },
  "papermill": {
   "duration": 8.17149,
   "end_time": "2023-06-19T14:06:43.024753",
   "exception": null,
   "input_path": "/var/folders/s5/_7d__r0n05g6qm5_92lpp99m0000gn/T/tmpzkgdp30q.ipynb",
   "output_path": "/Users/bruno/Documents/Hackaton_danone/output/train_rf.ipynb",
   "parameters": {
    "product": {
     "nb": "/Users/bruno/Documents/Hackaton_danone/output/train_rf.ipynb",
     "result": "/Users/bruno/Documents/Hackaton_danone/predictions/result_rf.json"
    },
    "upstream": {
     "Preprocess features": {
      "nb": "/Users/bruno/Documents/Hackaton_danone/output/process_data.ipynb",
      "test_csv": "/Users/bruno/Documents/Hackaton_danone/data/test.csv",
      "train_csv": "/Users/bruno/Documents/Hackaton_danone/data/train.csv"
     }
    }
   },
   "start_time": "2023-06-19T14:06:34.853263"
  }
 },
 "nbformat": 4,
 "nbformat_minor": 5
}