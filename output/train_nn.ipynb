{
 "cells": [
  {
   "cell_type": "code",
   "execution_count": 1,
   "id": "ebe07e3e",
   "metadata": {
    "execution": {
     "iopub.execute_input": "2023-06-19T14:47:45.508658Z",
     "iopub.status.busy": "2023-06-19T14:47:45.508373Z",
     "iopub.status.idle": "2023-06-19T14:47:45.517712Z",
     "shell.execute_reply": "2023-06-19T14:47:45.517215Z"
    },
    "lines_to_next_cell": 0,
    "papermill": {
     "duration": 0.020138,
     "end_time": "2023-06-19T14:47:45.519466",
     "exception": false,
     "start_time": "2023-06-19T14:47:45.499328",
     "status": "completed"
    },
    "tags": [
     "parameters"
    ]
   },
   "outputs": [],
   "source": [
    "upstream = None\n",
    "product = None"
   ]
  },
  {
   "cell_type": "code",
   "execution_count": 2,
   "id": "13f82e10",
   "metadata": {
    "execution": {
     "iopub.execute_input": "2023-06-19T14:47:45.526450Z",
     "iopub.status.busy": "2023-06-19T14:47:45.526192Z",
     "iopub.status.idle": "2023-06-19T14:47:45.529661Z",
     "shell.execute_reply": "2023-06-19T14:47:45.529111Z"
    },
    "papermill": {
     "duration": 0.008259,
     "end_time": "2023-06-19T14:47:45.531102",
     "exception": false,
     "start_time": "2023-06-19T14:47:45.522843",
     "status": "completed"
    },
    "tags": [
     "injected-parameters"
    ]
   },
   "outputs": [],
   "source": [
    "# Parameters\n",
    "upstream = {\"Preprocess features\": {\"nb\": \"/Users/bruno/Documents/Hackaton_danone/output/process_data.ipynb\", \"train_csv\": \"/Users/bruno/Documents/Hackaton_danone/data/train.csv\", \"test_csv\": \"/Users/bruno/Documents/Hackaton_danone/data/test.csv\"}}\n",
    "product = {\"nb\": \"/Users/bruno/Documents/Hackaton_danone/output/train_nn.ipynb\", \"result\": \"/Users/bruno/Documents/Hackaton_danone/predictions/result_nn.json\"}\n"
   ]
  },
  {
   "cell_type": "code",
   "execution_count": 3,
   "id": "8b8a2dde",
   "metadata": {
    "execution": {
     "iopub.execute_input": "2023-06-19T14:47:45.536238Z",
     "iopub.status.busy": "2023-06-19T14:47:45.535900Z",
     "iopub.status.idle": "2023-06-19T14:47:45.616845Z",
     "shell.execute_reply": "2023-06-19T14:47:45.616008Z"
    },
    "lines_to_next_cell": 0,
    "papermill": {
     "duration": 0.086288,
     "end_time": "2023-06-19T14:47:45.619623",
     "exception": false,
     "start_time": "2023-06-19T14:47:45.533335",
     "status": "completed"
    },
    "tags": []
   },
   "outputs": [],
   "source": [
    "import json\n",
    "import pickle\n",
    "import warnings\n",
    "from pathlib import Path\n",
    "\n",
    "import numpy as np"
   ]
  },
  {
   "cell_type": "code",
   "execution_count": 4,
   "id": "dbc1d270",
   "metadata": {
    "execution": {
     "iopub.execute_input": "2023-06-19T14:47:45.629416Z",
     "iopub.status.busy": "2023-06-19T14:47:45.628945Z",
     "iopub.status.idle": "2023-06-19T14:47:47.307401Z",
     "shell.execute_reply": "2023-06-19T14:47:47.306877Z"
    },
    "lines_to_next_cell": 0,
    "papermill": {
     "duration": 1.685005,
     "end_time": "2023-06-19T14:47:47.308980",
     "exception": false,
     "start_time": "2023-06-19T14:47:45.623975",
     "status": "completed"
    },
    "tags": []
   },
   "outputs": [],
   "source": [
    "import pandas as pd\n",
    "import torch\n",
    "import torch.nn as nn\n",
    "from torch import optim\n",
    "from torch.utils.data import DataLoader, TensorDataset\n",
    "from torch.optim.lr_scheduler import StepLR, ExponentialLR, ReduceLROnPlateau\n",
    "from torchmetrics import F1Score\n",
    "\n",
    "warnings.filterwarnings('ignore')"
   ]
  },
  {
   "cell_type": "code",
   "execution_count": 5,
   "id": "7a2c19cf",
   "metadata": {
    "execution": {
     "iopub.execute_input": "2023-06-19T14:47:47.313611Z",
     "iopub.status.busy": "2023-06-19T14:47:47.313385Z",
     "iopub.status.idle": "2023-06-19T14:47:47.316010Z",
     "shell.execute_reply": "2023-06-19T14:47:47.315592Z"
    },
    "papermill": {
     "duration": 0.006273,
     "end_time": "2023-06-19T14:47:47.317270",
     "exception": false,
     "start_time": "2023-06-19T14:47:47.310997",
     "status": "completed"
    },
    "tags": []
   },
   "outputs": [],
   "source": [
    "cols = ['is_beverage', 'non_recyclable_and_non_biodegradable_materials_count', \n",
    "        'est_co2_agriculture', 'est_co2_consumption', \n",
    "        'est_co2_distribution', 'est_co2_packaging', 'est_co2_processing', \n",
    "        'est_co2_transportation']\n",
    "target_col = 'ecoscore_grade'"
   ]
  },
  {
   "cell_type": "code",
   "execution_count": 6,
   "id": "2bb164ad",
   "metadata": {
    "execution": {
     "iopub.execute_input": "2023-06-19T14:47:47.322081Z",
     "iopub.status.busy": "2023-06-19T14:47:47.321859Z",
     "iopub.status.idle": "2023-06-19T14:47:47.574067Z",
     "shell.execute_reply": "2023-06-19T14:47:47.573666Z"
    },
    "papermill": {
     "duration": 0.256377,
     "end_time": "2023-06-19T14:47:47.575587",
     "exception": false,
     "start_time": "2023-06-19T14:47:47.319210",
     "status": "completed"
    },
    "tags": []
   },
   "outputs": [],
   "source": [
    "train = pd.read_csv(upstream['Preprocess features']['train_csv'], usecols=cols + [target_col])\n",
    "test = pd.read_csv(upstream['Preprocess features']['test_csv'], usecols=cols)"
   ]
  },
  {
   "cell_type": "code",
   "execution_count": 7,
   "id": "564a0d57",
   "metadata": {
    "execution": {
     "iopub.execute_input": "2023-06-19T14:47:47.582416Z",
     "iopub.status.busy": "2023-06-19T14:47:47.582192Z",
     "iopub.status.idle": "2023-06-19T14:47:47.592428Z",
     "shell.execute_reply": "2023-06-19T14:47:47.591980Z"
    },
    "papermill": {
     "duration": 0.016275,
     "end_time": "2023-06-19T14:47:47.594118",
     "exception": false,
     "start_time": "2023-06-19T14:47:47.577843",
     "status": "completed"
    },
    "tags": []
   },
   "outputs": [],
   "source": [
    "X_train, y_train = train[cols], train[target_col]\n",
    "X_test = test[cols]\n",
    "for i in cols:\n",
    "    X_train[i] = X_train[i].astype(float)\n",
    "    X_test[i] = X_test[i].astype(float)"
   ]
  },
  {
   "cell_type": "code",
   "execution_count": 8,
   "id": "ee619665",
   "metadata": {
    "execution": {
     "iopub.execute_input": "2023-06-19T14:47:47.599013Z",
     "iopub.status.busy": "2023-06-19T14:47:47.598804Z",
     "iopub.status.idle": "2023-06-19T14:47:47.610080Z",
     "shell.execute_reply": "2023-06-19T14:47:47.609596Z"
    },
    "lines_to_next_cell": 1,
    "papermill": {
     "duration": 0.015276,
     "end_time": "2023-06-19T14:47:47.611534",
     "exception": false,
     "start_time": "2023-06-19T14:47:47.596258",
     "status": "completed"
    },
    "tags": []
   },
   "outputs": [],
   "source": [
    "batch_size = 32 * 2\n",
    "train_loader = DataLoader(\n",
    "    TensorDataset(torch.tensor(X_train.values, dtype=torch.float32), \n",
    "                  torch.tensor(y_train.values, dtype=torch.float32)), \n",
    "    batch_size=batch_size, shuffle=True,\n",
    ")\n",
    "\n",
    "class Net(nn.Module):\n",
    "    activation_function: nn.modules.activation = None\n",
    "\n",
    "    def __init__(self, input_shape, output_shape, activation_function, hidden_layers: list = [160], dropout=0.6):\n",
    "        super(Net, self).__init__()\n",
    "\n",
    "        activation_function = getattr(nn, activation_function)\n",
    "        layers = []\n",
    "        hidden_layers.insert(0, input_shape)\n",
    "        for i, n in enumerate(hidden_layers[0:-1]):\n",
    "            m = int(hidden_layers[i + 1])\n",
    "            layers.append(nn.Linear(n, m))\n",
    "            layers.append(nn.BatchNorm1d(m))\n",
    "            layers.append(nn.Dropout(dropout))\n",
    "            layers.append(activation_function())\n",
    "        layers.append(nn.Linear(hidden_layers[-1], output_shape))\n",
    "        layers.append(nn.Sigmoid())\n",
    "        layers = nn.Sequential(*layers)\n",
    "        self.layers = layers\n",
    "    def forward(self, x):\n",
    "        x = self.layers(x)\n",
    "        return x\n",
    "\n",
    "    def predict(self, x):\n",
    "        x = torch.from_numpy(x).float().to(\"cpu\")\n",
    "        outputs = self(x)\n",
    "        return outputs"
   ]
  },
  {
   "cell_type": "code",
   "execution_count": 9,
   "id": "a3170fdf",
   "metadata": {
    "execution": {
     "iopub.execute_input": "2023-06-19T14:47:47.616370Z",
     "iopub.status.busy": "2023-06-19T14:47:47.616070Z",
     "iopub.status.idle": "2023-06-19T14:47:47.631817Z",
     "shell.execute_reply": "2023-06-19T14:47:47.631422Z"
    },
    "lines_to_next_cell": 0,
    "papermill": {
     "duration": 0.019485,
     "end_time": "2023-06-19T14:47:47.633145",
     "exception": false,
     "start_time": "2023-06-19T14:47:47.613660",
     "status": "completed"
    },
    "tags": []
   },
   "outputs": [],
   "source": [
    "metric_f1 = F1Score(task='multiclass',num_classes=len(y_train.unique()), average=\"weighted\", multiclass=True)\n",
    "network = Net(X_train.shape[1], len(y_train.unique()), 'ReLU6', [128, 64, 32, 16])\n",
    "optimizer = optim.Adam(network.parameters(), lr=0.05)\n",
    "criterion = nn.CrossEntropyLoss()\n",
    "scheduler = ReduceLROnPlateau(optimizer, \"max\", factor=0.9)\n",
    "epochs = 100"
   ]
  },
  {
   "cell_type": "code",
   "execution_count": 10,
   "id": "1f9edb55",
   "metadata": {
    "execution": {
     "iopub.execute_input": "2023-06-19T14:47:47.637959Z",
     "iopub.status.busy": "2023-06-19T14:47:47.637789Z",
     "iopub.status.idle": "2023-06-19T14:50:02.862087Z",
     "shell.execute_reply": "2023-06-19T14:50:02.861648Z"
    },
    "papermill": {
     "duration": 135.228162,
     "end_time": "2023-06-19T14:50:02.863470",
     "exception": false,
     "start_time": "2023-06-19T14:47:47.635308",
     "status": "completed"
    },
    "tags": []
   },
   "outputs": [
    {
     "name": "stdout",
     "output_type": "stream",
     "text": [
      "Epoch: 0 | F1: 0.4339703854424822 | Loss: 1.3191137123692986\n"
     ]
    },
    {
     "name": "stdout",
     "output_type": "stream",
     "text": [
      "Epoch: 1 | F1: 0.4400420591143743 | Loss: 1.2859564313859295\n"
     ]
    },
    {
     "name": "stdout",
     "output_type": "stream",
     "text": [
      "Epoch: 2 | F1: 0.4347983718466905 | Loss: 1.282749178950772\n"
     ]
    },
    {
     "name": "stdout",
     "output_type": "stream",
     "text": [
      "Epoch: 3 | F1: 0.43011116547270056 | Loss: 1.2797922195832423\n"
     ]
    },
    {
     "name": "stdout",
     "output_type": "stream",
     "text": [
      "Epoch: 4 | F1: 0.42188831670152627 | Loss: 1.2829777843381729\n"
     ]
    },
    {
     "name": "stdout",
     "output_type": "stream",
     "text": [
      "Epoch: 5 | F1: 0.41246417626464293 | Loss: 1.2980497965783429\n"
     ]
    },
    {
     "name": "stdout",
     "output_type": "stream",
     "text": [
      "Epoch: 6 | F1: 0.41717854503290785 | Loss: 1.2932448518788155\n"
     ]
    },
    {
     "name": "stdout",
     "output_type": "stream",
     "text": [
      "Epoch: 7 | F1: 0.4181084892501129 | Loss: 1.2920946848173083\n"
     ]
    },
    {
     "name": "stdout",
     "output_type": "stream",
     "text": [
      "Epoch: 8 | F1: 0.4193991836777494 | Loss: 1.2876636261588956\n"
     ]
    },
    {
     "name": "stdout",
     "output_type": "stream",
     "text": [
      "Epoch: 9 | F1: 0.4246303115062918 | Loss: 1.279106532137818\n"
     ]
    },
    {
     "name": "stdout",
     "output_type": "stream",
     "text": [
      "Epoch: 10 | F1: 0.4228222886660348 | Loss: 1.2834293037835807\n"
     ]
    },
    {
     "name": "stdout",
     "output_type": "stream",
     "text": [
      "Epoch: 11 | F1: 0.4232635806126097 | Loss: 1.2857409050128212\n"
     ]
    },
    {
     "name": "stdout",
     "output_type": "stream",
     "text": [
      "Epoch: 12 | F1: 0.4254309602218903 | Loss: 1.2893724792574082\n"
     ]
    },
    {
     "name": "stdout",
     "output_type": "stream",
     "text": [
      "Epoch: 13 | F1: 0.4167999563955822 | Loss: 1.290475544388309\n"
     ]
    },
    {
     "name": "stdout",
     "output_type": "stream",
     "text": [
      "Epoch: 14 | F1: 0.4232847837765524 | Loss: 1.2898297854727763\n"
     ]
    },
    {
     "name": "stdout",
     "output_type": "stream",
     "text": [
      "Epoch: 15 | F1: 0.41781305617715686 | Loss: 1.2938252226706664\n"
     ]
    },
    {
     "name": "stdout",
     "output_type": "stream",
     "text": [
      "Epoch: 16 | F1: 0.42023538441562946 | Loss: 1.2881062264822742\n"
     ]
    },
    {
     "name": "stdout",
     "output_type": "stream",
     "text": [
      "Epoch: 17 | F1: 0.42275337564067605 | Loss: 1.281717264213445\n"
     ]
    },
    {
     "name": "stdout",
     "output_type": "stream",
     "text": [
      "Epoch: 18 | F1: 0.4232753379944643 | Loss: 1.2878269472736523\n"
     ]
    },
    {
     "name": "stdout",
     "output_type": "stream",
     "text": [
      "Epoch: 19 | F1: 0.42975569786103957 | Loss: 1.2806048276234259\n"
     ]
    },
    {
     "name": "stdout",
     "output_type": "stream",
     "text": [
      "Epoch: 20 | F1: 0.42666040242083964 | Loss: 1.2808778307920585\n"
     ]
    },
    {
     "name": "stdout",
     "output_type": "stream",
     "text": [
      "Epoch: 21 | F1: 0.4249534210635841 | Loss: 1.283187209462827\n"
     ]
    },
    {
     "name": "stdout",
     "output_type": "stream",
     "text": [
      "Epoch: 22 | F1: 0.4144288653427838 | Loss: 1.2872610359104133\n"
     ]
    },
    {
     "name": "stdout",
     "output_type": "stream",
     "text": [
      "Epoch: 23 | F1: 0.4089890743142988 | Loss: 1.2877621625098714\n"
     ]
    },
    {
     "name": "stdout",
     "output_type": "stream",
     "text": [
      "Epoch: 24 | F1: 0.4082118851915459 | Loss: 1.2885549580392661\n"
     ]
    },
    {
     "name": "stdout",
     "output_type": "stream",
     "text": [
      "Epoch: 25 | F1: 0.41128326728482917 | Loss: 1.284355735851943\n"
     ]
    },
    {
     "name": "stdout",
     "output_type": "stream",
     "text": [
      "Epoch: 26 | F1: 0.41125932290144496 | Loss: 1.2909192647670675\n"
     ]
    },
    {
     "name": "stdout",
     "output_type": "stream",
     "text": [
      "Epoch: 27 | F1: 0.41132676016333647 | Loss: 1.2835557628994338\n"
     ]
    },
    {
     "name": "stdout",
     "output_type": "stream",
     "text": [
      "Epoch: 28 | F1: 0.4020305773688972 | Loss: 1.287882030375896\n"
     ]
    },
    {
     "name": "stdout",
     "output_type": "stream",
     "text": [
      "Epoch: 29 | F1: 0.4078982959678568 | Loss: 1.2852535642729215\n"
     ]
    },
    {
     "name": "stdout",
     "output_type": "stream",
     "text": [
      "Epoch: 30 | F1: 0.40616464980540834 | Loss: 1.2986034235339954\n"
     ]
    },
    {
     "name": "stdout",
     "output_type": "stream",
     "text": [
      "Epoch: 31 | F1: 0.4076028972681315 | Loss: 1.2978197855452087\n"
     ]
    },
    {
     "name": "stdout",
     "output_type": "stream",
     "text": [
      "Epoch: 32 | F1: 0.4095580335135109 | Loss: 1.292257293601709\n"
     ]
    },
    {
     "name": "stdout",
     "output_type": "stream",
     "text": [
      "Epoch: 33 | F1: 0.41520243503747545 | Loss: 1.2891491995267341\n"
     ]
    },
    {
     "name": "stdout",
     "output_type": "stream",
     "text": [
      "Epoch: 34 | F1: 0.4122244321678314 | Loss: 1.2909807603052057\n"
     ]
    },
    {
     "name": "stdout",
     "output_type": "stream",
     "text": [
      "Epoch: 35 | F1: 0.41376658734734073 | Loss: 1.2865291373130003\n"
     ]
    },
    {
     "name": "stdout",
     "output_type": "stream",
     "text": [
      "Epoch: 36 | F1: 0.4064012315192837 | Loss: 1.2884641721204746\n"
     ]
    },
    {
     "name": "stdout",
     "output_type": "stream",
     "text": [
      "Epoch: 37 | F1: 0.40852162685313836 | Loss: 1.291779813225284\n"
     ]
    },
    {
     "name": "stdout",
     "output_type": "stream",
     "text": [
      "Epoch: 38 | F1: 0.40822316185097024 | Loss: 1.2942101169217584\n"
     ]
    },
    {
     "name": "stdout",
     "output_type": "stream",
     "text": [
      "Epoch: 39 | F1: 0.4206732454841122 | Loss: 1.2896124753483966\n"
     ]
    },
    {
     "name": "stdout",
     "output_type": "stream",
     "text": [
      "Epoch: 40 | F1: 0.4176300546508625 | Loss: 1.2956587072530408\n"
     ]
    },
    {
     "name": "stdout",
     "output_type": "stream",
     "text": [
      "Epoch: 41 | F1: 0.4051065247483049 | Loss: 1.2956952953631162\n"
     ]
    },
    {
     "name": "stdout",
     "output_type": "stream",
     "text": [
      "Epoch: 42 | F1: 0.404905016619735 | Loss: 1.295005020919753\n"
     ]
    },
    {
     "name": "stdout",
     "output_type": "stream",
     "text": [
      "Epoch: 43 | F1: 0.40912325575124997 | Loss: 1.289775189812198\n"
     ]
    },
    {
     "name": "stdout",
     "output_type": "stream",
     "text": [
      "Epoch: 44 | F1: 0.4144804749203606 | Loss: 1.286235747527491\n"
     ]
    },
    {
     "name": "stdout",
     "output_type": "stream",
     "text": [
      "Epoch: 45 | F1: 0.42249552178785116 | Loss: 1.286019746876933\n"
     ]
    },
    {
     "name": "stdout",
     "output_type": "stream",
     "text": [
      "Epoch: 46 | F1: 0.4141032292159057 | Loss: 1.2887187611105984\n"
     ]
    },
    {
     "name": "stdout",
     "output_type": "stream",
     "text": [
      "Epoch: 47 | F1: 0.40968245372998935 | Loss: 1.2906464799050172\n"
     ]
    },
    {
     "name": "stdout",
     "output_type": "stream",
     "text": [
      "Epoch: 48 | F1: 0.4146152232413643 | Loss: 1.295306913326123\n"
     ]
    },
    {
     "name": "stdout",
     "output_type": "stream",
     "text": [
      "Epoch: 49 | F1: 0.41030755712210765 | Loss: 1.291057440400855\n"
     ]
    },
    {
     "name": "stdout",
     "output_type": "stream",
     "text": [
      "Epoch: 50 | F1: 0.41590185221170356 | Loss: 1.295539952860288\n"
     ]
    },
    {
     "name": "stdout",
     "output_type": "stream",
     "text": [
      "Epoch: 51 | F1: 0.4051844784361453 | Loss: 1.30035072053137\n"
     ]
    },
    {
     "name": "stdout",
     "output_type": "stream",
     "text": [
      "Epoch: 52 | F1: 0.40925992106550313 | Loss: 1.2947498186965662\n"
     ]
    },
    {
     "name": "stdout",
     "output_type": "stream",
     "text": [
      "Epoch: 53 | F1: 0.4050865892800817 | Loss: 1.298428317520516\n"
     ]
    },
    {
     "name": "stdout",
     "output_type": "stream",
     "text": [
      "Epoch: 54 | F1: 0.40552991226406915 | Loss: 1.3013780863007154\n"
     ]
    },
    {
     "name": "stdout",
     "output_type": "stream",
     "text": [
      "Epoch: 55 | F1: 0.4073712626940634 | Loss: 1.2932933323953781\n"
     ]
    },
    {
     "name": "stdout",
     "output_type": "stream",
     "text": [
      "Epoch: 56 | F1: 0.4070980198269973 | Loss: 1.2954531421690632\n"
     ]
    },
    {
     "name": "stdout",
     "output_type": "stream",
     "text": [
      "Epoch: 57 | F1: 0.4151988059190885 | Loss: 1.2924534616294814\n"
     ]
    },
    {
     "name": "stdout",
     "output_type": "stream",
     "text": [
      "Epoch: 58 | F1: 0.4162863535932237 | Loss: 1.2930895141297323\n"
     ]
    },
    {
     "name": "stdout",
     "output_type": "stream",
     "text": [
      "Epoch: 59 | F1: 0.41396120026067723 | Loss: 1.3000896664484878\n"
     ]
    },
    {
     "name": "stdout",
     "output_type": "stream",
     "text": [
      "Epoch: 60 | F1: 0.41340630460370537 | Loss: 1.2894692461183466\n"
     ]
    },
    {
     "name": "stdout",
     "output_type": "stream",
     "text": [
      "Epoch: 61 | F1: 0.40640906861589 | Loss: 1.2974081639131885\n"
     ]
    },
    {
     "name": "stdout",
     "output_type": "stream",
     "text": [
      "Epoch: 62 | F1: 0.40327009010168674 | Loss: 1.2980125491604484\n"
     ]
    },
    {
     "name": "stdout",
     "output_type": "stream",
     "text": [
      "Epoch: 63 | F1: 0.40923169913467455 | Loss: 1.2990687807644803\n"
     ]
    },
    {
     "name": "stdout",
     "output_type": "stream",
     "text": [
      "Epoch: 64 | F1: 0.4041818040737345 | Loss: 1.305819995198513\n"
     ]
    },
    {
     "name": "stdout",
     "output_type": "stream",
     "text": [
      "Epoch: 65 | F1: 0.40966483246695046 | Loss: 1.2992000645655064\n"
     ]
    },
    {
     "name": "stdout",
     "output_type": "stream",
     "text": [
      "Epoch: 66 | F1: 0.40849307631970916 | Loss: 1.3018693199918314\n"
     ]
    },
    {
     "name": "stdout",
     "output_type": "stream",
     "text": [
      "Epoch: 67 | F1: 0.41650052597186316 | Loss: 1.3031268595186478\n"
     ]
    },
    {
     "name": "stdout",
     "output_type": "stream",
     "text": [
      "Epoch: 68 | F1: 0.4195278922290158 | Loss: 1.2997423392132017\n"
     ]
    },
    {
     "name": "stdout",
     "output_type": "stream",
     "text": [
      "Epoch: 69 | F1: 0.40786249405401614 | Loss: 1.303569361476079\n"
     ]
    },
    {
     "name": "stdout",
     "output_type": "stream",
     "text": [
      "Epoch: 70 | F1: 0.4041309158769122 | Loss: 1.3002248618500365\n"
     ]
    },
    {
     "name": "stdout",
     "output_type": "stream",
     "text": [
      "Epoch: 71 | F1: 0.41125878897364154 | Loss: 1.3043635337630664\n"
     ]
    },
    {
     "name": "stdout",
     "output_type": "stream",
     "text": [
      "Epoch: 72 | F1: 0.41226547759917614 | Loss: 1.3066065296804978\n"
     ]
    },
    {
     "name": "stdout",
     "output_type": "stream",
     "text": [
      "Epoch: 73 | F1: 0.40708258505796363 | Loss: 1.3091864220203797\n"
     ]
    },
    {
     "name": "stdout",
     "output_type": "stream",
     "text": [
      "Epoch: 74 | F1: 0.40936624135342115 | Loss: 1.3056957557157505\n"
     ]
    },
    {
     "name": "stdout",
     "output_type": "stream",
     "text": [
      "Epoch: 75 | F1: 0.41457768401668116 | Loss: 1.3070397600074488\n"
     ]
    },
    {
     "name": "stdout",
     "output_type": "stream",
     "text": [
      "Epoch: 76 | F1: 0.41439288895737175 | Loss: 1.3056202702727056\n"
     ]
    },
    {
     "name": "stdout",
     "output_type": "stream",
     "text": [
      "Epoch: 77 | F1: 0.4175672034270193 | Loss: 1.3001408763458393\n"
     ]
    },
    {
     "name": "stdout",
     "output_type": "stream",
     "text": [
      "Epoch: 78 | F1: 0.42022971822623095 | Loss: 1.2990057219756892\n"
     ]
    },
    {
     "name": "stdout",
     "output_type": "stream",
     "text": [
      "Epoch: 79 | F1: 0.42346190460071975 | Loss: 1.2969721204664078\n"
     ]
    },
    {
     "name": "stdout",
     "output_type": "stream",
     "text": [
      "Epoch: 80 | F1: 0.42566310902314686 | Loss: 1.2956509001415932\n"
     ]
    },
    {
     "name": "stdout",
     "output_type": "stream",
     "text": [
      "Epoch: 81 | F1: 0.42840596800384345 | Loss: 1.295864834375908\n"
     ]
    },
    {
     "name": "stdout",
     "output_type": "stream",
     "text": [
      "Epoch: 82 | F1: 0.4273324811294035 | Loss: 1.297918755583968\n"
     ]
    },
    {
     "name": "stdout",
     "output_type": "stream",
     "text": [
      "Epoch: 83 | F1: 0.4286321455532788 | Loss: 1.2995033560355016\n"
     ]
    },
    {
     "name": "stdout",
     "output_type": "stream",
     "text": [
      "Epoch: 84 | F1: 0.42962798951593645 | Loss: 1.3030638691106458\n"
     ]
    },
    {
     "name": "stdout",
     "output_type": "stream",
     "text": [
      "Epoch: 85 | F1: 0.4199996534849237 | Loss: 1.3044345894474194\n"
     ]
    },
    {
     "name": "stdout",
     "output_type": "stream",
     "text": [
      "Epoch: 86 | F1: 0.4257920027876193 | Loss: 1.3032960489483698\n"
     ]
    },
    {
     "name": "stdout",
     "output_type": "stream",
     "text": [
      "Epoch: 87 | F1: 0.4276975197660411 | Loss: 1.2971843206809341\n"
     ]
    },
    {
     "name": "stdout",
     "output_type": "stream",
     "text": [
      "Epoch: 88 | F1: 0.42975108252346883 | Loss: 1.291682991879118\n"
     ]
    },
    {
     "name": "stdout",
     "output_type": "stream",
     "text": [
      "Epoch: 89 | F1: 0.42774776346478727 | Loss: 1.2949159847446745\n"
     ]
    },
    {
     "name": "stdout",
     "output_type": "stream",
     "text": [
      "Epoch: 90 | F1: 0.42962270668862057 | Loss: 1.2950014629246998\n"
     ]
    },
    {
     "name": "stdout",
     "output_type": "stream",
     "text": [
      "Epoch: 91 | F1: 0.4381303079197743 | Loss: 1.2903768789548815\n"
     ]
    },
    {
     "name": "stdout",
     "output_type": "stream",
     "text": [
      "Epoch: 92 | F1: 0.42791688492510216 | Loss: 1.2950476850468688\n"
     ]
    },
    {
     "name": "stdout",
     "output_type": "stream",
     "text": [
      "Epoch: 93 | F1: 0.42060510192546374 | Loss: 1.3001205050872147\n"
     ]
    },
    {
     "name": "stdout",
     "output_type": "stream",
     "text": [
      "Epoch: 94 | F1: 0.4187040776471419 | Loss: 1.3044717074171897\n"
     ]
    },
    {
     "name": "stdout",
     "output_type": "stream",
     "text": [
      "Epoch: 95 | F1: 0.41900136175513997 | Loss: 1.3086167157061992\n"
     ]
    },
    {
     "name": "stdout",
     "output_type": "stream",
     "text": [
      "Epoch: 96 | F1: 0.4105415226308846 | Loss: 1.3105753115349752\n"
     ]
    },
    {
     "name": "stdout",
     "output_type": "stream",
     "text": [
      "Epoch: 97 | F1: 0.40057195174547794 | Loss: 1.3193431332067478\n"
     ]
    },
    {
     "name": "stdout",
     "output_type": "stream",
     "text": [
      "Epoch: 98 | F1: 0.4006737403434478 | Loss: 1.3298381479239902\n"
     ]
    },
    {
     "name": "stdout",
     "output_type": "stream",
     "text": [
      "Epoch: 99 | F1: 0.3970430259781381 | Loss: 1.3248491148275832\n"
     ]
    }
   ],
   "source": [
    "for epoch in range(epochs):\n",
    "    running_loss = 0\n",
    "    f1 = 0\n",
    "    \n",
    "    for (data, target) in train_loader:\n",
    "        optimizer.zero_grad()\n",
    "        output = network(data)\n",
    "\n",
    "        target = nn.functional.one_hot(target.to(torch.int64), num_classes=len(y_train.unique()))\n",
    "        loss = criterion(output.float(), target.float())\n",
    "\n",
    "        ## Do backward\n",
    "        loss.backward()\n",
    "        optimizer.step()\n",
    "\n",
    "        f1 += metric_f1(torch.argmax(output, axis=1), torch.argmax(target.int(), axis=1)).item()\n",
    "        running_loss += loss.item()\n",
    "    f1 /= len(train_loader)\n",
    "    running_loss /= len(train_loader)\n",
    "    # scheduler.step(f1)\n",
    "    print(f'Epoch: {epoch} | F1: {f1} | Loss: {running_loss}')"
   ]
  },
  {
   "cell_type": "code",
   "execution_count": 11,
   "id": "7c56f350",
   "metadata": {
    "execution": {
     "iopub.execute_input": "2023-06-19T14:50:02.876679Z",
     "iopub.status.busy": "2023-06-19T14:50:02.876477Z",
     "iopub.status.idle": "2023-06-19T14:50:02.885673Z",
     "shell.execute_reply": "2023-06-19T14:50:02.885258Z"
    },
    "papermill": {
     "duration": 0.01745,
     "end_time": "2023-06-19T14:50:02.887114",
     "exception": false,
     "start_time": "2023-06-19T14:50:02.869664",
     "status": "completed"
    },
    "tags": []
   },
   "outputs": [
    {
     "data": {
      "text/plain": [
       "12894"
      ]
     },
     "execution_count": 11,
     "metadata": {},
     "output_type": "execute_result"
    }
   ],
   "source": [
    "network.eval()\n",
    "pred = np.argmax(network.predict(X_test.values).detach().numpy(), axis=1)\n",
    "\n",
    "\n",
    "Path(product['result'])\\\n",
    "    .write_text(json.dumps(\n",
    "        {'target': {index: int(i) \n",
    "                    for index, i in enumerate(pred)}\n",
    "         }))"
   ]
  }
 ],
 "metadata": {
  "jupytext": {
   "cell_metadata_filter": "tags,-all",
   "main_language": "python",
   "notebook_metadata_filter": "-all",
   "text_representation": {
    "extension": ".py",
    "format_name": "percent"
   }
  },
  "kernelspec": {
   "display_name": "Python 3 (ipykernel)",
   "language": "python",
   "name": "python3"
  },
  "language_info": {
   "codemirror_mode": {
    "name": "ipython",
    "version": 3
   },
   "file_extension": ".py",
   "mimetype": "text/x-python",
   "name": "python",
   "nbconvert_exporter": "python",
   "pygments_lexer": "ipython3",
   "version": "3.9.6"
  },
  "papermill": {
   "duration": 138.721719,
   "end_time": "2023-06-19T14:50:03.312897",
   "exception": null,
   "input_path": "/var/folders/s5/_7d__r0n05g6qm5_92lpp99m0000gn/T/tmpkfv3fxb7.ipynb",
   "output_path": "/Users/bruno/Documents/Hackaton_danone/output/train_nn.ipynb",
   "parameters": {
    "product": {
     "nb": "/Users/bruno/Documents/Hackaton_danone/output/train_nn.ipynb",
     "result": "/Users/bruno/Documents/Hackaton_danone/predictions/result_nn.json"
    },
    "upstream": {
     "Preprocess features": {
      "nb": "/Users/bruno/Documents/Hackaton_danone/output/process_data.ipynb",
      "test_csv": "/Users/bruno/Documents/Hackaton_danone/data/test.csv",
      "train_csv": "/Users/bruno/Documents/Hackaton_danone/data/train.csv"
     }
    }
   },
   "start_time": "2023-06-19T14:47:44.591178"
  }
 },
 "nbformat": 4,
 "nbformat_minor": 5
}