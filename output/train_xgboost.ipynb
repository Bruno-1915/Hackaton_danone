{
 "cells": [
  {
   "cell_type": "code",
   "execution_count": 1,
   "id": "afd4d6cd",
   "metadata": {
    "execution": {
     "iopub.execute_input": "2023-06-19T14:05:47.509581Z",
     "iopub.status.busy": "2023-06-19T14:05:47.509215Z",
     "iopub.status.idle": "2023-06-19T14:05:47.518975Z",
     "shell.execute_reply": "2023-06-19T14:05:47.518348Z"
    },
    "lines_to_next_cell": 0,
    "papermill": {
     "duration": 0.016323,
     "end_time": "2023-06-19T14:05:47.521034",
     "exception": false,
     "start_time": "2023-06-19T14:05:47.504711",
     "status": "completed"
    },
    "tags": [
     "parameters"
    ]
   },
   "outputs": [],
   "source": [
    "upstream = None\n",
    "product = None"
   ]
  },
  {
   "cell_type": "code",
   "execution_count": 2,
   "id": "fa0b892d",
   "metadata": {
    "execution": {
     "iopub.execute_input": "2023-06-19T14:05:47.528086Z",
     "iopub.status.busy": "2023-06-19T14:05:47.527817Z",
     "iopub.status.idle": "2023-06-19T14:05:47.531233Z",
     "shell.execute_reply": "2023-06-19T14:05:47.530610Z"
    },
    "papermill": {
     "duration": 0.008665,
     "end_time": "2023-06-19T14:05:47.532824",
     "exception": false,
     "start_time": "2023-06-19T14:05:47.524159",
     "status": "completed"
    },
    "tags": [
     "injected-parameters"
    ]
   },
   "outputs": [],
   "source": [
    "# Parameters\n",
    "upstream = {\"Preprocess features\": {\"nb\": \"/Users/bruno/Documents/Hackaton_danone/output/process_data.ipynb\", \"train_csv\": \"/Users/bruno/Documents/Hackaton_danone/data/train.csv\", \"test_csv\": \"/Users/bruno/Documents/Hackaton_danone/data/test.csv\"}}\n",
    "product = {\"nb\": \"/Users/bruno/Documents/Hackaton_danone/output/train_xgboost.ipynb\", \"result\": \"/Users/bruno/Documents/Hackaton_danone/predictions/result_xgboost.json\"}\n"
   ]
  },
  {
   "cell_type": "code",
   "execution_count": 3,
   "id": "3e34fb98",
   "metadata": {
    "execution": {
     "iopub.execute_input": "2023-06-19T14:05:47.538177Z",
     "iopub.status.busy": "2023-06-19T14:05:47.537972Z",
     "iopub.status.idle": "2023-06-19T14:05:47.620649Z",
     "shell.execute_reply": "2023-06-19T14:05:47.619813Z"
    },
    "lines_to_next_cell": 0,
    "papermill": {
     "duration": 0.091929,
     "end_time": "2023-06-19T14:05:47.626991",
     "exception": false,
     "start_time": "2023-06-19T14:05:47.535062",
     "status": "completed"
    },
    "tags": []
   },
   "outputs": [],
   "source": [
    "import json\n",
    "import pickle\n",
    "import warnings\n",
    "from pathlib import Path\n",
    "\n",
    "import numpy as np"
   ]
  },
  {
   "cell_type": "code",
   "execution_count": 4,
   "id": "29593569",
   "metadata": {
    "execution": {
     "iopub.execute_input": "2023-06-19T14:05:47.636575Z",
     "iopub.status.busy": "2023-06-19T14:05:47.636089Z",
     "iopub.status.idle": "2023-06-19T14:05:48.508395Z",
     "shell.execute_reply": "2023-06-19T14:05:48.507975Z"
    },
    "lines_to_next_cell": 0,
    "papermill": {
     "duration": 0.877968,
     "end_time": "2023-06-19T14:05:48.509927",
     "exception": false,
     "start_time": "2023-06-19T14:05:47.631959",
     "status": "completed"
    },
    "tags": []
   },
   "outputs": [],
   "source": [
    "import pandas as pd\n",
    "import xgboost as xgb\n",
    "\n",
    "warnings.filterwarnings('ignore')"
   ]
  },
  {
   "cell_type": "code",
   "execution_count": 5,
   "id": "8ca3ce9e",
   "metadata": {
    "execution": {
     "iopub.execute_input": "2023-06-19T14:05:48.514421Z",
     "iopub.status.busy": "2023-06-19T14:05:48.514233Z",
     "iopub.status.idle": "2023-06-19T14:05:48.516778Z",
     "shell.execute_reply": "2023-06-19T14:05:48.516398Z"
    },
    "papermill": {
     "duration": 0.006163,
     "end_time": "2023-06-19T14:05:48.518058",
     "exception": false,
     "start_time": "2023-06-19T14:05:48.511895",
     "status": "completed"
    },
    "tags": []
   },
   "outputs": [],
   "source": [
    "cols = ['is_beverage', 'non_recyclable_and_non_biodegradable_materials_count', \n",
    "        'est_co2_agriculture', 'est_co2_consumption', \n",
    "        'est_co2_distribution', 'est_co2_packaging', 'est_co2_processing', \n",
    "        'est_co2_transportation'] \n",
    "target_col = 'ecoscore_grade'"
   ]
  },
  {
   "cell_type": "code",
   "execution_count": 6,
   "id": "cc496e18",
   "metadata": {
    "execution": {
     "iopub.execute_input": "2023-06-19T14:05:48.523439Z",
     "iopub.status.busy": "2023-06-19T14:05:48.523195Z",
     "iopub.status.idle": "2023-06-19T14:05:48.761464Z",
     "shell.execute_reply": "2023-06-19T14:05:48.761000Z"
    },
    "papermill": {
     "duration": 0.242976,
     "end_time": "2023-06-19T14:05:48.763041",
     "exception": false,
     "start_time": "2023-06-19T14:05:48.520065",
     "status": "completed"
    },
    "tags": []
   },
   "outputs": [],
   "source": [
    "train = pd.read_csv(upstream['Preprocess features']['train_csv'], usecols=cols + [target_col])\n",
    "test = pd.read_csv(upstream['Preprocess features']['test_csv'], usecols=cols)"
   ]
  },
  {
   "cell_type": "code",
   "execution_count": 7,
   "id": "bef13b85",
   "metadata": {
    "execution": {
     "iopub.execute_input": "2023-06-19T14:05:48.769547Z",
     "iopub.status.busy": "2023-06-19T14:05:48.769196Z",
     "iopub.status.idle": "2023-06-19T14:05:48.777480Z",
     "shell.execute_reply": "2023-06-19T14:05:48.777022Z"
    },
    "lines_to_next_cell": 0,
    "papermill": {
     "duration": 0.013651,
     "end_time": "2023-06-19T14:05:48.778947",
     "exception": false,
     "start_time": "2023-06-19T14:05:48.765296",
     "status": "completed"
    },
    "tags": []
   },
   "outputs": [],
   "source": [
    "X_train, y_train = train[cols], train[target_col]\n",
    "X_test = test[cols]\n",
    "for i in cols:\n",
    "    X_train[i] = X_train[i].astype(float)\n",
    "    X_test[i] = X_test[i].astype(float)"
   ]
  },
  {
   "cell_type": "code",
   "execution_count": 8,
   "id": "f9d7f7be",
   "metadata": {
    "execution": {
     "iopub.execute_input": "2023-06-19T14:05:48.784150Z",
     "iopub.status.busy": "2023-06-19T14:05:48.783947Z",
     "iopub.status.idle": "2023-06-19T14:05:48.786764Z",
     "shell.execute_reply": "2023-06-19T14:05:48.786347Z"
    },
    "papermill": {
     "duration": 0.007324,
     "end_time": "2023-06-19T14:05:48.788583",
     "exception": false,
     "start_time": "2023-06-19T14:05:48.781259",
     "status": "completed"
    },
    "tags": []
   },
   "outputs": [
    {
     "name": "stdout",
     "output_type": "stream",
     "text": [
      "(20835, 8) (20835,)\n",
      "(1272, 8)\n"
     ]
    }
   ],
   "source": [
    "print(X_train.shape, y_train.shape)\n",
    "print(X_test.shape)"
   ]
  },
  {
   "cell_type": "code",
   "execution_count": 9,
   "id": "38415fb3",
   "metadata": {
    "execution": {
     "iopub.execute_input": "2023-06-19T14:05:48.793826Z",
     "iopub.status.busy": "2023-06-19T14:05:48.793598Z",
     "iopub.status.idle": "2023-06-19T14:05:48.801766Z",
     "shell.execute_reply": "2023-06-19T14:05:48.801307Z"
    },
    "lines_to_next_cell": 0,
    "papermill": {
     "duration": 0.012719,
     "end_time": "2023-06-19T14:05:48.803486",
     "exception": false,
     "start_time": "2023-06-19T14:05:48.790767",
     "status": "completed"
    },
    "tags": []
   },
   "outputs": [],
   "source": [
    "dtrain = xgb.DMatrix(X_train, label=y_train.values)\n",
    "dvalid = xgb.DMatrix(X_test)"
   ]
  },
  {
   "cell_type": "code",
   "execution_count": 10,
   "id": "cfd3fa9e",
   "metadata": {
    "execution": {
     "iopub.execute_input": "2023-06-19T14:05:48.808560Z",
     "iopub.status.busy": "2023-06-19T14:05:48.808355Z",
     "iopub.status.idle": "2023-06-19T14:05:48.812763Z",
     "shell.execute_reply": "2023-06-19T14:05:48.812119Z"
    },
    "lines_to_next_cell": 0,
    "papermill": {
     "duration": 0.008696,
     "end_time": "2023-06-19T14:05:48.814318",
     "exception": false,
     "start_time": "2023-06-19T14:05:48.805622",
     "status": "completed"
    },
    "tags": []
   },
   "outputs": [],
   "source": [
    "evals_result = {}\n",
    "watchlist = [(dtrain, \"train\")]\n",
    "params = {\n",
    "    \"seed\": 0,\n",
    "    \"eta\": 0.1,\n",
    "    \"alpha\": 15,\n",
    "    # \"gamma\": 25,\n",
    "    # \"lambda\": 15,\n",
    "    \"max_depth\": 15,\n",
    "    \"refresh_leaf\": 1,\n",
    "    \"booster\": \"gbtree\",\n",
    "    \"max_delta_step\": 1,\n",
    "    \"n_estimators\": 1000,\n",
    "    # \"colsample_bytree\": 0.1,\n",
    "    # \"colsample_bylevel\": 0.8,\n",
    "    # \"min_child_weight\": 11.0,\n",
    "    # \"seed_per_iteration\": True,\n",
    "    'subsample': .1,\n",
    "    \"objective\": \"multi:softprob\",\n",
    "    'num_class': len(y_train.unique()),\n",
    "    \"eval_metric\": [\"auc\", \"mlogloss\"],\n",
    "}\n",
    "eta_decay = np.linspace(params['eta'], 0.01, 2000).tolist()"
   ]
  },
  {
   "cell_type": "code",
   "execution_count": 11,
   "id": "bc298d8d",
   "metadata": {
    "execution": {
     "iopub.execute_input": "2023-06-19T14:05:48.819539Z",
     "iopub.status.busy": "2023-06-19T14:05:48.819324Z",
     "iopub.status.idle": "2023-06-19T14:06:10.497785Z",
     "shell.execute_reply": "2023-06-19T14:06:10.496999Z"
    },
    "lines_to_next_cell": 0,
    "papermill": {
     "duration": 21.683757,
     "end_time": "2023-06-19T14:06:10.500272",
     "exception": false,
     "start_time": "2023-06-19T14:05:48.816515",
     "status": "completed"
    },
    "tags": []
   },
   "outputs": [
    {
     "name": "stdout",
     "output_type": "stream",
     "text": [
      "[0]\ttrain-auc:0.91316\ttrain-mlogloss:1.53056\n"
     ]
    },
    {
     "name": "stdout",
     "output_type": "stream",
     "text": [
      "[1]\ttrain-auc:0.92271\ttrain-mlogloss:1.45774\n"
     ]
    },
    {
     "name": "stdout",
     "output_type": "stream",
     "text": [
      "[2]\ttrain-auc:0.92906\ttrain-mlogloss:1.38904\n"
     ]
    },
    {
     "name": "stdout",
     "output_type": "stream",
     "text": [
      "[3]\ttrain-auc:0.93071\ttrain-mlogloss:1.32450\n"
     ]
    },
    {
     "name": "stdout",
     "output_type": "stream",
     "text": [
      "[4]\ttrain-auc:0.93157\ttrain-mlogloss:1.26424\n"
     ]
    },
    {
     "name": "stdout",
     "output_type": "stream",
     "text": [
      "[5]\ttrain-auc:0.93159\ttrain-mlogloss:1.21151\n"
     ]
    },
    {
     "name": "stdout",
     "output_type": "stream",
     "text": [
      "[6]\ttrain-auc:0.93374\ttrain-mlogloss:1.16156\n"
     ]
    },
    {
     "name": "stdout",
     "output_type": "stream",
     "text": [
      "[7]\ttrain-auc:0.93526\ttrain-mlogloss:1.11673\n"
     ]
    },
    {
     "name": "stdout",
     "output_type": "stream",
     "text": [
      "[8]\ttrain-auc:0.93603\ttrain-mlogloss:1.07639\n"
     ]
    },
    {
     "name": "stdout",
     "output_type": "stream",
     "text": [
      "[9]\ttrain-auc:0.93710\ttrain-mlogloss:1.04244\n"
     ]
    },
    {
     "name": "stdout",
     "output_type": "stream",
     "text": [
      "[10]\ttrain-auc:0.93790\ttrain-mlogloss:1.01013\n"
     ]
    },
    {
     "name": "stdout",
     "output_type": "stream",
     "text": [
      "[11]\ttrain-auc:0.93786\ttrain-mlogloss:0.98040\n"
     ]
    },
    {
     "name": "stdout",
     "output_type": "stream",
     "text": [
      "[12]\ttrain-auc:0.93869\ttrain-mlogloss:0.95391\n"
     ]
    },
    {
     "name": "stdout",
     "output_type": "stream",
     "text": [
      "[13]\ttrain-auc:0.93895\ttrain-mlogloss:0.93075\n"
     ]
    },
    {
     "name": "stdout",
     "output_type": "stream",
     "text": [
      "[14]\ttrain-auc:0.93952\ttrain-mlogloss:0.90894\n"
     ]
    },
    {
     "name": "stdout",
     "output_type": "stream",
     "text": [
      "[15]\ttrain-auc:0.93984\ttrain-mlogloss:0.88868\n"
     ]
    },
    {
     "name": "stdout",
     "output_type": "stream",
     "text": [
      "[16]\ttrain-auc:0.94045\ttrain-mlogloss:0.86901\n"
     ]
    },
    {
     "name": "stdout",
     "output_type": "stream",
     "text": [
      "[17]\ttrain-auc:0.94071\ttrain-mlogloss:0.85193\n"
     ]
    },
    {
     "name": "stdout",
     "output_type": "stream",
     "text": [
      "[18]\ttrain-auc:0.94105\ttrain-mlogloss:0.83577\n"
     ]
    },
    {
     "name": "stdout",
     "output_type": "stream",
     "text": [
      "[19]\ttrain-auc:0.94136\ttrain-mlogloss:0.82096\n"
     ]
    },
    {
     "name": "stdout",
     "output_type": "stream",
     "text": [
      "[20]\ttrain-auc:0.94154\ttrain-mlogloss:0.80796\n"
     ]
    },
    {
     "name": "stdout",
     "output_type": "stream",
     "text": [
      "[21]\ttrain-auc:0.94157\ttrain-mlogloss:0.79482\n"
     ]
    },
    {
     "name": "stdout",
     "output_type": "stream",
     "text": [
      "[22]\ttrain-auc:0.94181\ttrain-mlogloss:0.78239\n"
     ]
    },
    {
     "name": "stdout",
     "output_type": "stream",
     "text": [
      "[23]\ttrain-auc:0.94221\ttrain-mlogloss:0.77132\n"
     ]
    },
    {
     "name": "stdout",
     "output_type": "stream",
     "text": [
      "[24]\ttrain-auc:0.94262\ttrain-mlogloss:0.76122\n"
     ]
    },
    {
     "name": "stdout",
     "output_type": "stream",
     "text": [
      "[25]\ttrain-auc:0.94297\ttrain-mlogloss:0.75250\n"
     ]
    },
    {
     "name": "stdout",
     "output_type": "stream",
     "text": [
      "[26]\ttrain-auc:0.94323\ttrain-mlogloss:0.74366\n"
     ]
    },
    {
     "name": "stdout",
     "output_type": "stream",
     "text": [
      "[27]\ttrain-auc:0.94348\ttrain-mlogloss:0.73580\n"
     ]
    },
    {
     "name": "stdout",
     "output_type": "stream",
     "text": [
      "[28]\ttrain-auc:0.94365\ttrain-mlogloss:0.72824\n"
     ]
    },
    {
     "name": "stdout",
     "output_type": "stream",
     "text": [
      "[29]\ttrain-auc:0.94400\ttrain-mlogloss:0.72129\n"
     ]
    },
    {
     "name": "stdout",
     "output_type": "stream",
     "text": [
      "[30]\ttrain-auc:0.94416\ttrain-mlogloss:0.71482\n"
     ]
    },
    {
     "name": "stdout",
     "output_type": "stream",
     "text": [
      "[31]\ttrain-auc:0.94439\ttrain-mlogloss:0.70860\n"
     ]
    },
    {
     "name": "stdout",
     "output_type": "stream",
     "text": [
      "[32]\ttrain-auc:0.94465\ttrain-mlogloss:0.70237\n"
     ]
    },
    {
     "name": "stdout",
     "output_type": "stream",
     "text": [
      "[33]\ttrain-auc:0.94477\ttrain-mlogloss:0.69650\n"
     ]
    },
    {
     "name": "stdout",
     "output_type": "stream",
     "text": [
      "[34]\ttrain-auc:0.94507\ttrain-mlogloss:0.69102\n"
     ]
    },
    {
     "name": "stdout",
     "output_type": "stream",
     "text": [
      "[35]\ttrain-auc:0.94538\ttrain-mlogloss:0.68605\n"
     ]
    },
    {
     "name": "stdout",
     "output_type": "stream",
     "text": [
      "[36]\ttrain-auc:0.94558\ttrain-mlogloss:0.68127\n"
     ]
    },
    {
     "name": "stdout",
     "output_type": "stream",
     "text": [
      "[37]\ttrain-auc:0.94594\ttrain-mlogloss:0.67674\n"
     ]
    },
    {
     "name": "stdout",
     "output_type": "stream",
     "text": [
      "[38]\ttrain-auc:0.94629\ttrain-mlogloss:0.67244\n"
     ]
    },
    {
     "name": "stdout",
     "output_type": "stream",
     "text": [
      "[39]\ttrain-auc:0.94659\ttrain-mlogloss:0.66874\n"
     ]
    },
    {
     "name": "stdout",
     "output_type": "stream",
     "text": [
      "[40]\ttrain-auc:0.94660\ttrain-mlogloss:0.66454\n"
     ]
    },
    {
     "name": "stdout",
     "output_type": "stream",
     "text": [
      "[41]\ttrain-auc:0.94663\ttrain-mlogloss:0.66081\n"
     ]
    },
    {
     "name": "stdout",
     "output_type": "stream",
     "text": [
      "[42]\ttrain-auc:0.94702\ttrain-mlogloss:0.65648\n"
     ]
    },
    {
     "name": "stdout",
     "output_type": "stream",
     "text": [
      "[43]\ttrain-auc:0.94727\ttrain-mlogloss:0.65299\n"
     ]
    },
    {
     "name": "stdout",
     "output_type": "stream",
     "text": [
      "[44]\ttrain-auc:0.94741\ttrain-mlogloss:0.64965\n"
     ]
    },
    {
     "name": "stdout",
     "output_type": "stream",
     "text": [
      "[45]\ttrain-auc:0.94760\ttrain-mlogloss:0.64640\n"
     ]
    },
    {
     "name": "stdout",
     "output_type": "stream",
     "text": [
      "[46]\ttrain-auc:0.94798\ttrain-mlogloss:0.64308\n"
     ]
    },
    {
     "name": "stdout",
     "output_type": "stream",
     "text": [
      "[47]\ttrain-auc:0.94806\ttrain-mlogloss:0.63996\n"
     ]
    },
    {
     "name": "stdout",
     "output_type": "stream",
     "text": [
      "[48]\ttrain-auc:0.94805\ttrain-mlogloss:0.63757\n"
     ]
    },
    {
     "name": "stdout",
     "output_type": "stream",
     "text": [
      "[49]\ttrain-auc:0.94817\ttrain-mlogloss:0.63471\n"
     ]
    },
    {
     "name": "stdout",
     "output_type": "stream",
     "text": [
      "[50]\ttrain-auc:0.94821\ttrain-mlogloss:0.63234\n"
     ]
    },
    {
     "name": "stdout",
     "output_type": "stream",
     "text": [
      "[51]\ttrain-auc:0.94835\ttrain-mlogloss:0.62958\n"
     ]
    },
    {
     "name": "stdout",
     "output_type": "stream",
     "text": [
      "[52]\ttrain-auc:0.94842\ttrain-mlogloss:0.62771\n"
     ]
    },
    {
     "name": "stdout",
     "output_type": "stream",
     "text": [
      "[53]\ttrain-auc:0.94860\ttrain-mlogloss:0.62549\n"
     ]
    },
    {
     "name": "stdout",
     "output_type": "stream",
     "text": [
      "[54]\ttrain-auc:0.94888\ttrain-mlogloss:0.62291\n"
     ]
    },
    {
     "name": "stdout",
     "output_type": "stream",
     "text": [
      "[55]\ttrain-auc:0.94895\ttrain-mlogloss:0.62107\n"
     ]
    },
    {
     "name": "stdout",
     "output_type": "stream",
     "text": [
      "[56]\ttrain-auc:0.94904\ttrain-mlogloss:0.61880\n"
     ]
    },
    {
     "name": "stdout",
     "output_type": "stream",
     "text": [
      "[57]\ttrain-auc:0.94920\ttrain-mlogloss:0.61698\n"
     ]
    },
    {
     "name": "stdout",
     "output_type": "stream",
     "text": [
      "[58]\ttrain-auc:0.94930\ttrain-mlogloss:0.61497\n"
     ]
    },
    {
     "name": "stdout",
     "output_type": "stream",
     "text": [
      "[59]\ttrain-auc:0.94940\ttrain-mlogloss:0.61319"
     ]
    },
    {
     "name": "stdout",
     "output_type": "stream",
     "text": [
      "\n"
     ]
    },
    {
     "name": "stdout",
     "output_type": "stream",
     "text": [
      "[60]\ttrain-auc:0.94960\ttrain-mlogloss:0.61116\n"
     ]
    },
    {
     "name": "stdout",
     "output_type": "stream",
     "text": [
      "[61]\ttrain-auc:0.94966\ttrain-mlogloss:0.60920\n"
     ]
    },
    {
     "name": "stdout",
     "output_type": "stream",
     "text": [
      "[62]\ttrain-auc:0.94971\ttrain-mlogloss:0.60772\n"
     ]
    },
    {
     "name": "stdout",
     "output_type": "stream",
     "text": [
      "[63]\ttrain-auc:0.94990\ttrain-mlogloss:0.60594\n"
     ]
    },
    {
     "name": "stdout",
     "output_type": "stream",
     "text": [
      "[64]\ttrain-auc:0.94999\ttrain-mlogloss:0.60441\n"
     ]
    },
    {
     "name": "stdout",
     "output_type": "stream",
     "text": [
      "[65]\ttrain-auc:0.95008\ttrain-mlogloss:0.60307\n"
     ]
    },
    {
     "name": "stdout",
     "output_type": "stream",
     "text": [
      "[66]\ttrain-auc:0.95033\ttrain-mlogloss:0.60120\n"
     ]
    },
    {
     "name": "stdout",
     "output_type": "stream",
     "text": [
      "[67]\ttrain-auc:0.95032\ttrain-mlogloss:0.59977\n"
     ]
    },
    {
     "name": "stdout",
     "output_type": "stream",
     "text": [
      "[68]\ttrain-auc:0.95039\ttrain-mlogloss:0.59816\n"
     ]
    },
    {
     "name": "stdout",
     "output_type": "stream",
     "text": [
      "[69]\ttrain-auc:0.95055\ttrain-mlogloss:0.59650\n"
     ]
    },
    {
     "name": "stdout",
     "output_type": "stream",
     "text": [
      "[70]\ttrain-auc:0.95062\ttrain-mlogloss:0.59531\n"
     ]
    },
    {
     "name": "stdout",
     "output_type": "stream",
     "text": [
      "[71]\ttrain-auc:0.95066\ttrain-mlogloss:0.59399\n"
     ]
    },
    {
     "name": "stdout",
     "output_type": "stream",
     "text": [
      "[72]\ttrain-auc:0.95078\ttrain-mlogloss:0.59280\n"
     ]
    },
    {
     "name": "stdout",
     "output_type": "stream",
     "text": [
      "[73]\ttrain-auc:0.95088\ttrain-mlogloss:0.59133\n"
     ]
    },
    {
     "name": "stdout",
     "output_type": "stream",
     "text": [
      "[74]\ttrain-auc:0.95096\ttrain-mlogloss:0.59015\n"
     ]
    },
    {
     "name": "stdout",
     "output_type": "stream",
     "text": [
      "[75]\ttrain-auc:0.95108\ttrain-mlogloss:0.58887\n"
     ]
    },
    {
     "name": "stdout",
     "output_type": "stream",
     "text": [
      "[76]\ttrain-auc:0.95117\ttrain-mlogloss:0.58787\n"
     ]
    },
    {
     "name": "stdout",
     "output_type": "stream",
     "text": [
      "[77]\ttrain-auc:0.95130\ttrain-mlogloss:0.58643\n"
     ]
    },
    {
     "name": "stdout",
     "output_type": "stream",
     "text": [
      "[78]\ttrain-auc:0.95136\ttrain-mlogloss:0.58538\n"
     ]
    },
    {
     "name": "stdout",
     "output_type": "stream",
     "text": [
      "[79]\ttrain-auc:0.95148\ttrain-mlogloss:0.58429\n"
     ]
    },
    {
     "name": "stdout",
     "output_type": "stream",
     "text": [
      "[80]\ttrain-auc:0.95163\ttrain-mlogloss:0.58331\n"
     ]
    },
    {
     "name": "stdout",
     "output_type": "stream",
     "text": [
      "[81]\ttrain-auc:0.95171\ttrain-mlogloss:0.58229\n"
     ]
    },
    {
     "name": "stdout",
     "output_type": "stream",
     "text": [
      "[82]\ttrain-auc:0.95177\ttrain-mlogloss:0.58120\n"
     ]
    },
    {
     "name": "stdout",
     "output_type": "stream",
     "text": [
      "[83]\ttrain-auc:0.95197\ttrain-mlogloss:0.58032\n"
     ]
    },
    {
     "name": "stdout",
     "output_type": "stream",
     "text": [
      "[84]\ttrain-auc:0.95212\ttrain-mlogloss:0.57909\n"
     ]
    },
    {
     "name": "stdout",
     "output_type": "stream",
     "text": [
      "[85]\ttrain-auc:0.95218\ttrain-mlogloss:0.57821\n"
     ]
    },
    {
     "name": "stdout",
     "output_type": "stream",
     "text": [
      "[86]\ttrain-auc:0.95226\ttrain-mlogloss:0.57732\n"
     ]
    },
    {
     "name": "stdout",
     "output_type": "stream",
     "text": [
      "[87]\ttrain-auc:0.95231\ttrain-mlogloss:0.57634\n"
     ]
    },
    {
     "name": "stdout",
     "output_type": "stream",
     "text": [
      "[88]\ttrain-auc:0.95235\ttrain-mlogloss:0.57521\n"
     ]
    },
    {
     "name": "stdout",
     "output_type": "stream",
     "text": [
      "[89]\ttrain-auc:0.95244\ttrain-mlogloss:0.57398\n"
     ]
    },
    {
     "name": "stdout",
     "output_type": "stream",
     "text": [
      "[90]\ttrain-auc:0.95255\ttrain-mlogloss:0.57337\n"
     ]
    },
    {
     "name": "stdout",
     "output_type": "stream",
     "text": [
      "[91]\ttrain-auc:0.95269\ttrain-mlogloss:0.57234\n"
     ]
    },
    {
     "name": "stdout",
     "output_type": "stream",
     "text": [
      "[92]\ttrain-auc:0.95282\ttrain-mlogloss:0.57156\n"
     ]
    },
    {
     "name": "stdout",
     "output_type": "stream",
     "text": [
      "[93]\ttrain-auc:0.95289\ttrain-mlogloss:0.57080\n"
     ]
    },
    {
     "name": "stdout",
     "output_type": "stream",
     "text": [
      "[94]\ttrain-auc:0.95294\ttrain-mlogloss:0.56998\n"
     ]
    },
    {
     "name": "stdout",
     "output_type": "stream",
     "text": [
      "[95]\ttrain-auc:0.95293\ttrain-mlogloss:0.56949\n"
     ]
    },
    {
     "name": "stdout",
     "output_type": "stream",
     "text": [
      "[96]\ttrain-auc:0.95308\ttrain-mlogloss:0.56870\n"
     ]
    },
    {
     "name": "stdout",
     "output_type": "stream",
     "text": [
      "[97]\ttrain-auc:0.95311\ttrain-mlogloss:0.56798\n"
     ]
    },
    {
     "name": "stdout",
     "output_type": "stream",
     "text": [
      "[98]\ttrain-auc:0.95317\ttrain-mlogloss:0.56723\n"
     ]
    },
    {
     "name": "stdout",
     "output_type": "stream",
     "text": [
      "[99]\ttrain-auc:0.95329\ttrain-mlogloss:0.56618\n"
     ]
    },
    {
     "name": "stdout",
     "output_type": "stream",
     "text": [
      "[100]\ttrain-auc:0.95342\ttrain-mlogloss:0.56548\n"
     ]
    },
    {
     "name": "stdout",
     "output_type": "stream",
     "text": [
      "[101]\ttrain-auc:0.95347\ttrain-mlogloss:0.56484\n"
     ]
    },
    {
     "name": "stdout",
     "output_type": "stream",
     "text": [
      "[102]\ttrain-auc:0.95354\ttrain-mlogloss:0.56411\n"
     ]
    },
    {
     "name": "stdout",
     "output_type": "stream",
     "text": [
      "[103]\ttrain-auc:0.95357\ttrain-mlogloss:0.56332\n"
     ]
    },
    {
     "name": "stdout",
     "output_type": "stream",
     "text": [
      "[104]\ttrain-auc:0.95366\ttrain-mlogloss:0.56258\n"
     ]
    },
    {
     "name": "stdout",
     "output_type": "stream",
     "text": [
      "[105]\ttrain-auc:0.95382\ttrain-mlogloss:0.56168\n"
     ]
    },
    {
     "name": "stdout",
     "output_type": "stream",
     "text": [
      "[106]\ttrain-auc:0.95395\ttrain-mlogloss:0.56080\n"
     ]
    },
    {
     "name": "stdout",
     "output_type": "stream",
     "text": [
      "[107]\ttrain-auc:0.95399\ttrain-mlogloss:0.56005\n"
     ]
    },
    {
     "name": "stdout",
     "output_type": "stream",
     "text": [
      "[108]\ttrain-auc:0.95417\ttrain-mlogloss:0.55927\n"
     ]
    },
    {
     "name": "stdout",
     "output_type": "stream",
     "text": [
      "[109]\ttrain-auc:0.95422\ttrain-mlogloss:0.55849\n"
     ]
    },
    {
     "name": "stdout",
     "output_type": "stream",
     "text": [
      "[110]\ttrain-auc:0.95436\ttrain-mlogloss:0.55763\n"
     ]
    },
    {
     "name": "stdout",
     "output_type": "stream",
     "text": [
      "[111]\ttrain-auc:0.95450\ttrain-mlogloss:0.55703\n"
     ]
    },
    {
     "name": "stdout",
     "output_type": "stream",
     "text": [
      "[112]\ttrain-auc:0.95462\ttrain-mlogloss:0.55617\n"
     ]
    },
    {
     "name": "stdout",
     "output_type": "stream",
     "text": [
      "[113]\ttrain-auc:0.95465\ttrain-mlogloss:0.55558\n"
     ]
    },
    {
     "name": "stdout",
     "output_type": "stream",
     "text": [
      "[114]\ttrain-auc:0.95474\ttrain-mlogloss:0.55508\n"
     ]
    },
    {
     "name": "stdout",
     "output_type": "stream",
     "text": [
      "[115]\ttrain-auc:0.95473\ttrain-mlogloss:0.55455\n"
     ]
    },
    {
     "name": "stdout",
     "output_type": "stream",
     "text": [
      "[116]\ttrain-auc:0.95476\ttrain-mlogloss:0.55395\n"
     ]
    },
    {
     "name": "stdout",
     "output_type": "stream",
     "text": [
      "[117]\ttrain-auc:0.95479\ttrain-mlogloss:0.55354\n"
     ]
    },
    {
     "name": "stdout",
     "output_type": "stream",
     "text": [
      "[118]\ttrain-auc:0.95484\ttrain-mlogloss:0.55292\n"
     ]
    },
    {
     "name": "stdout",
     "output_type": "stream",
     "text": [
      "[119]\ttrain-auc:0.95493\ttrain-mlogloss:0.55217\n"
     ]
    },
    {
     "name": "stdout",
     "output_type": "stream",
     "text": [
      "[120]\ttrain-auc:0.95500\ttrain-mlogloss:0.55158\n"
     ]
    },
    {
     "name": "stdout",
     "output_type": "stream",
     "text": [
      "[121]\ttrain-auc:0.95503\ttrain-mlogloss:0.55106\n"
     ]
    },
    {
     "name": "stdout",
     "output_type": "stream",
     "text": [
      "[122]\ttrain-auc:0.95512\ttrain-mlogloss:0.55056\n"
     ]
    },
    {
     "name": "stdout",
     "output_type": "stream",
     "text": [
      "[123]\ttrain-auc:0.95518\ttrain-mlogloss:0.55006\n"
     ]
    },
    {
     "name": "stdout",
     "output_type": "stream",
     "text": [
      "[124]\ttrain-auc:0.95524\ttrain-mlogloss:0.54959\n"
     ]
    },
    {
     "name": "stdout",
     "output_type": "stream",
     "text": [
      "[125]\ttrain-auc:0.95523\ttrain-mlogloss:0.54919\n"
     ]
    },
    {
     "name": "stdout",
     "output_type": "stream",
     "text": [
      "[126]\ttrain-auc:0.95529\ttrain-mlogloss:0.54865\n"
     ]
    },
    {
     "name": "stdout",
     "output_type": "stream",
     "text": [
      "[127]\ttrain-auc:0.95532\ttrain-mlogloss:0.54815\n"
     ]
    },
    {
     "name": "stdout",
     "output_type": "stream",
     "text": [
      "[128]\ttrain-auc:0.95539\ttrain-mlogloss:0.54762\n"
     ]
    },
    {
     "name": "stdout",
     "output_type": "stream",
     "text": [
      "[129]\ttrain-auc:0.95549\ttrain-mlogloss:0.54711\n"
     ]
    },
    {
     "name": "stdout",
     "output_type": "stream",
     "text": [
      "[130]\ttrain-auc:0.95549\ttrain-mlogloss:0.54694\n"
     ]
    },
    {
     "name": "stdout",
     "output_type": "stream",
     "text": [
      "[131]\ttrain-auc:0.95558\ttrain-mlogloss:0.54642\n"
     ]
    },
    {
     "name": "stdout",
     "output_type": "stream",
     "text": [
      "[132]\ttrain-auc:0.95562\ttrain-mlogloss:0.54598\n"
     ]
    },
    {
     "name": "stdout",
     "output_type": "stream",
     "text": [
      "[133]\ttrain-auc:0.95565\ttrain-mlogloss:0.54567\n"
     ]
    },
    {
     "name": "stdout",
     "output_type": "stream",
     "text": [
      "[134]\ttrain-auc:0.95562\ttrain-mlogloss:0.54539\n"
     ]
    },
    {
     "name": "stdout",
     "output_type": "stream",
     "text": [
      "[135]\ttrain-auc:0.95568\ttrain-mlogloss:0.54493\n"
     ]
    },
    {
     "name": "stdout",
     "output_type": "stream",
     "text": [
      "[136]\ttrain-auc:0.95569\ttrain-mlogloss:0.54439\n"
     ]
    },
    {
     "name": "stdout",
     "output_type": "stream",
     "text": [
      "[137]\ttrain-auc:0.95574\ttrain-mlogloss:0.54408\n"
     ]
    },
    {
     "name": "stdout",
     "output_type": "stream",
     "text": [
      "[138]\ttrain-auc:0.95579\ttrain-mlogloss:0.54365\n"
     ]
    },
    {
     "name": "stdout",
     "output_type": "stream",
     "text": [
      "[139]\ttrain-auc:0.95584\ttrain-mlogloss:0.54318\n"
     ]
    },
    {
     "name": "stdout",
     "output_type": "stream",
     "text": [
      "[140]\ttrain-auc:0.95583\ttrain-mlogloss:0.54270\n"
     ]
    },
    {
     "name": "stdout",
     "output_type": "stream",
     "text": [
      "[141]\ttrain-auc:0.95587\ttrain-mlogloss:0.54234\n"
     ]
    },
    {
     "name": "stdout",
     "output_type": "stream",
     "text": [
      "[142]\ttrain-auc:0.95594\ttrain-mlogloss:0.54184\n"
     ]
    },
    {
     "name": "stdout",
     "output_type": "stream",
     "text": [
      "[143]\ttrain-auc:0.95601\ttrain-mlogloss:0.54148\n"
     ]
    },
    {
     "name": "stdout",
     "output_type": "stream",
     "text": [
      "[144]\ttrain-auc:0.95607\ttrain-mlogloss:0.54106\n"
     ]
    },
    {
     "name": "stdout",
     "output_type": "stream",
     "text": [
      "[145]\ttrain-auc:0.95613\ttrain-mlogloss:0.54065\n"
     ]
    },
    {
     "name": "stdout",
     "output_type": "stream",
     "text": [
      "[146]\ttrain-auc:0.95614\ttrain-mlogloss:0.54039\n"
     ]
    },
    {
     "name": "stdout",
     "output_type": "stream",
     "text": [
      "[147]\ttrain-auc:0.95622\ttrain-mlogloss:0.54006\n"
     ]
    },
    {
     "name": "stdout",
     "output_type": "stream",
     "text": [
      "[148]\ttrain-auc:0.95624\ttrain-mlogloss:0.53957\n"
     ]
    },
    {
     "name": "stdout",
     "output_type": "stream",
     "text": [
      "[149]\ttrain-auc:0.95629\ttrain-mlogloss:0.53915\n"
     ]
    },
    {
     "name": "stdout",
     "output_type": "stream",
     "text": [
      "[150]\ttrain-auc:0.95638\ttrain-mlogloss:0.53870\n"
     ]
    },
    {
     "name": "stdout",
     "output_type": "stream",
     "text": [
      "[151]\ttrain-auc:0.95642\ttrain-mlogloss:0.53833\n"
     ]
    },
    {
     "name": "stdout",
     "output_type": "stream",
     "text": [
      "[152]\ttrain-auc:0.95642\ttrain-mlogloss:0.53824\n"
     ]
    },
    {
     "name": "stdout",
     "output_type": "stream",
     "text": [
      "[153]\ttrain-auc:0.95651\ttrain-mlogloss:0.53768\n"
     ]
    },
    {
     "name": "stdout",
     "output_type": "stream",
     "text": [
      "[154]\ttrain-auc:0.95651\ttrain-mlogloss:0.53750\n"
     ]
    },
    {
     "name": "stdout",
     "output_type": "stream",
     "text": [
      "[155]\ttrain-auc:0.95655\ttrain-mlogloss:0.53726\n"
     ]
    },
    {
     "name": "stdout",
     "output_type": "stream",
     "text": [
      "[156]\ttrain-auc:0.95655\ttrain-mlogloss:0.53720\n"
     ]
    },
    {
     "name": "stdout",
     "output_type": "stream",
     "text": [
      "[157]\ttrain-auc:0.95661\ttrain-mlogloss:0.53680\n"
     ]
    },
    {
     "name": "stdout",
     "output_type": "stream",
     "text": [
      "[158]\ttrain-auc:0.95667\ttrain-mlogloss:0.53645\n"
     ]
    },
    {
     "name": "stdout",
     "output_type": "stream",
     "text": [
      "[159]\ttrain-auc:0.95673\ttrain-mlogloss:0.53610\n"
     ]
    },
    {
     "name": "stdout",
     "output_type": "stream",
     "text": [
      "[160]\ttrain-auc:0.95676\ttrain-mlogloss:0.53569\n"
     ]
    },
    {
     "name": "stdout",
     "output_type": "stream",
     "text": [
      "[161]\ttrain-auc:0.95680\ttrain-mlogloss:0.53535\n"
     ]
    },
    {
     "name": "stdout",
     "output_type": "stream",
     "text": [
      "[162]\ttrain-auc:0.95684\ttrain-mlogloss:0.53493\n"
     ]
    },
    {
     "name": "stdout",
     "output_type": "stream",
     "text": [
      "[163]\ttrain-auc:0.95686\ttrain-mlogloss:0.53475\n"
     ]
    },
    {
     "name": "stdout",
     "output_type": "stream",
     "text": [
      "[164]\ttrain-auc:0.95687\ttrain-mlogloss:0.53445\n"
     ]
    },
    {
     "name": "stdout",
     "output_type": "stream",
     "text": [
      "[165]\ttrain-auc:0.95691\ttrain-mlogloss:0.53406\n"
     ]
    },
    {
     "name": "stdout",
     "output_type": "stream",
     "text": [
      "[166]\ttrain-auc:0.95697\ttrain-mlogloss:0.53365\n"
     ]
    },
    {
     "name": "stdout",
     "output_type": "stream",
     "text": [
      "[167]\ttrain-auc:0.95698\ttrain-mlogloss:0.53333\n"
     ]
    },
    {
     "name": "stdout",
     "output_type": "stream",
     "text": [
      "[168]\ttrain-auc:0.95699\ttrain-mlogloss:0.53314\n"
     ]
    },
    {
     "name": "stdout",
     "output_type": "stream",
     "text": [
      "[169]\ttrain-auc:0.95704\ttrain-mlogloss:0.53271\n"
     ]
    },
    {
     "name": "stdout",
     "output_type": "stream",
     "text": [
      "[170]\ttrain-auc:0.95703\ttrain-mlogloss:0.53231\n"
     ]
    },
    {
     "name": "stdout",
     "output_type": "stream",
     "text": [
      "[171]\ttrain-auc:0.95710\ttrain-mlogloss:0.53194\n"
     ]
    },
    {
     "name": "stdout",
     "output_type": "stream",
     "text": [
      "[172]\ttrain-auc:0.95705\ttrain-mlogloss:0.53177\n"
     ]
    },
    {
     "name": "stdout",
     "output_type": "stream",
     "text": [
      "[173]\ttrain-auc:0.95707\ttrain-mlogloss:0.53137\n"
     ]
    },
    {
     "name": "stdout",
     "output_type": "stream",
     "text": [
      "[174]\ttrain-auc:0.95708\ttrain-mlogloss:0.53093\n"
     ]
    },
    {
     "name": "stdout",
     "output_type": "stream",
     "text": [
      "[175]\ttrain-auc:0.95713\ttrain-mlogloss:0.53057\n"
     ]
    },
    {
     "name": "stdout",
     "output_type": "stream",
     "text": [
      "[176]\ttrain-auc:0.95714\ttrain-mlogloss:0.53026\n"
     ]
    },
    {
     "name": "stdout",
     "output_type": "stream",
     "text": [
      "[177]\ttrain-auc:0.95715\ttrain-mlogloss:0.52992\n"
     ]
    },
    {
     "name": "stdout",
     "output_type": "stream",
     "text": [
      "[178]\ttrain-auc:0.95716\ttrain-mlogloss:0.52959\n"
     ]
    },
    {
     "name": "stdout",
     "output_type": "stream",
     "text": [
      "[179]\ttrain-auc:0.95718\ttrain-mlogloss:0.52927\n"
     ]
    },
    {
     "name": "stdout",
     "output_type": "stream",
     "text": [
      "[180]\ttrain-auc:0.95722\ttrain-mlogloss:0.52910\n"
     ]
    },
    {
     "name": "stdout",
     "output_type": "stream",
     "text": [
      "[181]\ttrain-auc:0.95729\ttrain-mlogloss:0.52876\n"
     ]
    },
    {
     "name": "stdout",
     "output_type": "stream",
     "text": [
      "[182]\ttrain-auc:0.95734\ttrain-mlogloss:0.52844\n"
     ]
    },
    {
     "name": "stdout",
     "output_type": "stream",
     "text": [
      "[183]\ttrain-auc:0.95738\ttrain-mlogloss:0.52810\n"
     ]
    },
    {
     "name": "stdout",
     "output_type": "stream",
     "text": [
      "[184]\ttrain-auc:0.95745\ttrain-mlogloss:0.52773\n"
     ]
    },
    {
     "name": "stdout",
     "output_type": "stream",
     "text": [
      "[185]\ttrain-auc:0.95752\ttrain-mlogloss:0.52745\n"
     ]
    },
    {
     "name": "stdout",
     "output_type": "stream",
     "text": [
      "[186]\ttrain-auc:0.95756\ttrain-mlogloss:0.52715\n"
     ]
    },
    {
     "name": "stdout",
     "output_type": "stream",
     "text": [
      "[187]\ttrain-auc:0.95763\ttrain-mlogloss:0.52670\n"
     ]
    },
    {
     "name": "stdout",
     "output_type": "stream",
     "text": [
      "[188]\ttrain-auc:0.95765\ttrain-mlogloss:0.52657\n"
     ]
    },
    {
     "name": "stdout",
     "output_type": "stream",
     "text": [
      "[189]\ttrain-auc:0.95768\ttrain-mlogloss:0.52623\n"
     ]
    },
    {
     "name": "stdout",
     "output_type": "stream",
     "text": [
      "[190]\ttrain-auc:0.95774\ttrain-mlogloss:0.52597\n"
     ]
    },
    {
     "name": "stdout",
     "output_type": "stream",
     "text": [
      "[191]\ttrain-auc:0.95774\ttrain-mlogloss:0.52559\n"
     ]
    },
    {
     "name": "stdout",
     "output_type": "stream",
     "text": [
      "[192]\ttrain-auc:0.95774\ttrain-mlogloss:0.52559\n"
     ]
    },
    {
     "name": "stdout",
     "output_type": "stream",
     "text": [
      "[193]\ttrain-auc:0.95777\ttrain-mlogloss:0.52530\n"
     ]
    },
    {
     "name": "stdout",
     "output_type": "stream",
     "text": [
      "[194]\ttrain-auc:0.95780\ttrain-mlogloss:0.52503\n"
     ]
    },
    {
     "name": "stdout",
     "output_type": "stream",
     "text": [
      "[195]\ttrain-auc:0.95776\ttrain-mlogloss:0.52473\n"
     ]
    },
    {
     "name": "stdout",
     "output_type": "stream",
     "text": [
      "[196]\ttrain-auc:0.95778\ttrain-mlogloss:0.52459\n"
     ]
    },
    {
     "name": "stdout",
     "output_type": "stream",
     "text": [
      "[197]\ttrain-auc:0.95783\ttrain-mlogloss:0.52426\n"
     ]
    },
    {
     "name": "stdout",
     "output_type": "stream",
     "text": [
      "[198]\ttrain-auc:0.95778\ttrain-mlogloss:0.52395"
     ]
    },
    {
     "name": "stdout",
     "output_type": "stream",
     "text": [
      "\n"
     ]
    },
    {
     "name": "stdout",
     "output_type": "stream",
     "text": [
      "[199]\ttrain-auc:0.95776\ttrain-mlogloss:0.52389\n"
     ]
    },
    {
     "name": "stdout",
     "output_type": "stream",
     "text": [
      "[200]\ttrain-auc:0.95786\ttrain-mlogloss:0.52364\n"
     ]
    },
    {
     "name": "stdout",
     "output_type": "stream",
     "text": [
      "[201]\ttrain-auc:0.95790\ttrain-mlogloss:0.52348\n"
     ]
    },
    {
     "name": "stdout",
     "output_type": "stream",
     "text": [
      "[202]\ttrain-auc:0.95791\ttrain-mlogloss:0.52337\n"
     ]
    },
    {
     "name": "stdout",
     "output_type": "stream",
     "text": [
      "[203]\ttrain-auc:0.95792\ttrain-mlogloss:0.52325\n"
     ]
    },
    {
     "name": "stdout",
     "output_type": "stream",
     "text": [
      "[204]\ttrain-auc:0.95796\ttrain-mlogloss:0.52299\n"
     ]
    },
    {
     "name": "stdout",
     "output_type": "stream",
     "text": [
      "[205]\ttrain-auc:0.95795\ttrain-mlogloss:0.52277\n"
     ]
    },
    {
     "name": "stdout",
     "output_type": "stream",
     "text": [
      "[206]\ttrain-auc:0.95802\ttrain-mlogloss:0.52261\n"
     ]
    },
    {
     "name": "stdout",
     "output_type": "stream",
     "text": [
      "[207]\ttrain-auc:0.95807\ttrain-mlogloss:0.52237\n"
     ]
    },
    {
     "name": "stdout",
     "output_type": "stream",
     "text": [
      "[208]\ttrain-auc:0.95806\ttrain-mlogloss:0.52215\n"
     ]
    },
    {
     "name": "stdout",
     "output_type": "stream",
     "text": [
      "[209]\ttrain-auc:0.95811\ttrain-mlogloss:0.52197\n"
     ]
    },
    {
     "name": "stdout",
     "output_type": "stream",
     "text": [
      "[210]\ttrain-auc:0.95817\ttrain-mlogloss:0.52162\n"
     ]
    },
    {
     "name": "stdout",
     "output_type": "stream",
     "text": [
      "[211]\ttrain-auc:0.95825\ttrain-mlogloss:0.52130\n"
     ]
    },
    {
     "name": "stdout",
     "output_type": "stream",
     "text": [
      "[212]\ttrain-auc:0.95825\ttrain-mlogloss:0.52123\n"
     ]
    },
    {
     "name": "stdout",
     "output_type": "stream",
     "text": [
      "[213]\ttrain-auc:0.95829\ttrain-mlogloss:0.52099\n"
     ]
    },
    {
     "name": "stdout",
     "output_type": "stream",
     "text": [
      "[214]\ttrain-auc:0.95827\ttrain-mlogloss:0.52075\n"
     ]
    },
    {
     "name": "stdout",
     "output_type": "stream",
     "text": [
      "[215]\ttrain-auc:0.95832\ttrain-mlogloss:0.52054\n"
     ]
    },
    {
     "name": "stdout",
     "output_type": "stream",
     "text": [
      "[216]\ttrain-auc:0.95831\ttrain-mlogloss:0.52024\n"
     ]
    },
    {
     "name": "stdout",
     "output_type": "stream",
     "text": [
      "[217]\ttrain-auc:0.95836\ttrain-mlogloss:0.51998\n"
     ]
    },
    {
     "name": "stdout",
     "output_type": "stream",
     "text": [
      "[218]\ttrain-auc:0.95838\ttrain-mlogloss:0.51980\n"
     ]
    },
    {
     "name": "stdout",
     "output_type": "stream",
     "text": [
      "[219]\ttrain-auc:0.95838\ttrain-mlogloss:0.51968\n"
     ]
    },
    {
     "name": "stdout",
     "output_type": "stream",
     "text": [
      "[220]\ttrain-auc:0.95840\ttrain-mlogloss:0.51956\n"
     ]
    },
    {
     "name": "stdout",
     "output_type": "stream",
     "text": [
      "[221]\ttrain-auc:0.95843\ttrain-mlogloss:0.51922\n"
     ]
    },
    {
     "name": "stdout",
     "output_type": "stream",
     "text": [
      "[222]\ttrain-auc:0.95846\ttrain-mlogloss:0.51906\n"
     ]
    },
    {
     "name": "stdout",
     "output_type": "stream",
     "text": [
      "[223]\ttrain-auc:0.95848\ttrain-mlogloss:0.51896\n"
     ]
    },
    {
     "name": "stdout",
     "output_type": "stream",
     "text": [
      "[224]\ttrain-auc:0.95845\ttrain-mlogloss:0.51878\n"
     ]
    },
    {
     "name": "stdout",
     "output_type": "stream",
     "text": [
      "[225]\ttrain-auc:0.95847\ttrain-mlogloss:0.51861\n"
     ]
    },
    {
     "name": "stdout",
     "output_type": "stream",
     "text": [
      "[226]\ttrain-auc:0.95849\ttrain-mlogloss:0.51853\n"
     ]
    },
    {
     "name": "stdout",
     "output_type": "stream",
     "text": [
      "[227]\ttrain-auc:0.95852\ttrain-mlogloss:0.51825\n"
     ]
    },
    {
     "name": "stdout",
     "output_type": "stream",
     "text": [
      "[228]\ttrain-auc:0.95852\ttrain-mlogloss:0.51806\n"
     ]
    },
    {
     "name": "stdout",
     "output_type": "stream",
     "text": [
      "[229]\ttrain-auc:0.95859\ttrain-mlogloss:0.51778\n"
     ]
    },
    {
     "name": "stdout",
     "output_type": "stream",
     "text": [
      "[230]\ttrain-auc:0.95861\ttrain-mlogloss:0.51759\n"
     ]
    },
    {
     "name": "stdout",
     "output_type": "stream",
     "text": [
      "[231]\ttrain-auc:0.95868\ttrain-mlogloss:0.51733\n"
     ]
    },
    {
     "name": "stdout",
     "output_type": "stream",
     "text": [
      "[232]\ttrain-auc:0.95866\ttrain-mlogloss:0.51722\n"
     ]
    },
    {
     "name": "stdout",
     "output_type": "stream",
     "text": [
      "[233]\ttrain-auc:0.95876\ttrain-mlogloss:0.51691\n"
     ]
    },
    {
     "name": "stdout",
     "output_type": "stream",
     "text": [
      "[234]\ttrain-auc:0.95876\ttrain-mlogloss:0.51675\n"
     ]
    },
    {
     "name": "stdout",
     "output_type": "stream",
     "text": [
      "[235]\ttrain-auc:0.95879\ttrain-mlogloss:0.51645\n"
     ]
    },
    {
     "name": "stdout",
     "output_type": "stream",
     "text": [
      "[236]\ttrain-auc:0.95876\ttrain-mlogloss:0.51631\n"
     ]
    },
    {
     "name": "stdout",
     "output_type": "stream",
     "text": [
      "[237]\ttrain-auc:0.95880\ttrain-mlogloss:0.51611\n"
     ]
    },
    {
     "name": "stdout",
     "output_type": "stream",
     "text": [
      "[238]\ttrain-auc:0.95878\ttrain-mlogloss:0.51603\n"
     ]
    },
    {
     "name": "stdout",
     "output_type": "stream",
     "text": [
      "[239]\ttrain-auc:0.95881\ttrain-mlogloss:0.51589\n"
     ]
    },
    {
     "name": "stdout",
     "output_type": "stream",
     "text": [
      "[240]\ttrain-auc:0.95884\ttrain-mlogloss:0.51565\n"
     ]
    },
    {
     "name": "stdout",
     "output_type": "stream",
     "text": [
      "[241]\ttrain-auc:0.95885\ttrain-mlogloss:0.51556\n"
     ]
    },
    {
     "name": "stdout",
     "output_type": "stream",
     "text": [
      "[242]\ttrain-auc:0.95888\ttrain-mlogloss:0.51533\n"
     ]
    },
    {
     "name": "stdout",
     "output_type": "stream",
     "text": [
      "[243]\ttrain-auc:0.95893\ttrain-mlogloss:0.51512\n"
     ]
    },
    {
     "name": "stdout",
     "output_type": "stream",
     "text": [
      "[244]\ttrain-auc:0.95896\ttrain-mlogloss:0.51494\n"
     ]
    },
    {
     "name": "stdout",
     "output_type": "stream",
     "text": [
      "[245]\ttrain-auc:0.95905\ttrain-mlogloss:0.51474\n"
     ]
    },
    {
     "name": "stdout",
     "output_type": "stream",
     "text": [
      "[246]\ttrain-auc:0.95905\ttrain-mlogloss:0.51446\n"
     ]
    },
    {
     "name": "stdout",
     "output_type": "stream",
     "text": [
      "[247]\ttrain-auc:0.95905\ttrain-mlogloss:0.51429\n"
     ]
    },
    {
     "name": "stdout",
     "output_type": "stream",
     "text": [
      "[248]\ttrain-auc:0.95909\ttrain-mlogloss:0.51407\n"
     ]
    },
    {
     "name": "stdout",
     "output_type": "stream",
     "text": [
      "[249]\ttrain-auc:0.95911\ttrain-mlogloss:0.51377\n"
     ]
    },
    {
     "name": "stdout",
     "output_type": "stream",
     "text": [
      "[250]\ttrain-auc:0.95909\ttrain-mlogloss:0.51372\n"
     ]
    },
    {
     "name": "stdout",
     "output_type": "stream",
     "text": [
      "[251]\ttrain-auc:0.95910\ttrain-mlogloss:0.51355\n"
     ]
    },
    {
     "name": "stdout",
     "output_type": "stream",
     "text": [
      "[252]\ttrain-auc:0.95910\ttrain-mlogloss:0.51338\n"
     ]
    },
    {
     "name": "stdout",
     "output_type": "stream",
     "text": [
      "[253]\ttrain-auc:0.95913\ttrain-mlogloss:0.51323\n"
     ]
    },
    {
     "name": "stdout",
     "output_type": "stream",
     "text": [
      "[254]\ttrain-auc:0.95914\ttrain-mlogloss:0.51312\n"
     ]
    },
    {
     "name": "stdout",
     "output_type": "stream",
     "text": [
      "[255]\ttrain-auc:0.95919\ttrain-mlogloss:0.51278\n"
     ]
    },
    {
     "name": "stdout",
     "output_type": "stream",
     "text": [
      "[256]\ttrain-auc:0.95916\ttrain-mlogloss:0.51270\n"
     ]
    },
    {
     "name": "stdout",
     "output_type": "stream",
     "text": [
      "[257]\ttrain-auc:0.95922\ttrain-mlogloss:0.51260\n"
     ]
    },
    {
     "name": "stdout",
     "output_type": "stream",
     "text": [
      "[258]\ttrain-auc:0.95924\ttrain-mlogloss:0.51246\n"
     ]
    },
    {
     "name": "stdout",
     "output_type": "stream",
     "text": [
      "[259]\ttrain-auc:0.95929\ttrain-mlogloss:0.51227\n"
     ]
    },
    {
     "name": "stdout",
     "output_type": "stream",
     "text": [
      "[260]\ttrain-auc:0.95932\ttrain-mlogloss:0.51205\n"
     ]
    },
    {
     "name": "stdout",
     "output_type": "stream",
     "text": [
      "[261]\ttrain-auc:0.95933\ttrain-mlogloss:0.51188\n"
     ]
    },
    {
     "name": "stdout",
     "output_type": "stream",
     "text": [
      "[262]\ttrain-auc:0.95935\ttrain-mlogloss:0.51164\n"
     ]
    },
    {
     "name": "stdout",
     "output_type": "stream",
     "text": [
      "[263]\ttrain-auc:0.95937\ttrain-mlogloss:0.51141\n"
     ]
    },
    {
     "name": "stdout",
     "output_type": "stream",
     "text": [
      "[264]\ttrain-auc:0.95939\ttrain-mlogloss:0.51134\n"
     ]
    },
    {
     "name": "stdout",
     "output_type": "stream",
     "text": [
      "[265]\ttrain-auc:0.95949\ttrain-mlogloss:0.51107\n"
     ]
    },
    {
     "name": "stdout",
     "output_type": "stream",
     "text": [
      "[266]\ttrain-auc:0.95947\ttrain-mlogloss:0.51098\n"
     ]
    },
    {
     "name": "stdout",
     "output_type": "stream",
     "text": [
      "[267]\ttrain-auc:0.95945\ttrain-mlogloss:0.51077\n"
     ]
    },
    {
     "name": "stdout",
     "output_type": "stream",
     "text": [
      "[268]\ttrain-auc:0.95946\ttrain-mlogloss:0.51067\n"
     ]
    },
    {
     "name": "stdout",
     "output_type": "stream",
     "text": [
      "[269]\ttrain-auc:0.95949\ttrain-mlogloss:0.51047\n"
     ]
    },
    {
     "name": "stdout",
     "output_type": "stream",
     "text": [
      "[270]\ttrain-auc:0.95949\ttrain-mlogloss:0.51034\n"
     ]
    },
    {
     "name": "stdout",
     "output_type": "stream",
     "text": [
      "[271]\ttrain-auc:0.95951\ttrain-mlogloss:0.51019\n"
     ]
    },
    {
     "name": "stdout",
     "output_type": "stream",
     "text": [
      "[272]\ttrain-auc:0.95949\ttrain-mlogloss:0.50998"
     ]
    },
    {
     "name": "stdout",
     "output_type": "stream",
     "text": [
      "\n"
     ]
    },
    {
     "name": "stdout",
     "output_type": "stream",
     "text": [
      "[273]\ttrain-auc:0.95951\ttrain-mlogloss:0.50985\n"
     ]
    },
    {
     "name": "stdout",
     "output_type": "stream",
     "text": [
      "[274]\ttrain-auc:0.95953\ttrain-mlogloss:0.50982\n"
     ]
    },
    {
     "name": "stdout",
     "output_type": "stream",
     "text": [
      "[275]\ttrain-auc:0.95957\ttrain-mlogloss:0.50957\n"
     ]
    },
    {
     "name": "stdout",
     "output_type": "stream",
     "text": [
      "[276]\ttrain-auc:0.95953\ttrain-mlogloss:0.50948\n"
     ]
    },
    {
     "name": "stdout",
     "output_type": "stream",
     "text": [
      "[277]\ttrain-auc:0.95957\ttrain-mlogloss:0.50936\n"
     ]
    },
    {
     "name": "stdout",
     "output_type": "stream",
     "text": [
      "[278]\ttrain-auc:0.95965\ttrain-mlogloss:0.50914\n"
     ]
    },
    {
     "name": "stdout",
     "output_type": "stream",
     "text": [
      "[279]\ttrain-auc:0.95966\ttrain-mlogloss:0.50894\n"
     ]
    },
    {
     "name": "stdout",
     "output_type": "stream",
     "text": [
      "[280]\ttrain-auc:0.95968\ttrain-mlogloss:0.50884\n"
     ]
    },
    {
     "name": "stdout",
     "output_type": "stream",
     "text": [
      "[281]\ttrain-auc:0.95969\ttrain-mlogloss:0.50869\n"
     ]
    },
    {
     "name": "stdout",
     "output_type": "stream",
     "text": [
      "[282]\ttrain-auc:0.95968\ttrain-mlogloss:0.50865\n"
     ]
    },
    {
     "name": "stdout",
     "output_type": "stream",
     "text": [
      "[283]\ttrain-auc:0.95969\ttrain-mlogloss:0.50847\n"
     ]
    },
    {
     "name": "stdout",
     "output_type": "stream",
     "text": [
      "[284]\ttrain-auc:0.95971\ttrain-mlogloss:0.50832\n"
     ]
    },
    {
     "name": "stdout",
     "output_type": "stream",
     "text": [
      "[285]\ttrain-auc:0.95970\ttrain-mlogloss:0.50816\n"
     ]
    },
    {
     "name": "stdout",
     "output_type": "stream",
     "text": [
      "[286]\ttrain-auc:0.95975\ttrain-mlogloss:0.50801\n"
     ]
    },
    {
     "name": "stdout",
     "output_type": "stream",
     "text": [
      "[287]\ttrain-auc:0.95974\ttrain-mlogloss:0.50779\n"
     ]
    },
    {
     "name": "stdout",
     "output_type": "stream",
     "text": [
      "[288]\ttrain-auc:0.95976\ttrain-mlogloss:0.50763\n"
     ]
    },
    {
     "name": "stdout",
     "output_type": "stream",
     "text": [
      "[289]\ttrain-auc:0.95979\ttrain-mlogloss:0.50747\n"
     ]
    },
    {
     "name": "stdout",
     "output_type": "stream",
     "text": [
      "[290]\ttrain-auc:0.95978\ttrain-mlogloss:0.50725\n"
     ]
    },
    {
     "name": "stdout",
     "output_type": "stream",
     "text": [
      "[291]\ttrain-auc:0.95982\ttrain-mlogloss:0.50717\n"
     ]
    },
    {
     "name": "stdout",
     "output_type": "stream",
     "text": [
      "[292]\ttrain-auc:0.95982\ttrain-mlogloss:0.50708\n"
     ]
    },
    {
     "name": "stdout",
     "output_type": "stream",
     "text": [
      "[293]\ttrain-auc:0.95987\ttrain-mlogloss:0.50670\n"
     ]
    },
    {
     "name": "stdout",
     "output_type": "stream",
     "text": [
      "[294]\ttrain-auc:0.95988\ttrain-mlogloss:0.50652\n"
     ]
    },
    {
     "name": "stdout",
     "output_type": "stream",
     "text": [
      "[295]\ttrain-auc:0.95989\ttrain-mlogloss:0.50631\n"
     ]
    },
    {
     "name": "stdout",
     "output_type": "stream",
     "text": [
      "[296]\ttrain-auc:0.95995\ttrain-mlogloss:0.50611\n"
     ]
    },
    {
     "name": "stdout",
     "output_type": "stream",
     "text": [
      "[297]\ttrain-auc:0.95995\ttrain-mlogloss:0.50603\n"
     ]
    },
    {
     "name": "stdout",
     "output_type": "stream",
     "text": [
      "[298]\ttrain-auc:0.96001\ttrain-mlogloss:0.50590\n"
     ]
    },
    {
     "name": "stdout",
     "output_type": "stream",
     "text": [
      "[299]\ttrain-auc:0.96004\ttrain-mlogloss:0.50580\n"
     ]
    },
    {
     "name": "stdout",
     "output_type": "stream",
     "text": [
      "[300]\ttrain-auc:0.96001\ttrain-mlogloss:0.50570\n"
     ]
    },
    {
     "name": "stdout",
     "output_type": "stream",
     "text": [
      "[301]\ttrain-auc:0.96002\ttrain-mlogloss:0.50553\n"
     ]
    },
    {
     "name": "stdout",
     "output_type": "stream",
     "text": [
      "[302]\ttrain-auc:0.96006\ttrain-mlogloss:0.50542\n"
     ]
    },
    {
     "name": "stdout",
     "output_type": "stream",
     "text": [
      "[303]\ttrain-auc:0.96005\ttrain-mlogloss:0.50527\n"
     ]
    },
    {
     "name": "stdout",
     "output_type": "stream",
     "text": [
      "[304]\ttrain-auc:0.96010\ttrain-mlogloss:0.50516\n"
     ]
    },
    {
     "name": "stdout",
     "output_type": "stream",
     "text": [
      "[305]\ttrain-auc:0.96010\ttrain-mlogloss:0.50502\n"
     ]
    },
    {
     "name": "stdout",
     "output_type": "stream",
     "text": [
      "[306]\ttrain-auc:0.96008\ttrain-mlogloss:0.50489\n"
     ]
    },
    {
     "name": "stdout",
     "output_type": "stream",
     "text": [
      "[307]\ttrain-auc:0.96009\ttrain-mlogloss:0.50463\n"
     ]
    },
    {
     "name": "stdout",
     "output_type": "stream",
     "text": [
      "[308]\ttrain-auc:0.96011\ttrain-mlogloss:0.50454\n"
     ]
    },
    {
     "name": "stdout",
     "output_type": "stream",
     "text": [
      "[309]\ttrain-auc:0.96014\ttrain-mlogloss:0.50438\n"
     ]
    },
    {
     "name": "stdout",
     "output_type": "stream",
     "text": [
      "[310]\ttrain-auc:0.96017\ttrain-mlogloss:0.50430\n"
     ]
    },
    {
     "name": "stdout",
     "output_type": "stream",
     "text": [
      "[311]\ttrain-auc:0.96022\ttrain-mlogloss:0.50401\n"
     ]
    },
    {
     "name": "stdout",
     "output_type": "stream",
     "text": [
      "[312]\ttrain-auc:0.96016\ttrain-mlogloss:0.50374\n"
     ]
    },
    {
     "name": "stdout",
     "output_type": "stream",
     "text": [
      "[313]\ttrain-auc:0.96019\ttrain-mlogloss:0.50357"
     ]
    },
    {
     "name": "stdout",
     "output_type": "stream",
     "text": [
      "\n"
     ]
    },
    {
     "name": "stdout",
     "output_type": "stream",
     "text": [
      "[314]\ttrain-auc:0.96026\ttrain-mlogloss:0.50341\n"
     ]
    },
    {
     "name": "stdout",
     "output_type": "stream",
     "text": [
      "[315]\ttrain-auc:0.96027\ttrain-mlogloss:0.50320\n"
     ]
    },
    {
     "name": "stdout",
     "output_type": "stream",
     "text": [
      "[316]\ttrain-auc:0.96028\ttrain-mlogloss:0.50301\n"
     ]
    },
    {
     "name": "stdout",
     "output_type": "stream",
     "text": [
      "[317]\ttrain-auc:0.96034\ttrain-mlogloss:0.50283\n"
     ]
    },
    {
     "name": "stdout",
     "output_type": "stream",
     "text": [
      "[318]\ttrain-auc:0.96033\ttrain-mlogloss:0.50268\n"
     ]
    },
    {
     "name": "stdout",
     "output_type": "stream",
     "text": [
      "[319]\ttrain-auc:0.96035\ttrain-mlogloss:0.50251\n"
     ]
    },
    {
     "name": "stdout",
     "output_type": "stream",
     "text": [
      "[320]\ttrain-auc:0.96038\ttrain-mlogloss:0.50236\n"
     ]
    },
    {
     "name": "stdout",
     "output_type": "stream",
     "text": [
      "[321]\ttrain-auc:0.96033\ttrain-mlogloss:0.50208\n"
     ]
    },
    {
     "name": "stdout",
     "output_type": "stream",
     "text": [
      "[322]\ttrain-auc:0.96040\ttrain-mlogloss:0.50195\n"
     ]
    },
    {
     "name": "stdout",
     "output_type": "stream",
     "text": [
      "[323]\ttrain-auc:0.96042\ttrain-mlogloss:0.50186\n"
     ]
    },
    {
     "name": "stdout",
     "output_type": "stream",
     "text": [
      "[324]\ttrain-auc:0.96043\ttrain-mlogloss:0.50176\n"
     ]
    },
    {
     "name": "stdout",
     "output_type": "stream",
     "text": [
      "[325]\ttrain-auc:0.96045\ttrain-mlogloss:0.50166\n"
     ]
    },
    {
     "name": "stdout",
     "output_type": "stream",
     "text": [
      "[326]\ttrain-auc:0.96047\ttrain-mlogloss:0.50157\n"
     ]
    },
    {
     "name": "stdout",
     "output_type": "stream",
     "text": [
      "[327]\ttrain-auc:0.96046\ttrain-mlogloss:0.50148\n"
     ]
    },
    {
     "name": "stdout",
     "output_type": "stream",
     "text": [
      "[328]\ttrain-auc:0.96049\ttrain-mlogloss:0.50136\n"
     ]
    },
    {
     "name": "stdout",
     "output_type": "stream",
     "text": [
      "[329]\ttrain-auc:0.96052\ttrain-mlogloss:0.50116\n"
     ]
    },
    {
     "name": "stdout",
     "output_type": "stream",
     "text": [
      "[330]\ttrain-auc:0.96052\ttrain-mlogloss:0.50102\n"
     ]
    },
    {
     "name": "stdout",
     "output_type": "stream",
     "text": [
      "[331]\ttrain-auc:0.96050\ttrain-mlogloss:0.50083\n"
     ]
    },
    {
     "name": "stdout",
     "output_type": "stream",
     "text": [
      "[332]\ttrain-auc:0.96049\ttrain-mlogloss:0.50075\n"
     ]
    },
    {
     "name": "stdout",
     "output_type": "stream",
     "text": [
      "[333]\ttrain-auc:0.96052\ttrain-mlogloss:0.50060\n"
     ]
    },
    {
     "name": "stdout",
     "output_type": "stream",
     "text": [
      "[334]\ttrain-auc:0.96054\ttrain-mlogloss:0.50052\n"
     ]
    },
    {
     "name": "stdout",
     "output_type": "stream",
     "text": [
      "[335]\ttrain-auc:0.96057\ttrain-mlogloss:0.50044\n"
     ]
    },
    {
     "name": "stdout",
     "output_type": "stream",
     "text": [
      "[336]\ttrain-auc:0.96056\ttrain-mlogloss:0.50041\n"
     ]
    },
    {
     "name": "stdout",
     "output_type": "stream",
     "text": [
      "[337]\ttrain-auc:0.96056\ttrain-mlogloss:0.50038\n"
     ]
    },
    {
     "name": "stdout",
     "output_type": "stream",
     "text": [
      "[338]\ttrain-auc:0.96060\ttrain-mlogloss:0.50010\n"
     ]
    },
    {
     "name": "stdout",
     "output_type": "stream",
     "text": [
      "[339]\ttrain-auc:0.96062\ttrain-mlogloss:0.50004\n"
     ]
    },
    {
     "name": "stdout",
     "output_type": "stream",
     "text": [
      "[340]\ttrain-auc:0.96063\ttrain-mlogloss:0.49990\n"
     ]
    },
    {
     "name": "stdout",
     "output_type": "stream",
     "text": [
      "[341]\ttrain-auc:0.96063\ttrain-mlogloss:0.49976\n"
     ]
    },
    {
     "name": "stdout",
     "output_type": "stream",
     "text": [
      "[342]\ttrain-auc:0.96062\ttrain-mlogloss:0.49970\n"
     ]
    },
    {
     "name": "stdout",
     "output_type": "stream",
     "text": [
      "[343]\ttrain-auc:0.96059\ttrain-mlogloss:0.49956\n"
     ]
    },
    {
     "name": "stdout",
     "output_type": "stream",
     "text": [
      "[344]\ttrain-auc:0.96066\ttrain-mlogloss:0.49947\n"
     ]
    },
    {
     "name": "stdout",
     "output_type": "stream",
     "text": [
      "[345]\ttrain-auc:0.96066\ttrain-mlogloss:0.49930\n"
     ]
    },
    {
     "name": "stdout",
     "output_type": "stream",
     "text": [
      "[346]\ttrain-auc:0.96066\ttrain-mlogloss:0.49924\n"
     ]
    },
    {
     "name": "stdout",
     "output_type": "stream",
     "text": [
      "[347]\ttrain-auc:0.96066\ttrain-mlogloss:0.49916\n"
     ]
    },
    {
     "name": "stdout",
     "output_type": "stream",
     "text": [
      "[348]\ttrain-auc:0.96062\ttrain-mlogloss:0.49910\n"
     ]
    },
    {
     "name": "stdout",
     "output_type": "stream",
     "text": [
      "[349]\ttrain-auc:0.96067\ttrain-mlogloss:0.49904\n"
     ]
    },
    {
     "name": "stdout",
     "output_type": "stream",
     "text": [
      "[350]\ttrain-auc:0.96069\ttrain-mlogloss:0.49891\n"
     ]
    },
    {
     "name": "stdout",
     "output_type": "stream",
     "text": [
      "[351]\ttrain-auc:0.96075\ttrain-mlogloss:0.49879\n"
     ]
    },
    {
     "name": "stdout",
     "output_type": "stream",
     "text": [
      "[352]\ttrain-auc:0.96076\ttrain-mlogloss:0.49871\n"
     ]
    },
    {
     "name": "stdout",
     "output_type": "stream",
     "text": [
      "[353]\ttrain-auc:0.96075\ttrain-mlogloss:0.49869\n"
     ]
    },
    {
     "name": "stdout",
     "output_type": "stream",
     "text": [
      "[354]\ttrain-auc:0.96076\ttrain-mlogloss:0.49856\n"
     ]
    },
    {
     "name": "stdout",
     "output_type": "stream",
     "text": [
      "[355]\ttrain-auc:0.96076\ttrain-mlogloss:0.49843\n"
     ]
    },
    {
     "name": "stdout",
     "output_type": "stream",
     "text": [
      "[356]\ttrain-auc:0.96077\ttrain-mlogloss:0.49834\n"
     ]
    },
    {
     "name": "stdout",
     "output_type": "stream",
     "text": [
      "[357]\ttrain-auc:0.96079\ttrain-mlogloss:0.49817\n"
     ]
    },
    {
     "name": "stdout",
     "output_type": "stream",
     "text": [
      "[358]\ttrain-auc:0.96081\ttrain-mlogloss:0.49797\n"
     ]
    },
    {
     "name": "stdout",
     "output_type": "stream",
     "text": [
      "[359]\ttrain-auc:0.96083\ttrain-mlogloss:0.49789\n"
     ]
    },
    {
     "name": "stdout",
     "output_type": "stream",
     "text": [
      "[360]\ttrain-auc:0.96082\ttrain-mlogloss:0.49777\n"
     ]
    },
    {
     "name": "stdout",
     "output_type": "stream",
     "text": [
      "[361]\ttrain-auc:0.96083\ttrain-mlogloss:0.49765\n"
     ]
    },
    {
     "name": "stdout",
     "output_type": "stream",
     "text": [
      "[362]\ttrain-auc:0.96083\ttrain-mlogloss:0.49758\n"
     ]
    },
    {
     "name": "stdout",
     "output_type": "stream",
     "text": [
      "[363]\ttrain-auc:0.96084\ttrain-mlogloss:0.49743\n"
     ]
    },
    {
     "name": "stdout",
     "output_type": "stream",
     "text": [
      "[364]\ttrain-auc:0.96083\ttrain-mlogloss:0.49741\n"
     ]
    },
    {
     "name": "stdout",
     "output_type": "stream",
     "text": [
      "[365]\ttrain-auc:0.96083\ttrain-mlogloss:0.49736\n"
     ]
    },
    {
     "name": "stdout",
     "output_type": "stream",
     "text": [
      "[366]\ttrain-auc:0.96085\ttrain-mlogloss:0.49727\n"
     ]
    },
    {
     "name": "stdout",
     "output_type": "stream",
     "text": [
      "[367]\ttrain-auc:0.96087\ttrain-mlogloss:0.49721\n"
     ]
    },
    {
     "name": "stdout",
     "output_type": "stream",
     "text": [
      "[368]\ttrain-auc:0.96087\ttrain-mlogloss:0.49716\n"
     ]
    },
    {
     "name": "stdout",
     "output_type": "stream",
     "text": [
      "[369]\ttrain-auc:0.96087\ttrain-mlogloss:0.49699\n"
     ]
    },
    {
     "name": "stdout",
     "output_type": "stream",
     "text": [
      "[370]\ttrain-auc:0.96089\ttrain-mlogloss:0.49689\n"
     ]
    },
    {
     "name": "stdout",
     "output_type": "stream",
     "text": [
      "[371]\ttrain-auc:0.96089\ttrain-mlogloss:0.49682\n"
     ]
    },
    {
     "name": "stdout",
     "output_type": "stream",
     "text": [
      "[372]\ttrain-auc:0.96092\ttrain-mlogloss:0.49669\n"
     ]
    },
    {
     "name": "stdout",
     "output_type": "stream",
     "text": [
      "[373]\ttrain-auc:0.96094\ttrain-mlogloss:0.49660\n"
     ]
    },
    {
     "name": "stdout",
     "output_type": "stream",
     "text": [
      "[374]\ttrain-auc:0.96093\ttrain-mlogloss:0.49649\n"
     ]
    },
    {
     "name": "stdout",
     "output_type": "stream",
     "text": [
      "[375]\ttrain-auc:0.96095\ttrain-mlogloss:0.49634\n"
     ]
    },
    {
     "name": "stdout",
     "output_type": "stream",
     "text": [
      "[376]\ttrain-auc:0.96094\ttrain-mlogloss:0.49621\n"
     ]
    },
    {
     "name": "stdout",
     "output_type": "stream",
     "text": [
      "[377]\ttrain-auc:0.96093\ttrain-mlogloss:0.49608\n"
     ]
    },
    {
     "name": "stdout",
     "output_type": "stream",
     "text": [
      "[378]\ttrain-auc:0.96093\ttrain-mlogloss:0.49597\n"
     ]
    },
    {
     "name": "stdout",
     "output_type": "stream",
     "text": [
      "[379]\ttrain-auc:0.96094\ttrain-mlogloss:0.49592\n"
     ]
    },
    {
     "name": "stdout",
     "output_type": "stream",
     "text": [
      "[380]\ttrain-auc:0.96096\ttrain-mlogloss:0.49576\n"
     ]
    },
    {
     "name": "stdout",
     "output_type": "stream",
     "text": [
      "[381]\ttrain-auc:0.96098\ttrain-mlogloss:0.49565\n"
     ]
    },
    {
     "name": "stdout",
     "output_type": "stream",
     "text": [
      "[382]\ttrain-auc:0.96102\ttrain-mlogloss:0.49550\n"
     ]
    },
    {
     "name": "stdout",
     "output_type": "stream",
     "text": [
      "[383]\ttrain-auc:0.96102\ttrain-mlogloss:0.49542\n"
     ]
    },
    {
     "name": "stdout",
     "output_type": "stream",
     "text": [
      "[384]\ttrain-auc:0.96103\ttrain-mlogloss:0.49532\n"
     ]
    },
    {
     "name": "stdout",
     "output_type": "stream",
     "text": [
      "[385]\ttrain-auc:0.96102\ttrain-mlogloss:0.49527\n"
     ]
    },
    {
     "name": "stdout",
     "output_type": "stream",
     "text": [
      "[386]\ttrain-auc:0.96103\ttrain-mlogloss:0.49523\n"
     ]
    },
    {
     "name": "stdout",
     "output_type": "stream",
     "text": [
      "[387]\ttrain-auc:0.96103\ttrain-mlogloss:0.49518\n"
     ]
    },
    {
     "name": "stdout",
     "output_type": "stream",
     "text": [
      "[388]\ttrain-auc:0.96104\ttrain-mlogloss:0.49507\n"
     ]
    },
    {
     "name": "stdout",
     "output_type": "stream",
     "text": [
      "[389]\ttrain-auc:0.96106\ttrain-mlogloss:0.49500\n"
     ]
    },
    {
     "name": "stdout",
     "output_type": "stream",
     "text": [
      "[390]\ttrain-auc:0.96109\ttrain-mlogloss:0.49489\n"
     ]
    },
    {
     "name": "stdout",
     "output_type": "stream",
     "text": [
      "[391]\ttrain-auc:0.96109\ttrain-mlogloss:0.49476\n"
     ]
    },
    {
     "name": "stdout",
     "output_type": "stream",
     "text": [
      "[392]\ttrain-auc:0.96114\ttrain-mlogloss:0.49462\n"
     ]
    },
    {
     "name": "stdout",
     "output_type": "stream",
     "text": [
      "[393]\ttrain-auc:0.96113\ttrain-mlogloss:0.49454\n"
     ]
    },
    {
     "name": "stdout",
     "output_type": "stream",
     "text": [
      "[394]\ttrain-auc:0.96115\ttrain-mlogloss:0.49449\n"
     ]
    },
    {
     "name": "stdout",
     "output_type": "stream",
     "text": [
      "[395]\ttrain-auc:0.96114\ttrain-mlogloss:0.49441\n"
     ]
    },
    {
     "name": "stdout",
     "output_type": "stream",
     "text": [
      "[396]\ttrain-auc:0.96115\ttrain-mlogloss:0.49432\n"
     ]
    },
    {
     "name": "stdout",
     "output_type": "stream",
     "text": [
      "[397]\ttrain-auc:0.96118\ttrain-mlogloss:0.49421\n"
     ]
    },
    {
     "name": "stdout",
     "output_type": "stream",
     "text": [
      "[398]\ttrain-auc:0.96119\ttrain-mlogloss:0.49408\n"
     ]
    },
    {
     "name": "stdout",
     "output_type": "stream",
     "text": [
      "[399]\ttrain-auc:0.96122\ttrain-mlogloss:0.49399\n"
     ]
    },
    {
     "name": "stdout",
     "output_type": "stream",
     "text": [
      "[400]\ttrain-auc:0.96125\ttrain-mlogloss:0.49392\n"
     ]
    },
    {
     "name": "stdout",
     "output_type": "stream",
     "text": [
      "[401]\ttrain-auc:0.96126\ttrain-mlogloss:0.49382\n"
     ]
    },
    {
     "name": "stdout",
     "output_type": "stream",
     "text": [
      "[402]\ttrain-auc:0.96126\ttrain-mlogloss:0.49382\n"
     ]
    },
    {
     "name": "stdout",
     "output_type": "stream",
     "text": [
      "[403]\ttrain-auc:0.96126\ttrain-mlogloss:0.49368\n"
     ]
    },
    {
     "name": "stdout",
     "output_type": "stream",
     "text": [
      "[404]\ttrain-auc:0.96128\ttrain-mlogloss:0.49356\n"
     ]
    },
    {
     "name": "stdout",
     "output_type": "stream",
     "text": [
      "[405]\ttrain-auc:0.96128\ttrain-mlogloss:0.49347\n"
     ]
    },
    {
     "name": "stdout",
     "output_type": "stream",
     "text": [
      "[406]\ttrain-auc:0.96130\ttrain-mlogloss:0.49345\n"
     ]
    },
    {
     "name": "stdout",
     "output_type": "stream",
     "text": [
      "[407]\ttrain-auc:0.96134\ttrain-mlogloss:0.49328\n"
     ]
    },
    {
     "name": "stdout",
     "output_type": "stream",
     "text": [
      "[408]\ttrain-auc:0.96133\ttrain-mlogloss:0.49318"
     ]
    },
    {
     "name": "stdout",
     "output_type": "stream",
     "text": [
      "\n"
     ]
    },
    {
     "name": "stdout",
     "output_type": "stream",
     "text": [
      "[409]\ttrain-auc:0.96133\ttrain-mlogloss:0.49307\n"
     ]
    },
    {
     "name": "stdout",
     "output_type": "stream",
     "text": [
      "[410]\ttrain-auc:0.96134\ttrain-mlogloss:0.49302\n"
     ]
    },
    {
     "name": "stdout",
     "output_type": "stream",
     "text": [
      "[411]\ttrain-auc:0.96134\ttrain-mlogloss:0.49296\n"
     ]
    },
    {
     "name": "stdout",
     "output_type": "stream",
     "text": [
      "[412]\ttrain-auc:0.96136\ttrain-mlogloss:0.49285"
     ]
    },
    {
     "name": "stdout",
     "output_type": "stream",
     "text": [
      "\n"
     ]
    },
    {
     "name": "stdout",
     "output_type": "stream",
     "text": [
      "[413]\ttrain-auc:0.96137\ttrain-mlogloss:0.49274\n"
     ]
    },
    {
     "name": "stdout",
     "output_type": "stream",
     "text": [
      "[414]\ttrain-auc:0.96139\ttrain-mlogloss:0.49268\n"
     ]
    },
    {
     "name": "stdout",
     "output_type": "stream",
     "text": [
      "[415]\ttrain-auc:0.96141\ttrain-mlogloss:0.49266\n"
     ]
    },
    {
     "name": "stdout",
     "output_type": "stream",
     "text": [
      "[416]\ttrain-auc:0.96143\ttrain-mlogloss:0.49259\n"
     ]
    },
    {
     "name": "stdout",
     "output_type": "stream",
     "text": [
      "[417]\ttrain-auc:0.96144\ttrain-mlogloss:0.49258\n"
     ]
    },
    {
     "name": "stdout",
     "output_type": "stream",
     "text": [
      "[418]\ttrain-auc:0.96142\ttrain-mlogloss:0.49253\n"
     ]
    },
    {
     "name": "stdout",
     "output_type": "stream",
     "text": [
      "[419]\ttrain-auc:0.96144\ttrain-mlogloss:0.49246\n"
     ]
    },
    {
     "name": "stdout",
     "output_type": "stream",
     "text": [
      "[420]\ttrain-auc:0.96144\ttrain-mlogloss:0.49238\n"
     ]
    },
    {
     "name": "stdout",
     "output_type": "stream",
     "text": [
      "[421]\ttrain-auc:0.96142\ttrain-mlogloss:0.49232\n"
     ]
    },
    {
     "name": "stdout",
     "output_type": "stream",
     "text": [
      "[422]\ttrain-auc:0.96143\ttrain-mlogloss:0.49229\n"
     ]
    },
    {
     "name": "stdout",
     "output_type": "stream",
     "text": [
      "[423]\ttrain-auc:0.96145\ttrain-mlogloss:0.49213\n"
     ]
    },
    {
     "name": "stdout",
     "output_type": "stream",
     "text": [
      "[424]\ttrain-auc:0.96148\ttrain-mlogloss:0.49204\n"
     ]
    },
    {
     "name": "stdout",
     "output_type": "stream",
     "text": [
      "[425]\ttrain-auc:0.96149\ttrain-mlogloss:0.49193\n"
     ]
    },
    {
     "name": "stdout",
     "output_type": "stream",
     "text": [
      "[426]\ttrain-auc:0.96148\ttrain-mlogloss:0.49185\n"
     ]
    },
    {
     "name": "stdout",
     "output_type": "stream",
     "text": [
      "[427]\ttrain-auc:0.96153\ttrain-mlogloss:0.49173\n"
     ]
    },
    {
     "name": "stdout",
     "output_type": "stream",
     "text": [
      "[428]\ttrain-auc:0.96154\ttrain-mlogloss:0.49172\n"
     ]
    },
    {
     "name": "stdout",
     "output_type": "stream",
     "text": [
      "[429]\ttrain-auc:0.96155\ttrain-mlogloss:0.49162\n"
     ]
    },
    {
     "name": "stdout",
     "output_type": "stream",
     "text": [
      "[430]\ttrain-auc:0.96155\ttrain-mlogloss:0.49155\n"
     ]
    },
    {
     "name": "stdout",
     "output_type": "stream",
     "text": [
      "[431]\ttrain-auc:0.96155\ttrain-mlogloss:0.49148\n"
     ]
    },
    {
     "name": "stdout",
     "output_type": "stream",
     "text": [
      "[432]\ttrain-auc:0.96155\ttrain-mlogloss:0.49133\n"
     ]
    },
    {
     "name": "stdout",
     "output_type": "stream",
     "text": [
      "[433]\ttrain-auc:0.96156\ttrain-mlogloss:0.49128\n"
     ]
    },
    {
     "name": "stdout",
     "output_type": "stream",
     "text": [
      "[434]\ttrain-auc:0.96159\ttrain-mlogloss:0.49114\n"
     ]
    },
    {
     "name": "stdout",
     "output_type": "stream",
     "text": [
      "[435]\ttrain-auc:0.96158\ttrain-mlogloss:0.49108\n"
     ]
    },
    {
     "name": "stdout",
     "output_type": "stream",
     "text": [
      "[436]\ttrain-auc:0.96158\ttrain-mlogloss:0.49102\n"
     ]
    },
    {
     "name": "stdout",
     "output_type": "stream",
     "text": [
      "[437]\ttrain-auc:0.96159\ttrain-mlogloss:0.49096\n"
     ]
    },
    {
     "name": "stdout",
     "output_type": "stream",
     "text": [
      "[438]\ttrain-auc:0.96159\ttrain-mlogloss:0.49091\n"
     ]
    },
    {
     "name": "stdout",
     "output_type": "stream",
     "text": [
      "[439]\ttrain-auc:0.96154\ttrain-mlogloss:0.49083\n"
     ]
    },
    {
     "name": "stdout",
     "output_type": "stream",
     "text": [
      "[440]\ttrain-auc:0.96155\ttrain-mlogloss:0.49075\n"
     ]
    },
    {
     "name": "stdout",
     "output_type": "stream",
     "text": [
      "[441]\ttrain-auc:0.96155\ttrain-mlogloss:0.49069\n"
     ]
    },
    {
     "name": "stdout",
     "output_type": "stream",
     "text": [
      "[442]\ttrain-auc:0.96156\ttrain-mlogloss:0.49067\n"
     ]
    },
    {
     "name": "stdout",
     "output_type": "stream",
     "text": [
      "[443]\ttrain-auc:0.96162\ttrain-mlogloss:0.49057\n"
     ]
    },
    {
     "name": "stdout",
     "output_type": "stream",
     "text": [
      "[444]\ttrain-auc:0.96162\ttrain-mlogloss:0.49048\n"
     ]
    },
    {
     "name": "stdout",
     "output_type": "stream",
     "text": [
      "[445]\ttrain-auc:0.96165\ttrain-mlogloss:0.49044\n"
     ]
    },
    {
     "name": "stdout",
     "output_type": "stream",
     "text": [
      "[446]\ttrain-auc:0.96169\ttrain-mlogloss:0.49033\n"
     ]
    },
    {
     "name": "stdout",
     "output_type": "stream",
     "text": [
      "[447]\ttrain-auc:0.96169\ttrain-mlogloss:0.49024\n"
     ]
    },
    {
     "name": "stdout",
     "output_type": "stream",
     "text": [
      "[448]\ttrain-auc:0.96169\ttrain-mlogloss:0.49016\n"
     ]
    },
    {
     "name": "stdout",
     "output_type": "stream",
     "text": [
      "[449]\ttrain-auc:0.96169\ttrain-mlogloss:0.49008\n"
     ]
    },
    {
     "name": "stdout",
     "output_type": "stream",
     "text": [
      "[450]\ttrain-auc:0.96171\ttrain-mlogloss:0.49001\n"
     ]
    },
    {
     "name": "stdout",
     "output_type": "stream",
     "text": [
      "[451]\ttrain-auc:0.96175\ttrain-mlogloss:0.48990\n"
     ]
    },
    {
     "name": "stdout",
     "output_type": "stream",
     "text": [
      "[452]\ttrain-auc:0.96175\ttrain-mlogloss:0.48989\n"
     ]
    },
    {
     "name": "stdout",
     "output_type": "stream",
     "text": [
      "[453]\ttrain-auc:0.96176\ttrain-mlogloss:0.48983\n"
     ]
    },
    {
     "name": "stdout",
     "output_type": "stream",
     "text": [
      "[454]\ttrain-auc:0.96176\ttrain-mlogloss:0.48977\n"
     ]
    },
    {
     "name": "stdout",
     "output_type": "stream",
     "text": [
      "[455]\ttrain-auc:0.96177\ttrain-mlogloss:0.48970\n"
     ]
    },
    {
     "name": "stdout",
     "output_type": "stream",
     "text": [
      "[456]\ttrain-auc:0.96176\ttrain-mlogloss:0.48967\n"
     ]
    },
    {
     "name": "stdout",
     "output_type": "stream",
     "text": [
      "[457]\ttrain-auc:0.96177\ttrain-mlogloss:0.48965\n"
     ]
    },
    {
     "name": "stdout",
     "output_type": "stream",
     "text": [
      "[458]\ttrain-auc:0.96178\ttrain-mlogloss:0.48959\n"
     ]
    },
    {
     "name": "stdout",
     "output_type": "stream",
     "text": [
      "[459]\ttrain-auc:0.96179\ttrain-mlogloss:0.48943\n"
     ]
    },
    {
     "name": "stdout",
     "output_type": "stream",
     "text": [
      "[460]\ttrain-auc:0.96182\ttrain-mlogloss:0.48935\n"
     ]
    },
    {
     "name": "stdout",
     "output_type": "stream",
     "text": [
      "[461]\ttrain-auc:0.96181\ttrain-mlogloss:0.48919\n"
     ]
    },
    {
     "name": "stdout",
     "output_type": "stream",
     "text": [
      "[462]\ttrain-auc:0.96181\ttrain-mlogloss:0.48914\n"
     ]
    },
    {
     "name": "stdout",
     "output_type": "stream",
     "text": [
      "[463]\ttrain-auc:0.96182\ttrain-mlogloss:0.48913\n"
     ]
    },
    {
     "name": "stdout",
     "output_type": "stream",
     "text": [
      "[464]\ttrain-auc:0.96180\ttrain-mlogloss:0.48907\n"
     ]
    },
    {
     "name": "stdout",
     "output_type": "stream",
     "text": [
      "[465]\ttrain-auc:0.96184\ttrain-mlogloss:0.48899\n"
     ]
    },
    {
     "name": "stdout",
     "output_type": "stream",
     "text": [
      "[466]\ttrain-auc:0.96185\ttrain-mlogloss:0.48891\n"
     ]
    },
    {
     "name": "stdout",
     "output_type": "stream",
     "text": [
      "[467]\ttrain-auc:0.96188\ttrain-mlogloss:0.48877\n"
     ]
    },
    {
     "name": "stdout",
     "output_type": "stream",
     "text": [
      "[468]\ttrain-auc:0.96191\ttrain-mlogloss:0.48869\n"
     ]
    },
    {
     "name": "stdout",
     "output_type": "stream",
     "text": [
      "[469]\ttrain-auc:0.96191\ttrain-mlogloss:0.48860\n"
     ]
    },
    {
     "name": "stdout",
     "output_type": "stream",
     "text": [
      "[470]\ttrain-auc:0.96191\ttrain-mlogloss:0.48853\n"
     ]
    },
    {
     "name": "stdout",
     "output_type": "stream",
     "text": [
      "[471]\ttrain-auc:0.96193\ttrain-mlogloss:0.48847\n"
     ]
    },
    {
     "name": "stdout",
     "output_type": "stream",
     "text": [
      "[472]\ttrain-auc:0.96192\ttrain-mlogloss:0.48840\n"
     ]
    },
    {
     "name": "stdout",
     "output_type": "stream",
     "text": [
      "[473]\ttrain-auc:0.96193\ttrain-mlogloss:0.48835\n"
     ]
    },
    {
     "name": "stdout",
     "output_type": "stream",
     "text": [
      "[474]\ttrain-auc:0.96193\ttrain-mlogloss:0.48834\n"
     ]
    },
    {
     "name": "stdout",
     "output_type": "stream",
     "text": [
      "[475]\ttrain-auc:0.96194\ttrain-mlogloss:0.48824\n"
     ]
    },
    {
     "name": "stdout",
     "output_type": "stream",
     "text": [
      "[476]\ttrain-auc:0.96194\ttrain-mlogloss:0.48812\n"
     ]
    },
    {
     "name": "stdout",
     "output_type": "stream",
     "text": [
      "[477]\ttrain-auc:0.96194\ttrain-mlogloss:0.48797\n"
     ]
    },
    {
     "name": "stdout",
     "output_type": "stream",
     "text": [
      "[478]\ttrain-auc:0.96195\ttrain-mlogloss:0.48786\n"
     ]
    },
    {
     "name": "stdout",
     "output_type": "stream",
     "text": [
      "[479]\ttrain-auc:0.96196\ttrain-mlogloss:0.48780\n"
     ]
    },
    {
     "name": "stdout",
     "output_type": "stream",
     "text": [
      "[480]\ttrain-auc:0.96196\ttrain-mlogloss:0.48777\n"
     ]
    },
    {
     "name": "stdout",
     "output_type": "stream",
     "text": [
      "[481]\ttrain-auc:0.96197\ttrain-mlogloss:0.48769\n"
     ]
    },
    {
     "name": "stdout",
     "output_type": "stream",
     "text": [
      "[482]\ttrain-auc:0.96198\ttrain-mlogloss:0.48763\n"
     ]
    },
    {
     "name": "stdout",
     "output_type": "stream",
     "text": [
      "[483]\ttrain-auc:0.96200\ttrain-mlogloss:0.48762\n"
     ]
    },
    {
     "name": "stdout",
     "output_type": "stream",
     "text": [
      "[484]\ttrain-auc:0.96207\ttrain-mlogloss:0.48753\n"
     ]
    },
    {
     "name": "stdout",
     "output_type": "stream",
     "text": [
      "[485]\ttrain-auc:0.96208\ttrain-mlogloss:0.48748\n"
     ]
    },
    {
     "name": "stdout",
     "output_type": "stream",
     "text": [
      "[486]\ttrain-auc:0.96209\ttrain-mlogloss:0.48735\n"
     ]
    },
    {
     "name": "stdout",
     "output_type": "stream",
     "text": [
      "[487]\ttrain-auc:0.96207\ttrain-mlogloss:0.48733\n"
     ]
    },
    {
     "name": "stdout",
     "output_type": "stream",
     "text": [
      "[488]\ttrain-auc:0.96209\ttrain-mlogloss:0.48729\n"
     ]
    },
    {
     "name": "stdout",
     "output_type": "stream",
     "text": [
      "[489]\ttrain-auc:0.96211\ttrain-mlogloss:0.48725\n"
     ]
    },
    {
     "name": "stdout",
     "output_type": "stream",
     "text": [
      "[490]\ttrain-auc:0.96212\ttrain-mlogloss:0.48714\n"
     ]
    },
    {
     "name": "stdout",
     "output_type": "stream",
     "text": [
      "[491]\ttrain-auc:0.96210\ttrain-mlogloss:0.48705\n"
     ]
    },
    {
     "name": "stdout",
     "output_type": "stream",
     "text": [
      "[492]\ttrain-auc:0.96210\ttrain-mlogloss:0.48701\n"
     ]
    },
    {
     "name": "stdout",
     "output_type": "stream",
     "text": [
      "[493]\ttrain-auc:0.96212\ttrain-mlogloss:0.48696\n"
     ]
    },
    {
     "name": "stdout",
     "output_type": "stream",
     "text": [
      "[494]\ttrain-auc:0.96209\ttrain-mlogloss:0.48689\n"
     ]
    },
    {
     "name": "stdout",
     "output_type": "stream",
     "text": [
      "[495]\ttrain-auc:0.96214\ttrain-mlogloss:0.48684\n"
     ]
    },
    {
     "name": "stdout",
     "output_type": "stream",
     "text": [
      "[496]\ttrain-auc:0.96212\ttrain-mlogloss:0.48675\n"
     ]
    },
    {
     "name": "stdout",
     "output_type": "stream",
     "text": [
      "[497]\ttrain-auc:0.96212\ttrain-mlogloss:0.48670\n"
     ]
    },
    {
     "name": "stdout",
     "output_type": "stream",
     "text": [
      "[498]\ttrain-auc:0.96217\ttrain-mlogloss:0.48665\n"
     ]
    },
    {
     "name": "stdout",
     "output_type": "stream",
     "text": [
      "[499]\ttrain-auc:0.96217\ttrain-mlogloss:0.48661\n"
     ]
    },
    {
     "name": "stdout",
     "output_type": "stream",
     "text": [
      "[500]\ttrain-auc:0.96219\ttrain-mlogloss:0.48657\n"
     ]
    },
    {
     "name": "stdout",
     "output_type": "stream",
     "text": [
      "[501]\ttrain-auc:0.96217\ttrain-mlogloss:0.48646\n"
     ]
    },
    {
     "name": "stdout",
     "output_type": "stream",
     "text": [
      "[502]\ttrain-auc:0.96216\ttrain-mlogloss:0.48637\n"
     ]
    },
    {
     "name": "stdout",
     "output_type": "stream",
     "text": [
      "[503]\ttrain-auc:0.96215\ttrain-mlogloss:0.48634\n"
     ]
    },
    {
     "name": "stdout",
     "output_type": "stream",
     "text": [
      "[504]\ttrain-auc:0.96214\ttrain-mlogloss:0.48629\n"
     ]
    },
    {
     "name": "stdout",
     "output_type": "stream",
     "text": [
      "[505]\ttrain-auc:0.96215\ttrain-mlogloss:0.48626\n"
     ]
    },
    {
     "name": "stdout",
     "output_type": "stream",
     "text": [
      "[506]\ttrain-auc:0.96213\ttrain-mlogloss:0.48625\n"
     ]
    },
    {
     "name": "stdout",
     "output_type": "stream",
     "text": [
      "[507]\ttrain-auc:0.96214\ttrain-mlogloss:0.48624\n"
     ]
    },
    {
     "name": "stdout",
     "output_type": "stream",
     "text": [
      "[508]\ttrain-auc:0.96217\ttrain-mlogloss:0.48611\n"
     ]
    },
    {
     "name": "stdout",
     "output_type": "stream",
     "text": [
      "[509]\ttrain-auc:0.96219\ttrain-mlogloss:0.48603\n"
     ]
    },
    {
     "name": "stdout",
     "output_type": "stream",
     "text": [
      "[510]\ttrain-auc:0.96220\ttrain-mlogloss:0.48599\n"
     ]
    },
    {
     "name": "stdout",
     "output_type": "stream",
     "text": [
      "[511]\ttrain-auc:0.96225\ttrain-mlogloss:0.48593\n"
     ]
    },
    {
     "name": "stdout",
     "output_type": "stream",
     "text": [
      "[512]\ttrain-auc:0.96224\ttrain-mlogloss:0.48585\n"
     ]
    },
    {
     "name": "stdout",
     "output_type": "stream",
     "text": [
      "[513]\ttrain-auc:0.96227\ttrain-mlogloss:0.48582\n"
     ]
    },
    {
     "name": "stdout",
     "output_type": "stream",
     "text": [
      "[514]\ttrain-auc:0.96228\ttrain-mlogloss:0.48575\n"
     ]
    },
    {
     "name": "stdout",
     "output_type": "stream",
     "text": [
      "[515]\ttrain-auc:0.96228\ttrain-mlogloss:0.48572\n"
     ]
    },
    {
     "name": "stdout",
     "output_type": "stream",
     "text": [
      "[516]\ttrain-auc:0.96228\ttrain-mlogloss:0.48568\n"
     ]
    },
    {
     "name": "stdout",
     "output_type": "stream",
     "text": [
      "[517]\ttrain-auc:0.96227\ttrain-mlogloss:0.48563\n"
     ]
    },
    {
     "name": "stdout",
     "output_type": "stream",
     "text": [
      "[518]\ttrain-auc:0.96228\ttrain-mlogloss:0.48554\n"
     ]
    },
    {
     "name": "stdout",
     "output_type": "stream",
     "text": [
      "[519]\ttrain-auc:0.96226\ttrain-mlogloss:0.48541\n"
     ]
    },
    {
     "name": "stdout",
     "output_type": "stream",
     "text": [
      "[520]\ttrain-auc:0.96229\ttrain-mlogloss:0.48529\n"
     ]
    },
    {
     "name": "stdout",
     "output_type": "stream",
     "text": [
      "[521]\ttrain-auc:0.96230\ttrain-mlogloss:0.48524\n"
     ]
    },
    {
     "name": "stdout",
     "output_type": "stream",
     "text": [
      "[522]\ttrain-auc:0.96231\ttrain-mlogloss:0.48510\n"
     ]
    },
    {
     "name": "stdout",
     "output_type": "stream",
     "text": [
      "[523]\ttrain-auc:0.96231\ttrain-mlogloss:0.48491\n"
     ]
    },
    {
     "name": "stdout",
     "output_type": "stream",
     "text": [
      "[524]\ttrain-auc:0.96234\ttrain-mlogloss:0.48483\n"
     ]
    },
    {
     "name": "stdout",
     "output_type": "stream",
     "text": [
      "[525]\ttrain-auc:0.96235\ttrain-mlogloss:0.48482\n"
     ]
    },
    {
     "name": "stdout",
     "output_type": "stream",
     "text": [
      "[526]\ttrain-auc:0.96237\ttrain-mlogloss:0.48469\n"
     ]
    },
    {
     "name": "stdout",
     "output_type": "stream",
     "text": [
      "[527]\ttrain-auc:0.96239\ttrain-mlogloss:0.48459\n"
     ]
    },
    {
     "name": "stdout",
     "output_type": "stream",
     "text": [
      "[528]\ttrain-auc:0.96240\ttrain-mlogloss:0.48450\n"
     ]
    },
    {
     "name": "stdout",
     "output_type": "stream",
     "text": [
      "[529]\ttrain-auc:0.96239\ttrain-mlogloss:0.48447\n"
     ]
    },
    {
     "name": "stdout",
     "output_type": "stream",
     "text": [
      "[530]\ttrain-auc:0.96239\ttrain-mlogloss:0.48442\n"
     ]
    },
    {
     "name": "stdout",
     "output_type": "stream",
     "text": [
      "[531]\ttrain-auc:0.96238\ttrain-mlogloss:0.48441\n"
     ]
    },
    {
     "name": "stdout",
     "output_type": "stream",
     "text": [
      "[532]\ttrain-auc:0.96237\ttrain-mlogloss:0.48436\n"
     ]
    },
    {
     "name": "stdout",
     "output_type": "stream",
     "text": [
      "[533]\ttrain-auc:0.96238\ttrain-mlogloss:0.48432\n"
     ]
    },
    {
     "name": "stdout",
     "output_type": "stream",
     "text": [
      "[534]\ttrain-auc:0.96238\ttrain-mlogloss:0.48427\n"
     ]
    },
    {
     "name": "stdout",
     "output_type": "stream",
     "text": [
      "[535]\ttrain-auc:0.96239\ttrain-mlogloss:0.48425\n"
     ]
    },
    {
     "name": "stdout",
     "output_type": "stream",
     "text": [
      "[536]\ttrain-auc:0.96240\ttrain-mlogloss:0.48420\n"
     ]
    },
    {
     "name": "stdout",
     "output_type": "stream",
     "text": [
      "[537]\ttrain-auc:0.96241\ttrain-mlogloss:0.48412\n"
     ]
    },
    {
     "name": "stdout",
     "output_type": "stream",
     "text": [
      "[538]\ttrain-auc:0.96242\ttrain-mlogloss:0.48405\n"
     ]
    },
    {
     "name": "stdout",
     "output_type": "stream",
     "text": [
      "[539]\ttrain-auc:0.96242\ttrain-mlogloss:0.48403\n"
     ]
    },
    {
     "name": "stdout",
     "output_type": "stream",
     "text": [
      "[540]\ttrain-auc:0.96242\ttrain-mlogloss:0.48394\n"
     ]
    },
    {
     "name": "stdout",
     "output_type": "stream",
     "text": [
      "[541]\ttrain-auc:0.96243\ttrain-mlogloss:0.48390\n"
     ]
    },
    {
     "name": "stdout",
     "output_type": "stream",
     "text": [
      "[542]\ttrain-auc:0.96243\ttrain-mlogloss:0.48387\n"
     ]
    },
    {
     "name": "stdout",
     "output_type": "stream",
     "text": [
      "[543]\ttrain-auc:0.96243\ttrain-mlogloss:0.48376\n"
     ]
    },
    {
     "name": "stdout",
     "output_type": "stream",
     "text": [
      "[544]\ttrain-auc:0.96246\ttrain-mlogloss:0.48366\n"
     ]
    },
    {
     "name": "stdout",
     "output_type": "stream",
     "text": [
      "[545]\ttrain-auc:0.96244\ttrain-mlogloss:0.48363\n"
     ]
    },
    {
     "name": "stdout",
     "output_type": "stream",
     "text": [
      "[546]\ttrain-auc:0.96243\ttrain-mlogloss:0.48356\n"
     ]
    },
    {
     "name": "stdout",
     "output_type": "stream",
     "text": [
      "[547]\ttrain-auc:0.96245\ttrain-mlogloss:0.48348\n"
     ]
    },
    {
     "name": "stdout",
     "output_type": "stream",
     "text": [
      "[548]\ttrain-auc:0.96246\ttrain-mlogloss:0.48334\n"
     ]
    },
    {
     "name": "stdout",
     "output_type": "stream",
     "text": [
      "[549]\ttrain-auc:0.96245\ttrain-mlogloss:0.48329\n"
     ]
    },
    {
     "name": "stdout",
     "output_type": "stream",
     "text": [
      "[550]\ttrain-auc:0.96247\ttrain-mlogloss:0.48320\n"
     ]
    },
    {
     "name": "stdout",
     "output_type": "stream",
     "text": [
      "[551]\ttrain-auc:0.96246\ttrain-mlogloss:0.48311\n"
     ]
    },
    {
     "name": "stdout",
     "output_type": "stream",
     "text": [
      "[552]\ttrain-auc:0.96245\ttrain-mlogloss:0.48304\n"
     ]
    },
    {
     "name": "stdout",
     "output_type": "stream",
     "text": [
      "[553]\ttrain-auc:0.96250\ttrain-mlogloss:0.48293\n"
     ]
    },
    {
     "name": "stdout",
     "output_type": "stream",
     "text": [
      "[554]\ttrain-auc:0.96253\ttrain-mlogloss:0.48281\n"
     ]
    },
    {
     "name": "stdout",
     "output_type": "stream",
     "text": [
      "[555]\ttrain-auc:0.96254\ttrain-mlogloss:0.48279\n"
     ]
    },
    {
     "name": "stdout",
     "output_type": "stream",
     "text": [
      "[556]\ttrain-auc:0.96256\ttrain-mlogloss:0.48273\n"
     ]
    },
    {
     "name": "stdout",
     "output_type": "stream",
     "text": [
      "[557]\ttrain-auc:0.96257\ttrain-mlogloss:0.48268\n"
     ]
    },
    {
     "name": "stdout",
     "output_type": "stream",
     "text": [
      "[558]\ttrain-auc:0.96257\ttrain-mlogloss:0.48260\n"
     ]
    },
    {
     "name": "stdout",
     "output_type": "stream",
     "text": [
      "[559]\ttrain-auc:0.96256\ttrain-mlogloss:0.48258\n"
     ]
    },
    {
     "name": "stdout",
     "output_type": "stream",
     "text": [
      "[560]\ttrain-auc:0.96257\ttrain-mlogloss:0.48254\n"
     ]
    },
    {
     "name": "stdout",
     "output_type": "stream",
     "text": [
      "[561]\ttrain-auc:0.96257\ttrain-mlogloss:0.48252\n"
     ]
    },
    {
     "name": "stdout",
     "output_type": "stream",
     "text": [
      "[562]\ttrain-auc:0.96257\ttrain-mlogloss:0.48247\n"
     ]
    },
    {
     "name": "stdout",
     "output_type": "stream",
     "text": [
      "[563]\ttrain-auc:0.96259\ttrain-mlogloss:0.48242\n"
     ]
    },
    {
     "name": "stdout",
     "output_type": "stream",
     "text": [
      "[564]\ttrain-auc:0.96261\ttrain-mlogloss:0.48235\n"
     ]
    },
    {
     "name": "stdout",
     "output_type": "stream",
     "text": [
      "[565]\ttrain-auc:0.96259\ttrain-mlogloss:0.48227\n"
     ]
    },
    {
     "name": "stdout",
     "output_type": "stream",
     "text": [
      "[566]\ttrain-auc:0.96255\ttrain-mlogloss:0.48221\n"
     ]
    },
    {
     "name": "stdout",
     "output_type": "stream",
     "text": [
      "[567]\ttrain-auc:0.96256\ttrain-mlogloss:0.48216\n"
     ]
    },
    {
     "name": "stdout",
     "output_type": "stream",
     "text": [
      "[568]\ttrain-auc:0.96255\ttrain-mlogloss:0.48211\n"
     ]
    },
    {
     "name": "stdout",
     "output_type": "stream",
     "text": [
      "[569]\ttrain-auc:0.96256\ttrain-mlogloss:0.48204\n"
     ]
    },
    {
     "name": "stdout",
     "output_type": "stream",
     "text": [
      "[570]\ttrain-auc:0.96261\ttrain-mlogloss:0.48193\n"
     ]
    },
    {
     "name": "stdout",
     "output_type": "stream",
     "text": [
      "[571]\ttrain-auc:0.96264\ttrain-mlogloss:0.48188\n"
     ]
    },
    {
     "name": "stdout",
     "output_type": "stream",
     "text": [
      "[572]\ttrain-auc:0.96265\ttrain-mlogloss:0.48177\n"
     ]
    },
    {
     "name": "stdout",
     "output_type": "stream",
     "text": [
      "[573]\ttrain-auc:0.96267\ttrain-mlogloss:0.48170\n"
     ]
    },
    {
     "name": "stdout",
     "output_type": "stream",
     "text": [
      "[574]\ttrain-auc:0.96267\ttrain-mlogloss:0.48166\n"
     ]
    },
    {
     "name": "stdout",
     "output_type": "stream",
     "text": [
      "[575]\ttrain-auc:0.96268\ttrain-mlogloss:0.48159\n"
     ]
    },
    {
     "name": "stdout",
     "output_type": "stream",
     "text": [
      "[576]\ttrain-auc:0.96270\ttrain-mlogloss:0.48151\n"
     ]
    },
    {
     "name": "stdout",
     "output_type": "stream",
     "text": [
      "[577]\ttrain-auc:0.96271\ttrain-mlogloss:0.48150\n"
     ]
    },
    {
     "name": "stdout",
     "output_type": "stream",
     "text": [
      "[578]\ttrain-auc:0.96270\ttrain-mlogloss:0.48145\n"
     ]
    },
    {
     "name": "stdout",
     "output_type": "stream",
     "text": [
      "[579]\ttrain-auc:0.96269\ttrain-mlogloss:0.48139\n"
     ]
    },
    {
     "name": "stdout",
     "output_type": "stream",
     "text": [
      "[580]\ttrain-auc:0.96270\ttrain-mlogloss:0.48136\n"
     ]
    },
    {
     "name": "stdout",
     "output_type": "stream",
     "text": [
      "[581]\ttrain-auc:0.96271\ttrain-mlogloss:0.48124\n"
     ]
    },
    {
     "name": "stdout",
     "output_type": "stream",
     "text": [
      "[582]\ttrain-auc:0.96273\ttrain-mlogloss:0.48117\n"
     ]
    },
    {
     "name": "stdout",
     "output_type": "stream",
     "text": [
      "[583]\ttrain-auc:0.96273\ttrain-mlogloss:0.48113\n"
     ]
    },
    {
     "name": "stdout",
     "output_type": "stream",
     "text": [
      "[584]\ttrain-auc:0.96273\ttrain-mlogloss:0.48111\n"
     ]
    },
    {
     "name": "stdout",
     "output_type": "stream",
     "text": [
      "[585]\ttrain-auc:0.96273\ttrain-mlogloss:0.48106\n"
     ]
    },
    {
     "name": "stdout",
     "output_type": "stream",
     "text": [
      "[586]\ttrain-auc:0.96272\ttrain-mlogloss:0.48100\n"
     ]
    },
    {
     "name": "stdout",
     "output_type": "stream",
     "text": [
      "[587]\ttrain-auc:0.96271\ttrain-mlogloss:0.48097\n"
     ]
    },
    {
     "name": "stdout",
     "output_type": "stream",
     "text": [
      "[588]\ttrain-auc:0.96270\ttrain-mlogloss:0.48084\n"
     ]
    },
    {
     "name": "stdout",
     "output_type": "stream",
     "text": [
      "[589]\ttrain-auc:0.96270\ttrain-mlogloss:0.48079\n"
     ]
    },
    {
     "name": "stdout",
     "output_type": "stream",
     "text": [
      "[590]\ttrain-auc:0.96271\ttrain-mlogloss:0.48075\n"
     ]
    },
    {
     "name": "stdout",
     "output_type": "stream",
     "text": [
      "[591]\ttrain-auc:0.96270\ttrain-mlogloss:0.48066\n"
     ]
    },
    {
     "name": "stdout",
     "output_type": "stream",
     "text": [
      "[592]\ttrain-auc:0.96271\ttrain-mlogloss:0.48062\n"
     ]
    },
    {
     "name": "stdout",
     "output_type": "stream",
     "text": [
      "[593]\ttrain-auc:0.96275\ttrain-mlogloss:0.48050\n"
     ]
    },
    {
     "name": "stdout",
     "output_type": "stream",
     "text": [
      "[594]\ttrain-auc:0.96276\ttrain-mlogloss:0.48047\n"
     ]
    },
    {
     "name": "stdout",
     "output_type": "stream",
     "text": [
      "[595]\ttrain-auc:0.96276\ttrain-mlogloss:0.48045\n"
     ]
    },
    {
     "name": "stdout",
     "output_type": "stream",
     "text": [
      "[596]\ttrain-auc:0.96277\ttrain-mlogloss:0.48041"
     ]
    },
    {
     "name": "stdout",
     "output_type": "stream",
     "text": [
      "\n"
     ]
    },
    {
     "name": "stdout",
     "output_type": "stream",
     "text": [
      "[597]\ttrain-auc:0.96277\ttrain-mlogloss:0.48037\n"
     ]
    },
    {
     "name": "stdout",
     "output_type": "stream",
     "text": [
      "[598]\ttrain-auc:0.96277\ttrain-mlogloss:0.48030\n"
     ]
    },
    {
     "name": "stdout",
     "output_type": "stream",
     "text": [
      "[599]\ttrain-auc:0.96279\ttrain-mlogloss:0.48012\n"
     ]
    },
    {
     "name": "stdout",
     "output_type": "stream",
     "text": [
      "[600]\ttrain-auc:0.96277\ttrain-mlogloss:0.48006\n"
     ]
    },
    {
     "name": "stdout",
     "output_type": "stream",
     "text": [
      "[601]\ttrain-auc:0.96280\ttrain-mlogloss:0.48001\n"
     ]
    },
    {
     "name": "stdout",
     "output_type": "stream",
     "text": [
      "[602]\ttrain-auc:0.96280\ttrain-mlogloss:0.47993\n"
     ]
    },
    {
     "name": "stdout",
     "output_type": "stream",
     "text": [
      "[603]\ttrain-auc:0.96280\ttrain-mlogloss:0.47990\n"
     ]
    },
    {
     "name": "stdout",
     "output_type": "stream",
     "text": [
      "[604]\ttrain-auc:0.96279\ttrain-mlogloss:0.47985\n"
     ]
    },
    {
     "name": "stdout",
     "output_type": "stream",
     "text": [
      "[605]\ttrain-auc:0.96280\ttrain-mlogloss:0.47982\n"
     ]
    },
    {
     "name": "stdout",
     "output_type": "stream",
     "text": [
      "[606]\ttrain-auc:0.96282\ttrain-mlogloss:0.47974\n"
     ]
    },
    {
     "name": "stdout",
     "output_type": "stream",
     "text": [
      "[607]\ttrain-auc:0.96283\ttrain-mlogloss:0.47970\n"
     ]
    },
    {
     "name": "stdout",
     "output_type": "stream",
     "text": [
      "[608]\ttrain-auc:0.96283\ttrain-mlogloss:0.47970\n"
     ]
    },
    {
     "name": "stdout",
     "output_type": "stream",
     "text": [
      "[609]\ttrain-auc:0.96284\ttrain-mlogloss:0.47965\n"
     ]
    },
    {
     "name": "stdout",
     "output_type": "stream",
     "text": [
      "[610]\ttrain-auc:0.96286\ttrain-mlogloss:0.47958\n"
     ]
    },
    {
     "name": "stdout",
     "output_type": "stream",
     "text": [
      "[611]\ttrain-auc:0.96286\ttrain-mlogloss:0.47949\n"
     ]
    },
    {
     "name": "stdout",
     "output_type": "stream",
     "text": [
      "[612]\ttrain-auc:0.96288\ttrain-mlogloss:0.47939\n"
     ]
    },
    {
     "name": "stdout",
     "output_type": "stream",
     "text": [
      "[613]\ttrain-auc:0.96289\ttrain-mlogloss:0.47926\n"
     ]
    },
    {
     "name": "stdout",
     "output_type": "stream",
     "text": [
      "[614]\ttrain-auc:0.96289\ttrain-mlogloss:0.47926\n"
     ]
    },
    {
     "name": "stdout",
     "output_type": "stream",
     "text": [
      "[615]\ttrain-auc:0.96288\ttrain-mlogloss:0.47923\n"
     ]
    },
    {
     "name": "stdout",
     "output_type": "stream",
     "text": [
      "[616]\ttrain-auc:0.96290\ttrain-mlogloss:0.47920\n"
     ]
    },
    {
     "name": "stdout",
     "output_type": "stream",
     "text": [
      "[617]\ttrain-auc:0.96289\ttrain-mlogloss:0.47914\n"
     ]
    },
    {
     "name": "stdout",
     "output_type": "stream",
     "text": [
      "[618]\ttrain-auc:0.96289\ttrain-mlogloss:0.47907\n"
     ]
    },
    {
     "name": "stdout",
     "output_type": "stream",
     "text": [
      "[619]\ttrain-auc:0.96291\ttrain-mlogloss:0.47905\n"
     ]
    },
    {
     "name": "stdout",
     "output_type": "stream",
     "text": [
      "[620]\ttrain-auc:0.96293\ttrain-mlogloss:0.47892\n"
     ]
    },
    {
     "name": "stdout",
     "output_type": "stream",
     "text": [
      "[621]\ttrain-auc:0.96294\ttrain-mlogloss:0.47882\n"
     ]
    },
    {
     "name": "stdout",
     "output_type": "stream",
     "text": [
      "[622]\ttrain-auc:0.96297\ttrain-mlogloss:0.47869\n"
     ]
    },
    {
     "name": "stdout",
     "output_type": "stream",
     "text": [
      "[623]\ttrain-auc:0.96296\ttrain-mlogloss:0.47864\n"
     ]
    },
    {
     "name": "stdout",
     "output_type": "stream",
     "text": [
      "[624]\ttrain-auc:0.96298\ttrain-mlogloss:0.47860\n"
     ]
    },
    {
     "name": "stdout",
     "output_type": "stream",
     "text": [
      "[625]\ttrain-auc:0.96299\ttrain-mlogloss:0.47859\n"
     ]
    },
    {
     "name": "stdout",
     "output_type": "stream",
     "text": [
      "[626]\ttrain-auc:0.96298\ttrain-mlogloss:0.47853\n"
     ]
    },
    {
     "name": "stdout",
     "output_type": "stream",
     "text": [
      "[627]\ttrain-auc:0.96301\ttrain-mlogloss:0.47846\n"
     ]
    },
    {
     "name": "stdout",
     "output_type": "stream",
     "text": [
      "[628]\ttrain-auc:0.96303\ttrain-mlogloss:0.47839\n"
     ]
    },
    {
     "name": "stdout",
     "output_type": "stream",
     "text": [
      "[629]\ttrain-auc:0.96306\ttrain-mlogloss:0.47830\n"
     ]
    },
    {
     "name": "stdout",
     "output_type": "stream",
     "text": [
      "[630]\ttrain-auc:0.96306\ttrain-mlogloss:0.47827\n"
     ]
    },
    {
     "name": "stdout",
     "output_type": "stream",
     "text": [
      "[631]\ttrain-auc:0.96306\ttrain-mlogloss:0.47821\n"
     ]
    },
    {
     "name": "stdout",
     "output_type": "stream",
     "text": [
      "[632]\ttrain-auc:0.96307\ttrain-mlogloss:0.47816\n"
     ]
    },
    {
     "name": "stdout",
     "output_type": "stream",
     "text": [
      "[633]\ttrain-auc:0.96306\ttrain-mlogloss:0.47813\n"
     ]
    },
    {
     "name": "stdout",
     "output_type": "stream",
     "text": [
      "[634]\ttrain-auc:0.96304\ttrain-mlogloss:0.47810"
     ]
    },
    {
     "name": "stdout",
     "output_type": "stream",
     "text": [
      "\n"
     ]
    },
    {
     "name": "stdout",
     "output_type": "stream",
     "text": [
      "[635]\ttrain-auc:0.96307\ttrain-mlogloss:0.47803\n"
     ]
    },
    {
     "name": "stdout",
     "output_type": "stream",
     "text": [
      "[636]\ttrain-auc:0.96310\ttrain-mlogloss:0.47801\n"
     ]
    },
    {
     "name": "stdout",
     "output_type": "stream",
     "text": [
      "[637]\ttrain-auc:0.96309\ttrain-mlogloss:0.47798\n"
     ]
    },
    {
     "name": "stdout",
     "output_type": "stream",
     "text": [
      "[638]\ttrain-auc:0.96309\ttrain-mlogloss:0.47798\n"
     ]
    },
    {
     "name": "stdout",
     "output_type": "stream",
     "text": [
      "[639]\ttrain-auc:0.96310\ttrain-mlogloss:0.47792\n"
     ]
    },
    {
     "name": "stdout",
     "output_type": "stream",
     "text": [
      "[640]\ttrain-auc:0.96311\ttrain-mlogloss:0.47787\n"
     ]
    },
    {
     "name": "stdout",
     "output_type": "stream",
     "text": [
      "[641]\ttrain-auc:0.96310\ttrain-mlogloss:0.47770\n"
     ]
    },
    {
     "name": "stdout",
     "output_type": "stream",
     "text": [
      "[642]\ttrain-auc:0.96313\ttrain-mlogloss:0.47765\n"
     ]
    },
    {
     "name": "stdout",
     "output_type": "stream",
     "text": [
      "[643]\ttrain-auc:0.96313\ttrain-mlogloss:0.47761\n"
     ]
    },
    {
     "name": "stdout",
     "output_type": "stream",
     "text": [
      "[644]\ttrain-auc:0.96313\ttrain-mlogloss:0.47761\n"
     ]
    },
    {
     "name": "stdout",
     "output_type": "stream",
     "text": [
      "[645]\ttrain-auc:0.96319\ttrain-mlogloss:0.47754\n"
     ]
    },
    {
     "name": "stdout",
     "output_type": "stream",
     "text": [
      "[646]\ttrain-auc:0.96317\ttrain-mlogloss:0.47753\n"
     ]
    },
    {
     "name": "stdout",
     "output_type": "stream",
     "text": [
      "[647]\ttrain-auc:0.96317\ttrain-mlogloss:0.47749\n"
     ]
    },
    {
     "name": "stdout",
     "output_type": "stream",
     "text": [
      "[648]\ttrain-auc:0.96313\ttrain-mlogloss:0.47747\n"
     ]
    },
    {
     "name": "stdout",
     "output_type": "stream",
     "text": [
      "[649]\ttrain-auc:0.96312\ttrain-mlogloss:0.47746\n"
     ]
    },
    {
     "name": "stdout",
     "output_type": "stream",
     "text": [
      "[650]\ttrain-auc:0.96314\ttrain-mlogloss:0.47736\n"
     ]
    },
    {
     "name": "stdout",
     "output_type": "stream",
     "text": [
      "[651]\ttrain-auc:0.96313\ttrain-mlogloss:0.47732\n"
     ]
    },
    {
     "name": "stdout",
     "output_type": "stream",
     "text": [
      "[652]\ttrain-auc:0.96313\ttrain-mlogloss:0.47727\n"
     ]
    },
    {
     "name": "stdout",
     "output_type": "stream",
     "text": [
      "[653]\ttrain-auc:0.96313\ttrain-mlogloss:0.47721\n"
     ]
    },
    {
     "name": "stdout",
     "output_type": "stream",
     "text": [
      "[654]\ttrain-auc:0.96311\ttrain-mlogloss:0.47715\n"
     ]
    },
    {
     "name": "stdout",
     "output_type": "stream",
     "text": [
      "[655]\ttrain-auc:0.96314\ttrain-mlogloss:0.47709\n"
     ]
    },
    {
     "name": "stdout",
     "output_type": "stream",
     "text": [
      "[656]\ttrain-auc:0.96314\ttrain-mlogloss:0.47703\n"
     ]
    },
    {
     "name": "stdout",
     "output_type": "stream",
     "text": [
      "[657]\ttrain-auc:0.96314\ttrain-mlogloss:0.47701\n"
     ]
    },
    {
     "name": "stdout",
     "output_type": "stream",
     "text": [
      "[658]\ttrain-auc:0.96311\ttrain-mlogloss:0.47696\n"
     ]
    },
    {
     "name": "stdout",
     "output_type": "stream",
     "text": [
      "[659]\ttrain-auc:0.96313\ttrain-mlogloss:0.47690\n"
     ]
    },
    {
     "name": "stdout",
     "output_type": "stream",
     "text": [
      "[660]\ttrain-auc:0.96314\ttrain-mlogloss:0.47687\n"
     ]
    },
    {
     "name": "stdout",
     "output_type": "stream",
     "text": [
      "[661]\ttrain-auc:0.96315\ttrain-mlogloss:0.47682\n"
     ]
    },
    {
     "name": "stdout",
     "output_type": "stream",
     "text": [
      "[662]\ttrain-auc:0.96318\ttrain-mlogloss:0.47676\n"
     ]
    },
    {
     "name": "stdout",
     "output_type": "stream",
     "text": [
      "[663]\ttrain-auc:0.96321\ttrain-mlogloss:0.47670\n"
     ]
    },
    {
     "name": "stdout",
     "output_type": "stream",
     "text": [
      "[664]\ttrain-auc:0.96320\ttrain-mlogloss:0.47665\n"
     ]
    },
    {
     "name": "stdout",
     "output_type": "stream",
     "text": [
      "[665]\ttrain-auc:0.96320\ttrain-mlogloss:0.47659\n"
     ]
    },
    {
     "name": "stdout",
     "output_type": "stream",
     "text": [
      "[666]\ttrain-auc:0.96321\ttrain-mlogloss:0.47655\n"
     ]
    },
    {
     "name": "stdout",
     "output_type": "stream",
     "text": [
      "[667]\ttrain-auc:0.96321\ttrain-mlogloss:0.47651\n"
     ]
    },
    {
     "name": "stdout",
     "output_type": "stream",
     "text": [
      "[668]\ttrain-auc:0.96322\ttrain-mlogloss:0.47641\n"
     ]
    },
    {
     "name": "stdout",
     "output_type": "stream",
     "text": [
      "[669]\ttrain-auc:0.96321\ttrain-mlogloss:0.47638\n"
     ]
    },
    {
     "name": "stdout",
     "output_type": "stream",
     "text": [
      "[670]\ttrain-auc:0.96322\ttrain-mlogloss:0.47632\n"
     ]
    },
    {
     "name": "stdout",
     "output_type": "stream",
     "text": [
      "[671]\ttrain-auc:0.96324\ttrain-mlogloss:0.47620\n"
     ]
    },
    {
     "name": "stdout",
     "output_type": "stream",
     "text": [
      "[672]\ttrain-auc:0.96323\ttrain-mlogloss:0.47612\n"
     ]
    },
    {
     "name": "stdout",
     "output_type": "stream",
     "text": [
      "[673]\ttrain-auc:0.96322\ttrain-mlogloss:0.47606\n"
     ]
    },
    {
     "name": "stdout",
     "output_type": "stream",
     "text": [
      "[674]\ttrain-auc:0.96326\ttrain-mlogloss:0.47599\n"
     ]
    },
    {
     "name": "stdout",
     "output_type": "stream",
     "text": [
      "[675]\ttrain-auc:0.96329\ttrain-mlogloss:0.47592\n"
     ]
    },
    {
     "name": "stdout",
     "output_type": "stream",
     "text": [
      "[676]\ttrain-auc:0.96328\ttrain-mlogloss:0.47588\n"
     ]
    },
    {
     "name": "stdout",
     "output_type": "stream",
     "text": [
      "[677]\ttrain-auc:0.96329\ttrain-mlogloss:0.47584\n"
     ]
    },
    {
     "name": "stdout",
     "output_type": "stream",
     "text": [
      "[678]\ttrain-auc:0.96331\ttrain-mlogloss:0.47582\n"
     ]
    },
    {
     "name": "stdout",
     "output_type": "stream",
     "text": [
      "[679]\ttrain-auc:0.96331\ttrain-mlogloss:0.47579\n"
     ]
    },
    {
     "name": "stdout",
     "output_type": "stream",
     "text": [
      "[680]\ttrain-auc:0.96331\ttrain-mlogloss:0.47574\n"
     ]
    },
    {
     "name": "stdout",
     "output_type": "stream",
     "text": [
      "[681]\ttrain-auc:0.96333\ttrain-mlogloss:0.47571\n"
     ]
    },
    {
     "name": "stdout",
     "output_type": "stream",
     "text": [
      "[682]\ttrain-auc:0.96334\ttrain-mlogloss:0.47568\n"
     ]
    },
    {
     "name": "stdout",
     "output_type": "stream",
     "text": [
      "[683]\ttrain-auc:0.96334\ttrain-mlogloss:0.47565\n"
     ]
    },
    {
     "name": "stdout",
     "output_type": "stream",
     "text": [
      "[684]\ttrain-auc:0.96332\ttrain-mlogloss:0.47564\n"
     ]
    },
    {
     "name": "stdout",
     "output_type": "stream",
     "text": [
      "[685]\ttrain-auc:0.96334\ttrain-mlogloss:0.47561\n"
     ]
    },
    {
     "name": "stdout",
     "output_type": "stream",
     "text": [
      "[686]\ttrain-auc:0.96333\ttrain-mlogloss:0.47557\n"
     ]
    },
    {
     "name": "stdout",
     "output_type": "stream",
     "text": [
      "[687]\ttrain-auc:0.96335\ttrain-mlogloss:0.47556\n"
     ]
    },
    {
     "name": "stdout",
     "output_type": "stream",
     "text": [
      "[688]\ttrain-auc:0.96335\ttrain-mlogloss:0.47553\n"
     ]
    },
    {
     "name": "stdout",
     "output_type": "stream",
     "text": [
      "[689]\ttrain-auc:0.96333\ttrain-mlogloss:0.47548\n"
     ]
    },
    {
     "name": "stdout",
     "output_type": "stream",
     "text": [
      "[690]\ttrain-auc:0.96335\ttrain-mlogloss:0.47544\n"
     ]
    },
    {
     "name": "stdout",
     "output_type": "stream",
     "text": [
      "[691]\ttrain-auc:0.96335\ttrain-mlogloss:0.47539\n"
     ]
    },
    {
     "name": "stdout",
     "output_type": "stream",
     "text": [
      "[692]\ttrain-auc:0.96337\ttrain-mlogloss:0.47532\n"
     ]
    },
    {
     "name": "stdout",
     "output_type": "stream",
     "text": [
      "[693]\ttrain-auc:0.96339\ttrain-mlogloss:0.47529\n"
     ]
    },
    {
     "name": "stdout",
     "output_type": "stream",
     "text": [
      "[694]\ttrain-auc:0.96338\ttrain-mlogloss:0.47520\n"
     ]
    },
    {
     "name": "stdout",
     "output_type": "stream",
     "text": [
      "[695]\ttrain-auc:0.96339\ttrain-mlogloss:0.47517\n"
     ]
    },
    {
     "name": "stdout",
     "output_type": "stream",
     "text": [
      "[696]\ttrain-auc:0.96342\ttrain-mlogloss:0.47514\n"
     ]
    },
    {
     "name": "stdout",
     "output_type": "stream",
     "text": [
      "[697]\ttrain-auc:0.96341\ttrain-mlogloss:0.47510\n"
     ]
    },
    {
     "name": "stdout",
     "output_type": "stream",
     "text": [
      "[698]\ttrain-auc:0.96342\ttrain-mlogloss:0.47500"
     ]
    },
    {
     "name": "stdout",
     "output_type": "stream",
     "text": [
      "\n"
     ]
    },
    {
     "name": "stdout",
     "output_type": "stream",
     "text": [
      "[699]\ttrain-auc:0.96343\ttrain-mlogloss:0.47490\n"
     ]
    },
    {
     "name": "stdout",
     "output_type": "stream",
     "text": [
      "[700]\ttrain-auc:0.96344\ttrain-mlogloss:0.47486\n"
     ]
    },
    {
     "name": "stdout",
     "output_type": "stream",
     "text": [
      "[701]\ttrain-auc:0.96344\ttrain-mlogloss:0.47480\n"
     ]
    },
    {
     "name": "stdout",
     "output_type": "stream",
     "text": [
      "[702]\ttrain-auc:0.96344\ttrain-mlogloss:0.47478\n"
     ]
    },
    {
     "name": "stdout",
     "output_type": "stream",
     "text": [
      "[703]\ttrain-auc:0.96346\ttrain-mlogloss:0.47468\n"
     ]
    },
    {
     "name": "stdout",
     "output_type": "stream",
     "text": [
      "[704]\ttrain-auc:0.96346\ttrain-mlogloss:0.47466\n"
     ]
    },
    {
     "name": "stdout",
     "output_type": "stream",
     "text": [
      "[705]\ttrain-auc:0.96347\ttrain-mlogloss:0.47462\n"
     ]
    },
    {
     "name": "stdout",
     "output_type": "stream",
     "text": [
      "[706]\ttrain-auc:0.96348\ttrain-mlogloss:0.47454\n"
     ]
    },
    {
     "name": "stdout",
     "output_type": "stream",
     "text": [
      "[707]\ttrain-auc:0.96348\ttrain-mlogloss:0.47447\n"
     ]
    },
    {
     "name": "stdout",
     "output_type": "stream",
     "text": [
      "[708]\ttrain-auc:0.96348\ttrain-mlogloss:0.47444\n"
     ]
    },
    {
     "name": "stdout",
     "output_type": "stream",
     "text": [
      "[709]\ttrain-auc:0.96351\ttrain-mlogloss:0.47442\n"
     ]
    },
    {
     "name": "stdout",
     "output_type": "stream",
     "text": [
      "[710]\ttrain-auc:0.96351\ttrain-mlogloss:0.47439\n"
     ]
    },
    {
     "name": "stdout",
     "output_type": "stream",
     "text": [
      "[711]\ttrain-auc:0.96351\ttrain-mlogloss:0.47435\n"
     ]
    },
    {
     "name": "stdout",
     "output_type": "stream",
     "text": [
      "[712]\ttrain-auc:0.96352\ttrain-mlogloss:0.47429\n"
     ]
    },
    {
     "name": "stdout",
     "output_type": "stream",
     "text": [
      "[713]\ttrain-auc:0.96352\ttrain-mlogloss:0.47422\n"
     ]
    },
    {
     "name": "stdout",
     "output_type": "stream",
     "text": [
      "[714]\ttrain-auc:0.96352\ttrain-mlogloss:0.47418\n"
     ]
    },
    {
     "name": "stdout",
     "output_type": "stream",
     "text": [
      "[715]\ttrain-auc:0.96354\ttrain-mlogloss:0.47415\n"
     ]
    },
    {
     "name": "stdout",
     "output_type": "stream",
     "text": [
      "[716]\ttrain-auc:0.96354\ttrain-mlogloss:0.47414\n"
     ]
    },
    {
     "name": "stdout",
     "output_type": "stream",
     "text": [
      "[717]\ttrain-auc:0.96355\ttrain-mlogloss:0.47408\n"
     ]
    },
    {
     "name": "stdout",
     "output_type": "stream",
     "text": [
      "[718]\ttrain-auc:0.96356\ttrain-mlogloss:0.47400\n"
     ]
    },
    {
     "name": "stdout",
     "output_type": "stream",
     "text": [
      "[719]\ttrain-auc:0.96354\ttrain-mlogloss:0.47397\n"
     ]
    },
    {
     "name": "stdout",
     "output_type": "stream",
     "text": [
      "[720]\ttrain-auc:0.96356\ttrain-mlogloss:0.47393\n"
     ]
    },
    {
     "name": "stdout",
     "output_type": "stream",
     "text": [
      "[721]\ttrain-auc:0.96355\ttrain-mlogloss:0.47386\n"
     ]
    },
    {
     "name": "stdout",
     "output_type": "stream",
     "text": [
      "[722]\ttrain-auc:0.96358\ttrain-mlogloss:0.47377\n"
     ]
    },
    {
     "name": "stdout",
     "output_type": "stream",
     "text": [
      "[723]\ttrain-auc:0.96357\ttrain-mlogloss:0.47375\n"
     ]
    },
    {
     "name": "stdout",
     "output_type": "stream",
     "text": [
      "[724]\ttrain-auc:0.96356\ttrain-mlogloss:0.47371\n"
     ]
    },
    {
     "name": "stdout",
     "output_type": "stream",
     "text": [
      "[725]\ttrain-auc:0.96356\ttrain-mlogloss:0.47368\n"
     ]
    },
    {
     "name": "stdout",
     "output_type": "stream",
     "text": [
      "[726]\ttrain-auc:0.96355\ttrain-mlogloss:0.47363\n"
     ]
    },
    {
     "name": "stdout",
     "output_type": "stream",
     "text": [
      "[727]\ttrain-auc:0.96355\ttrain-mlogloss:0.47360\n"
     ]
    },
    {
     "name": "stdout",
     "output_type": "stream",
     "text": [
      "[728]\ttrain-auc:0.96356\ttrain-mlogloss:0.47355\n"
     ]
    },
    {
     "name": "stdout",
     "output_type": "stream",
     "text": [
      "[729]\ttrain-auc:0.96358\ttrain-mlogloss:0.47353\n"
     ]
    },
    {
     "name": "stdout",
     "output_type": "stream",
     "text": [
      "[730]\ttrain-auc:0.96358\ttrain-mlogloss:0.47346\n"
     ]
    },
    {
     "name": "stdout",
     "output_type": "stream",
     "text": [
      "[731]\ttrain-auc:0.96358\ttrain-mlogloss:0.47342\n"
     ]
    },
    {
     "name": "stdout",
     "output_type": "stream",
     "text": [
      "[732]\ttrain-auc:0.96359\ttrain-mlogloss:0.47337\n"
     ]
    },
    {
     "name": "stdout",
     "output_type": "stream",
     "text": [
      "[733]\ttrain-auc:0.96361\ttrain-mlogloss:0.47332\n"
     ]
    },
    {
     "name": "stdout",
     "output_type": "stream",
     "text": [
      "[734]\ttrain-auc:0.96363\ttrain-mlogloss:0.47328\n"
     ]
    },
    {
     "name": "stdout",
     "output_type": "stream",
     "text": [
      "[735]\ttrain-auc:0.96363\ttrain-mlogloss:0.47326\n"
     ]
    },
    {
     "name": "stdout",
     "output_type": "stream",
     "text": [
      "[736]\ttrain-auc:0.96362\ttrain-mlogloss:0.47323\n"
     ]
    },
    {
     "name": "stdout",
     "output_type": "stream",
     "text": [
      "[737]\ttrain-auc:0.96362\ttrain-mlogloss:0.47321\n"
     ]
    },
    {
     "name": "stdout",
     "output_type": "stream",
     "text": [
      "[738]\ttrain-auc:0.96363\ttrain-mlogloss:0.47313\n"
     ]
    },
    {
     "name": "stdout",
     "output_type": "stream",
     "text": [
      "[739]\ttrain-auc:0.96364\ttrain-mlogloss:0.47310\n"
     ]
    },
    {
     "name": "stdout",
     "output_type": "stream",
     "text": [
      "[740]\ttrain-auc:0.96365\ttrain-mlogloss:0.47307\n"
     ]
    },
    {
     "name": "stdout",
     "output_type": "stream",
     "text": [
      "[741]\ttrain-auc:0.96366\ttrain-mlogloss:0.47307\n"
     ]
    },
    {
     "name": "stdout",
     "output_type": "stream",
     "text": [
      "[742]\ttrain-auc:0.96367\ttrain-mlogloss:0.47301\n"
     ]
    },
    {
     "name": "stdout",
     "output_type": "stream",
     "text": [
      "[743]\ttrain-auc:0.96366\ttrain-mlogloss:0.47299\n"
     ]
    },
    {
     "name": "stdout",
     "output_type": "stream",
     "text": [
      "[744]\ttrain-auc:0.96365\ttrain-mlogloss:0.47298\n"
     ]
    },
    {
     "name": "stdout",
     "output_type": "stream",
     "text": [
      "[745]\ttrain-auc:0.96366\ttrain-mlogloss:0.47294"
     ]
    },
    {
     "name": "stdout",
     "output_type": "stream",
     "text": [
      "\n"
     ]
    },
    {
     "name": "stdout",
     "output_type": "stream",
     "text": [
      "[746]\ttrain-auc:0.96367\ttrain-mlogloss:0.47291\n"
     ]
    },
    {
     "name": "stdout",
     "output_type": "stream",
     "text": [
      "[747]\ttrain-auc:0.96367\ttrain-mlogloss:0.47288\n"
     ]
    },
    {
     "name": "stdout",
     "output_type": "stream",
     "text": [
      "[748]\ttrain-auc:0.96368\ttrain-mlogloss:0.47283\n"
     ]
    },
    {
     "name": "stdout",
     "output_type": "stream",
     "text": [
      "[749]\ttrain-auc:0.96367\ttrain-mlogloss:0.47273\n"
     ]
    },
    {
     "name": "stdout",
     "output_type": "stream",
     "text": [
      "[750]\ttrain-auc:0.96370\ttrain-mlogloss:0.47265\n"
     ]
    },
    {
     "name": "stdout",
     "output_type": "stream",
     "text": [
      "[751]\ttrain-auc:0.96370\ttrain-mlogloss:0.47257\n"
     ]
    },
    {
     "name": "stdout",
     "output_type": "stream",
     "text": [
      "[752]\ttrain-auc:0.96370\ttrain-mlogloss:0.47254\n"
     ]
    },
    {
     "name": "stdout",
     "output_type": "stream",
     "text": [
      "[753]\ttrain-auc:0.96370\ttrain-mlogloss:0.47254\n"
     ]
    },
    {
     "name": "stdout",
     "output_type": "stream",
     "text": [
      "[754]\ttrain-auc:0.96369\ttrain-mlogloss:0.47248\n"
     ]
    },
    {
     "name": "stdout",
     "output_type": "stream",
     "text": [
      "[755]\ttrain-auc:0.96369\ttrain-mlogloss:0.47245\n"
     ]
    },
    {
     "name": "stdout",
     "output_type": "stream",
     "text": [
      "[756]\ttrain-auc:0.96370\ttrain-mlogloss:0.47245\n"
     ]
    },
    {
     "name": "stdout",
     "output_type": "stream",
     "text": [
      "[757]\ttrain-auc:0.96369\ttrain-mlogloss:0.47243\n"
     ]
    },
    {
     "name": "stdout",
     "output_type": "stream",
     "text": [
      "[758]\ttrain-auc:0.96368\ttrain-mlogloss:0.47235\n"
     ]
    },
    {
     "name": "stdout",
     "output_type": "stream",
     "text": [
      "[759]\ttrain-auc:0.96366\ttrain-mlogloss:0.47234\n"
     ]
    },
    {
     "name": "stdout",
     "output_type": "stream",
     "text": [
      "[760]\ttrain-auc:0.96368\ttrain-mlogloss:0.47230\n"
     ]
    },
    {
     "name": "stdout",
     "output_type": "stream",
     "text": [
      "[761]\ttrain-auc:0.96369\ttrain-mlogloss:0.47228\n"
     ]
    },
    {
     "name": "stdout",
     "output_type": "stream",
     "text": [
      "[762]\ttrain-auc:0.96370\ttrain-mlogloss:0.47222\n"
     ]
    },
    {
     "name": "stdout",
     "output_type": "stream",
     "text": [
      "[763]\ttrain-auc:0.96371\ttrain-mlogloss:0.47219\n"
     ]
    },
    {
     "name": "stdout",
     "output_type": "stream",
     "text": [
      "[764]\ttrain-auc:0.96371\ttrain-mlogloss:0.47217\n"
     ]
    },
    {
     "name": "stdout",
     "output_type": "stream",
     "text": [
      "[765]\ttrain-auc:0.96372\ttrain-mlogloss:0.47214\n"
     ]
    },
    {
     "name": "stdout",
     "output_type": "stream",
     "text": [
      "[766]\ttrain-auc:0.96374\ttrain-mlogloss:0.47201\n"
     ]
    },
    {
     "name": "stdout",
     "output_type": "stream",
     "text": [
      "[767]\ttrain-auc:0.96375\ttrain-mlogloss:0.47199\n"
     ]
    },
    {
     "name": "stdout",
     "output_type": "stream",
     "text": [
      "[768]\ttrain-auc:0.96375\ttrain-mlogloss:0.47195\n"
     ]
    },
    {
     "name": "stdout",
     "output_type": "stream",
     "text": [
      "[769]\ttrain-auc:0.96375\ttrain-mlogloss:0.47191\n"
     ]
    },
    {
     "name": "stdout",
     "output_type": "stream",
     "text": [
      "[770]\ttrain-auc:0.96376\ttrain-mlogloss:0.47187\n"
     ]
    },
    {
     "name": "stdout",
     "output_type": "stream",
     "text": [
      "[771]\ttrain-auc:0.96378\ttrain-mlogloss:0.47180\n"
     ]
    },
    {
     "name": "stdout",
     "output_type": "stream",
     "text": [
      "[772]\ttrain-auc:0.96376\ttrain-mlogloss:0.47175\n"
     ]
    },
    {
     "name": "stdout",
     "output_type": "stream",
     "text": [
      "[773]\ttrain-auc:0.96377\ttrain-mlogloss:0.47172\n"
     ]
    },
    {
     "name": "stdout",
     "output_type": "stream",
     "text": [
      "[774]\ttrain-auc:0.96379\ttrain-mlogloss:0.47166\n"
     ]
    },
    {
     "name": "stdout",
     "output_type": "stream",
     "text": [
      "[775]\ttrain-auc:0.96378\ttrain-mlogloss:0.47162\n"
     ]
    },
    {
     "name": "stdout",
     "output_type": "stream",
     "text": [
      "[776]\ttrain-auc:0.96379\ttrain-mlogloss:0.47159\n"
     ]
    },
    {
     "name": "stdout",
     "output_type": "stream",
     "text": [
      "[777]\ttrain-auc:0.96379\ttrain-mlogloss:0.47155\n"
     ]
    },
    {
     "name": "stdout",
     "output_type": "stream",
     "text": [
      "[778]\ttrain-auc:0.96379\ttrain-mlogloss:0.47150\n"
     ]
    },
    {
     "name": "stdout",
     "output_type": "stream",
     "text": [
      "[779]\ttrain-auc:0.96380\ttrain-mlogloss:0.47143\n"
     ]
    },
    {
     "name": "stdout",
     "output_type": "stream",
     "text": [
      "[780]\ttrain-auc:0.96381\ttrain-mlogloss:0.47140\n"
     ]
    },
    {
     "name": "stdout",
     "output_type": "stream",
     "text": [
      "[781]\ttrain-auc:0.96380\ttrain-mlogloss:0.47138\n"
     ]
    },
    {
     "name": "stdout",
     "output_type": "stream",
     "text": [
      "[782]\ttrain-auc:0.96381\ttrain-mlogloss:0.47134\n"
     ]
    },
    {
     "name": "stdout",
     "output_type": "stream",
     "text": [
      "[783]\ttrain-auc:0.96383\ttrain-mlogloss:0.47126\n"
     ]
    },
    {
     "name": "stdout",
     "output_type": "stream",
     "text": [
      "[784]\ttrain-auc:0.96381\ttrain-mlogloss:0.47125\n"
     ]
    },
    {
     "name": "stdout",
     "output_type": "stream",
     "text": [
      "[785]\ttrain-auc:0.96381\ttrain-mlogloss:0.47122\n"
     ]
    },
    {
     "name": "stdout",
     "output_type": "stream",
     "text": [
      "[786]\ttrain-auc:0.96383\ttrain-mlogloss:0.47114\n"
     ]
    },
    {
     "name": "stdout",
     "output_type": "stream",
     "text": [
      "[787]\ttrain-auc:0.96385\ttrain-mlogloss:0.47111\n"
     ]
    },
    {
     "name": "stdout",
     "output_type": "stream",
     "text": [
      "[788]\ttrain-auc:0.96387\ttrain-mlogloss:0.47109\n"
     ]
    },
    {
     "name": "stdout",
     "output_type": "stream",
     "text": [
      "[789]\ttrain-auc:0.96388\ttrain-mlogloss:0.47106\n"
     ]
    },
    {
     "name": "stdout",
     "output_type": "stream",
     "text": [
      "[790]\ttrain-auc:0.96389\ttrain-mlogloss:0.47095\n"
     ]
    },
    {
     "name": "stdout",
     "output_type": "stream",
     "text": [
      "[791]\ttrain-auc:0.96389\ttrain-mlogloss:0.47090\n"
     ]
    },
    {
     "name": "stdout",
     "output_type": "stream",
     "text": [
      "[792]\ttrain-auc:0.96389\ttrain-mlogloss:0.47086\n"
     ]
    },
    {
     "name": "stdout",
     "output_type": "stream",
     "text": [
      "[793]\ttrain-auc:0.96391\ttrain-mlogloss:0.47082\n"
     ]
    },
    {
     "name": "stdout",
     "output_type": "stream",
     "text": [
      "[794]\ttrain-auc:0.96389\ttrain-mlogloss:0.47077\n"
     ]
    },
    {
     "name": "stdout",
     "output_type": "stream",
     "text": [
      "[795]\ttrain-auc:0.96390\ttrain-mlogloss:0.47073\n"
     ]
    },
    {
     "name": "stdout",
     "output_type": "stream",
     "text": [
      "[796]\ttrain-auc:0.96391\ttrain-mlogloss:0.47066\n"
     ]
    },
    {
     "name": "stdout",
     "output_type": "stream",
     "text": [
      "[797]\ttrain-auc:0.96393\ttrain-mlogloss:0.47063\n"
     ]
    },
    {
     "name": "stdout",
     "output_type": "stream",
     "text": [
      "[798]\ttrain-auc:0.96393\ttrain-mlogloss:0.47053\n"
     ]
    },
    {
     "name": "stdout",
     "output_type": "stream",
     "text": [
      "[799]\ttrain-auc:0.96394\ttrain-mlogloss:0.47052\n"
     ]
    },
    {
     "name": "stdout",
     "output_type": "stream",
     "text": [
      "[800]\ttrain-auc:0.96394\ttrain-mlogloss:0.47049\n"
     ]
    },
    {
     "name": "stdout",
     "output_type": "stream",
     "text": [
      "[801]\ttrain-auc:0.96394\ttrain-mlogloss:0.47049\n"
     ]
    },
    {
     "name": "stdout",
     "output_type": "stream",
     "text": [
      "[802]\ttrain-auc:0.96394\ttrain-mlogloss:0.47046\n"
     ]
    },
    {
     "name": "stdout",
     "output_type": "stream",
     "text": [
      "[803]\ttrain-auc:0.96393\ttrain-mlogloss:0.47044\n"
     ]
    },
    {
     "name": "stdout",
     "output_type": "stream",
     "text": [
      "[804]\ttrain-auc:0.96394\ttrain-mlogloss:0.47043\n"
     ]
    },
    {
     "name": "stdout",
     "output_type": "stream",
     "text": [
      "[805]\ttrain-auc:0.96393\ttrain-mlogloss:0.47042\n"
     ]
    },
    {
     "name": "stdout",
     "output_type": "stream",
     "text": [
      "[806]\ttrain-auc:0.96393\ttrain-mlogloss:0.47041\n"
     ]
    },
    {
     "name": "stdout",
     "output_type": "stream",
     "text": [
      "[807]\ttrain-auc:0.96392\ttrain-mlogloss:0.47040\n"
     ]
    },
    {
     "name": "stdout",
     "output_type": "stream",
     "text": [
      "[808]\ttrain-auc:0.96395\ttrain-mlogloss:0.47029\n"
     ]
    },
    {
     "name": "stdout",
     "output_type": "stream",
     "text": [
      "[809]\ttrain-auc:0.96394\ttrain-mlogloss:0.47025\n"
     ]
    },
    {
     "name": "stdout",
     "output_type": "stream",
     "text": [
      "[810]\ttrain-auc:0.96395\ttrain-mlogloss:0.47020\n"
     ]
    },
    {
     "name": "stdout",
     "output_type": "stream",
     "text": [
      "[811]\ttrain-auc:0.96394\ttrain-mlogloss:0.47020\n"
     ]
    },
    {
     "name": "stdout",
     "output_type": "stream",
     "text": [
      "[812]\ttrain-auc:0.96395\ttrain-mlogloss:0.47018\n"
     ]
    },
    {
     "name": "stdout",
     "output_type": "stream",
     "text": [
      "[813]\ttrain-auc:0.96396\ttrain-mlogloss:0.47018\n"
     ]
    },
    {
     "name": "stdout",
     "output_type": "stream",
     "text": [
      "[814]\ttrain-auc:0.96397\ttrain-mlogloss:0.47013\n"
     ]
    },
    {
     "name": "stdout",
     "output_type": "stream",
     "text": [
      "[815]\ttrain-auc:0.96397\ttrain-mlogloss:0.47009\n"
     ]
    },
    {
     "name": "stdout",
     "output_type": "stream",
     "text": [
      "[816]\ttrain-auc:0.96397\ttrain-mlogloss:0.47008\n"
     ]
    },
    {
     "name": "stdout",
     "output_type": "stream",
     "text": [
      "[817]\ttrain-auc:0.96398\ttrain-mlogloss:0.47000\n"
     ]
    },
    {
     "name": "stdout",
     "output_type": "stream",
     "text": [
      "[818]\ttrain-auc:0.96398\ttrain-mlogloss:0.46998\n"
     ]
    },
    {
     "name": "stdout",
     "output_type": "stream",
     "text": [
      "[819]\ttrain-auc:0.96399\ttrain-mlogloss:0.46992\n"
     ]
    },
    {
     "name": "stdout",
     "output_type": "stream",
     "text": [
      "[820]\ttrain-auc:0.96399\ttrain-mlogloss:0.46990\n"
     ]
    },
    {
     "name": "stdout",
     "output_type": "stream",
     "text": [
      "[821]\ttrain-auc:0.96398\ttrain-mlogloss:0.46987\n"
     ]
    },
    {
     "name": "stdout",
     "output_type": "stream",
     "text": [
      "[822]\ttrain-auc:0.96399\ttrain-mlogloss:0.46983\n"
     ]
    },
    {
     "name": "stdout",
     "output_type": "stream",
     "text": [
      "[823]\ttrain-auc:0.96399\ttrain-mlogloss:0.46979\n"
     ]
    },
    {
     "name": "stdout",
     "output_type": "stream",
     "text": [
      "[824]\ttrain-auc:0.96400\ttrain-mlogloss:0.46974\n"
     ]
    },
    {
     "name": "stdout",
     "output_type": "stream",
     "text": [
      "[825]\ttrain-auc:0.96399\ttrain-mlogloss:0.46971\n"
     ]
    },
    {
     "name": "stdout",
     "output_type": "stream",
     "text": [
      "[826]\ttrain-auc:0.96400\ttrain-mlogloss:0.46967\n"
     ]
    },
    {
     "name": "stdout",
     "output_type": "stream",
     "text": [
      "[827]\ttrain-auc:0.96400\ttrain-mlogloss:0.46963\n"
     ]
    },
    {
     "name": "stdout",
     "output_type": "stream",
     "text": [
      "[828]\ttrain-auc:0.96400\ttrain-mlogloss:0.46959\n"
     ]
    },
    {
     "name": "stdout",
     "output_type": "stream",
     "text": [
      "[829]\ttrain-auc:0.96401\ttrain-mlogloss:0.46955\n"
     ]
    },
    {
     "name": "stdout",
     "output_type": "stream",
     "text": [
      "[830]\ttrain-auc:0.96399\ttrain-mlogloss:0.46950\n"
     ]
    },
    {
     "name": "stdout",
     "output_type": "stream",
     "text": [
      "[831]\ttrain-auc:0.96400\ttrain-mlogloss:0.46943\n"
     ]
    },
    {
     "name": "stdout",
     "output_type": "stream",
     "text": [
      "[832]\ttrain-auc:0.96400\ttrain-mlogloss:0.46936\n"
     ]
    },
    {
     "name": "stdout",
     "output_type": "stream",
     "text": [
      "[833]\ttrain-auc:0.96400\ttrain-mlogloss:0.46933\n"
     ]
    },
    {
     "name": "stdout",
     "output_type": "stream",
     "text": [
      "[834]\ttrain-auc:0.96400\ttrain-mlogloss:0.46931\n"
     ]
    },
    {
     "name": "stdout",
     "output_type": "stream",
     "text": [
      "[835]\ttrain-auc:0.96399\ttrain-mlogloss:0.46927\n"
     ]
    },
    {
     "name": "stdout",
     "output_type": "stream",
     "text": [
      "[836]\ttrain-auc:0.96400\ttrain-mlogloss:0.46925\n"
     ]
    },
    {
     "name": "stdout",
     "output_type": "stream",
     "text": [
      "[837]\ttrain-auc:0.96401\ttrain-mlogloss:0.46922\n"
     ]
    },
    {
     "name": "stdout",
     "output_type": "stream",
     "text": [
      "[838]\ttrain-auc:0.96402\ttrain-mlogloss:0.46920\n"
     ]
    },
    {
     "name": "stdout",
     "output_type": "stream",
     "text": [
      "[839]\ttrain-auc:0.96400\ttrain-mlogloss:0.46918\n"
     ]
    },
    {
     "name": "stdout",
     "output_type": "stream",
     "text": [
      "[840]\ttrain-auc:0.96401\ttrain-mlogloss:0.46914\n"
     ]
    },
    {
     "name": "stdout",
     "output_type": "stream",
     "text": [
      "[841]\ttrain-auc:0.96403\ttrain-mlogloss:0.46907\n"
     ]
    },
    {
     "name": "stdout",
     "output_type": "stream",
     "text": [
      "[842]\ttrain-auc:0.96403\ttrain-mlogloss:0.46907\n"
     ]
    },
    {
     "name": "stdout",
     "output_type": "stream",
     "text": [
      "[843]\ttrain-auc:0.96402\ttrain-mlogloss:0.46900\n"
     ]
    },
    {
     "name": "stdout",
     "output_type": "stream",
     "text": [
      "[844]\ttrain-auc:0.96405\ttrain-mlogloss:0.46897\n"
     ]
    },
    {
     "name": "stdout",
     "output_type": "stream",
     "text": [
      "[845]\ttrain-auc:0.96405\ttrain-mlogloss:0.46893\n"
     ]
    },
    {
     "name": "stdout",
     "output_type": "stream",
     "text": [
      "[846]\ttrain-auc:0.96407\ttrain-mlogloss:0.46890\n"
     ]
    },
    {
     "name": "stdout",
     "output_type": "stream",
     "text": [
      "[847]\ttrain-auc:0.96408\ttrain-mlogloss:0.46889\n"
     ]
    },
    {
     "name": "stdout",
     "output_type": "stream",
     "text": [
      "[848]\ttrain-auc:0.96408\ttrain-mlogloss:0.46885\n"
     ]
    },
    {
     "name": "stdout",
     "output_type": "stream",
     "text": [
      "[849]\ttrain-auc:0.96410\ttrain-mlogloss:0.46877\n"
     ]
    },
    {
     "name": "stdout",
     "output_type": "stream",
     "text": [
      "[850]\ttrain-auc:0.96410\ttrain-mlogloss:0.46871\n"
     ]
    },
    {
     "name": "stdout",
     "output_type": "stream",
     "text": [
      "[851]\ttrain-auc:0.96410\ttrain-mlogloss:0.46868\n"
     ]
    },
    {
     "name": "stdout",
     "output_type": "stream",
     "text": [
      "[852]\ttrain-auc:0.96410\ttrain-mlogloss:0.46861\n"
     ]
    },
    {
     "name": "stdout",
     "output_type": "stream",
     "text": [
      "[853]\ttrain-auc:0.96410\ttrain-mlogloss:0.46861\n"
     ]
    },
    {
     "name": "stdout",
     "output_type": "stream",
     "text": [
      "[854]\ttrain-auc:0.96411\ttrain-mlogloss:0.46859\n"
     ]
    },
    {
     "name": "stdout",
     "output_type": "stream",
     "text": [
      "[855]\ttrain-auc:0.96412\ttrain-mlogloss:0.46853\n"
     ]
    },
    {
     "name": "stdout",
     "output_type": "stream",
     "text": [
      "[856]\ttrain-auc:0.96414\ttrain-mlogloss:0.46848\n"
     ]
    },
    {
     "name": "stdout",
     "output_type": "stream",
     "text": [
      "[857]\ttrain-auc:0.96413\ttrain-mlogloss:0.46846\n"
     ]
    },
    {
     "name": "stdout",
     "output_type": "stream",
     "text": [
      "[858]\ttrain-auc:0.96412\ttrain-mlogloss:0.46839\n"
     ]
    },
    {
     "name": "stdout",
     "output_type": "stream",
     "text": [
      "[859]\ttrain-auc:0.96412\ttrain-mlogloss:0.46837\n"
     ]
    },
    {
     "name": "stdout",
     "output_type": "stream",
     "text": [
      "[860]\ttrain-auc:0.96413\ttrain-mlogloss:0.46834\n"
     ]
    },
    {
     "name": "stdout",
     "output_type": "stream",
     "text": [
      "[861]\ttrain-auc:0.96413\ttrain-mlogloss:0.46831\n"
     ]
    },
    {
     "name": "stdout",
     "output_type": "stream",
     "text": [
      "[862]\ttrain-auc:0.96413\ttrain-mlogloss:0.46829\n"
     ]
    },
    {
     "name": "stdout",
     "output_type": "stream",
     "text": [
      "[863]\ttrain-auc:0.96412\ttrain-mlogloss:0.46826\n"
     ]
    },
    {
     "name": "stdout",
     "output_type": "stream",
     "text": [
      "[864]\ttrain-auc:0.96412\ttrain-mlogloss:0.46825\n"
     ]
    },
    {
     "name": "stdout",
     "output_type": "stream",
     "text": [
      "[865]\ttrain-auc:0.96414\ttrain-mlogloss:0.46824\n"
     ]
    },
    {
     "name": "stdout",
     "output_type": "stream",
     "text": [
      "[866]\ttrain-auc:0.96413\ttrain-mlogloss:0.46820\n"
     ]
    },
    {
     "name": "stdout",
     "output_type": "stream",
     "text": [
      "[867]\ttrain-auc:0.96414\ttrain-mlogloss:0.46817\n"
     ]
    },
    {
     "name": "stdout",
     "output_type": "stream",
     "text": [
      "[868]\ttrain-auc:0.96414\ttrain-mlogloss:0.46810\n"
     ]
    },
    {
     "name": "stdout",
     "output_type": "stream",
     "text": [
      "[869]\ttrain-auc:0.96415\ttrain-mlogloss:0.46805\n"
     ]
    },
    {
     "name": "stdout",
     "output_type": "stream",
     "text": [
      "[870]\ttrain-auc:0.96415\ttrain-mlogloss:0.46803\n"
     ]
    },
    {
     "name": "stdout",
     "output_type": "stream",
     "text": [
      "[871]\ttrain-auc:0.96416\ttrain-mlogloss:0.46794\n"
     ]
    },
    {
     "name": "stdout",
     "output_type": "stream",
     "text": [
      "[872]\ttrain-auc:0.96417\ttrain-mlogloss:0.46786\n"
     ]
    },
    {
     "name": "stdout",
     "output_type": "stream",
     "text": [
      "[873]\ttrain-auc:0.96416\ttrain-mlogloss:0.46785\n"
     ]
    },
    {
     "name": "stdout",
     "output_type": "stream",
     "text": [
      "[874]\ttrain-auc:0.96419\ttrain-mlogloss:0.46778\n"
     ]
    },
    {
     "name": "stdout",
     "output_type": "stream",
     "text": [
      "[875]\ttrain-auc:0.96419\ttrain-mlogloss:0.46775\n"
     ]
    },
    {
     "name": "stdout",
     "output_type": "stream",
     "text": [
      "[876]\ttrain-auc:0.96419\ttrain-mlogloss:0.46773\n"
     ]
    },
    {
     "name": "stdout",
     "output_type": "stream",
     "text": [
      "[877]\ttrain-auc:0.96419\ttrain-mlogloss:0.46770\n"
     ]
    },
    {
     "name": "stdout",
     "output_type": "stream",
     "text": [
      "[878]\ttrain-auc:0.96418\ttrain-mlogloss:0.46769\n"
     ]
    },
    {
     "name": "stdout",
     "output_type": "stream",
     "text": [
      "[879]\ttrain-auc:0.96419\ttrain-mlogloss:0.46766\n"
     ]
    },
    {
     "name": "stdout",
     "output_type": "stream",
     "text": [
      "[880]\ttrain-auc:0.96419\ttrain-mlogloss:0.46764\n"
     ]
    },
    {
     "name": "stdout",
     "output_type": "stream",
     "text": [
      "[881]\ttrain-auc:0.96417\ttrain-mlogloss:0.46759\n"
     ]
    },
    {
     "name": "stdout",
     "output_type": "stream",
     "text": [
      "[882]\ttrain-auc:0.96418\ttrain-mlogloss:0.46756\n"
     ]
    },
    {
     "name": "stdout",
     "output_type": "stream",
     "text": [
      "[883]\ttrain-auc:0.96418\ttrain-mlogloss:0.46755\n"
     ]
    },
    {
     "name": "stdout",
     "output_type": "stream",
     "text": [
      "[884]\ttrain-auc:0.96419\ttrain-mlogloss:0.46752\n"
     ]
    },
    {
     "name": "stdout",
     "output_type": "stream",
     "text": [
      "[885]\ttrain-auc:0.96418\ttrain-mlogloss:0.46748\n"
     ]
    },
    {
     "name": "stdout",
     "output_type": "stream",
     "text": [
      "[886]\ttrain-auc:0.96418\ttrain-mlogloss:0.46748\n"
     ]
    },
    {
     "name": "stdout",
     "output_type": "stream",
     "text": [
      "[887]\ttrain-auc:0.96420\ttrain-mlogloss:0.46740\n"
     ]
    },
    {
     "name": "stdout",
     "output_type": "stream",
     "text": [
      "[888]\ttrain-auc:0.96420\ttrain-mlogloss:0.46740\n"
     ]
    },
    {
     "name": "stdout",
     "output_type": "stream",
     "text": [
      "[889]\ttrain-auc:0.96420\ttrain-mlogloss:0.46738\n"
     ]
    },
    {
     "name": "stdout",
     "output_type": "stream",
     "text": [
      "[890]\ttrain-auc:0.96420\ttrain-mlogloss:0.46735\n"
     ]
    },
    {
     "name": "stdout",
     "output_type": "stream",
     "text": [
      "[891]\ttrain-auc:0.96421\ttrain-mlogloss:0.46732\n"
     ]
    },
    {
     "name": "stdout",
     "output_type": "stream",
     "text": [
      "[892]\ttrain-auc:0.96422\ttrain-mlogloss:0.46726\n"
     ]
    },
    {
     "name": "stdout",
     "output_type": "stream",
     "text": [
      "[893]\ttrain-auc:0.96421\ttrain-mlogloss:0.46723\n"
     ]
    },
    {
     "name": "stdout",
     "output_type": "stream",
     "text": [
      "[894]\ttrain-auc:0.96423\ttrain-mlogloss:0.46716\n"
     ]
    },
    {
     "name": "stdout",
     "output_type": "stream",
     "text": [
      "[895]\ttrain-auc:0.96424\ttrain-mlogloss:0.46715\n"
     ]
    },
    {
     "name": "stdout",
     "output_type": "stream",
     "text": [
      "[896]\ttrain-auc:0.96423\ttrain-mlogloss:0.46714\n"
     ]
    },
    {
     "name": "stdout",
     "output_type": "stream",
     "text": [
      "[897]\ttrain-auc:0.96425\ttrain-mlogloss:0.46709\n"
     ]
    },
    {
     "name": "stdout",
     "output_type": "stream",
     "text": [
      "[898]\ttrain-auc:0.96425\ttrain-mlogloss:0.46707\n"
     ]
    },
    {
     "name": "stdout",
     "output_type": "stream",
     "text": [
      "[899]\ttrain-auc:0.96425\ttrain-mlogloss:0.46702\n"
     ]
    },
    {
     "name": "stdout",
     "output_type": "stream",
     "text": [
      "[900]\ttrain-auc:0.96424\ttrain-mlogloss:0.46702\n"
     ]
    },
    {
     "name": "stdout",
     "output_type": "stream",
     "text": [
      "[901]\ttrain-auc:0.96424\ttrain-mlogloss:0.46700\n"
     ]
    },
    {
     "name": "stdout",
     "output_type": "stream",
     "text": [
      "[902]\ttrain-auc:0.96424\ttrain-mlogloss:0.46698\n"
     ]
    },
    {
     "name": "stdout",
     "output_type": "stream",
     "text": [
      "[903]\ttrain-auc:0.96423\ttrain-mlogloss:0.46696\n"
     ]
    },
    {
     "name": "stdout",
     "output_type": "stream",
     "text": [
      "[904]\ttrain-auc:0.96424\ttrain-mlogloss:0.46693\n"
     ]
    },
    {
     "name": "stdout",
     "output_type": "stream",
     "text": [
      "[905]\ttrain-auc:0.96424\ttrain-mlogloss:0.46692\n"
     ]
    },
    {
     "name": "stdout",
     "output_type": "stream",
     "text": [
      "[906]\ttrain-auc:0.96424\ttrain-mlogloss:0.46691\n"
     ]
    },
    {
     "name": "stdout",
     "output_type": "stream",
     "text": [
      "[907]\ttrain-auc:0.96424\ttrain-mlogloss:0.46689\n"
     ]
    },
    {
     "name": "stdout",
     "output_type": "stream",
     "text": [
      "[908]\ttrain-auc:0.96425\ttrain-mlogloss:0.46685\n"
     ]
    },
    {
     "name": "stdout",
     "output_type": "stream",
     "text": [
      "[909]\ttrain-auc:0.96425\ttrain-mlogloss:0.46685\n"
     ]
    },
    {
     "name": "stdout",
     "output_type": "stream",
     "text": [
      "[910]\ttrain-auc:0.96425\ttrain-mlogloss:0.46682\n"
     ]
    },
    {
     "name": "stdout",
     "output_type": "stream",
     "text": [
      "[911]\ttrain-auc:0.96426\ttrain-mlogloss:0.46672\n"
     ]
    },
    {
     "name": "stdout",
     "output_type": "stream",
     "text": [
      "[912]\ttrain-auc:0.96425\ttrain-mlogloss:0.46665\n"
     ]
    },
    {
     "name": "stdout",
     "output_type": "stream",
     "text": [
      "[913]\ttrain-auc:0.96428\ttrain-mlogloss:0.46661\n"
     ]
    },
    {
     "name": "stdout",
     "output_type": "stream",
     "text": [
      "[914]\ttrain-auc:0.96428\ttrain-mlogloss:0.46660\n"
     ]
    },
    {
     "name": "stdout",
     "output_type": "stream",
     "text": [
      "[915]\ttrain-auc:0.96428\ttrain-mlogloss:0.46660\n"
     ]
    },
    {
     "name": "stdout",
     "output_type": "stream",
     "text": [
      "[916]\ttrain-auc:0.96428\ttrain-mlogloss:0.46657\n"
     ]
    },
    {
     "name": "stdout",
     "output_type": "stream",
     "text": [
      "[917]\ttrain-auc:0.96430\ttrain-mlogloss:0.46653\n"
     ]
    },
    {
     "name": "stdout",
     "output_type": "stream",
     "text": [
      "[918]\ttrain-auc:0.96431\ttrain-mlogloss:0.46651\n"
     ]
    },
    {
     "name": "stdout",
     "output_type": "stream",
     "text": [
      "[919]\ttrain-auc:0.96431\ttrain-mlogloss:0.46648\n"
     ]
    },
    {
     "name": "stdout",
     "output_type": "stream",
     "text": [
      "[920]\ttrain-auc:0.96431\ttrain-mlogloss:0.46644\n"
     ]
    },
    {
     "name": "stdout",
     "output_type": "stream",
     "text": [
      "[921]\ttrain-auc:0.96432\ttrain-mlogloss:0.46641\n"
     ]
    },
    {
     "name": "stdout",
     "output_type": "stream",
     "text": [
      "[922]\ttrain-auc:0.96432\ttrain-mlogloss:0.46638\n"
     ]
    },
    {
     "name": "stdout",
     "output_type": "stream",
     "text": [
      "[923]\ttrain-auc:0.96432\ttrain-mlogloss:0.46636\n"
     ]
    },
    {
     "name": "stdout",
     "output_type": "stream",
     "text": [
      "[924]\ttrain-auc:0.96433\ttrain-mlogloss:0.46635\n"
     ]
    },
    {
     "name": "stdout",
     "output_type": "stream",
     "text": [
      "[925]\ttrain-auc:0.96432\ttrain-mlogloss:0.46633\n"
     ]
    },
    {
     "name": "stdout",
     "output_type": "stream",
     "text": [
      "[926]\ttrain-auc:0.96434\ttrain-mlogloss:0.46630\n"
     ]
    },
    {
     "name": "stdout",
     "output_type": "stream",
     "text": [
      "[927]\ttrain-auc:0.96431\ttrain-mlogloss:0.46626\n"
     ]
    },
    {
     "name": "stdout",
     "output_type": "stream",
     "text": [
      "[928]\ttrain-auc:0.96431\ttrain-mlogloss:0.46625\n"
     ]
    },
    {
     "name": "stdout",
     "output_type": "stream",
     "text": [
      "[929]\ttrain-auc:0.96431\ttrain-mlogloss:0.46623\n"
     ]
    },
    {
     "name": "stdout",
     "output_type": "stream",
     "text": [
      "[930]\ttrain-auc:0.96431\ttrain-mlogloss:0.46622\n"
     ]
    },
    {
     "name": "stdout",
     "output_type": "stream",
     "text": [
      "[931]\ttrain-auc:0.96433\ttrain-mlogloss:0.46614\n"
     ]
    },
    {
     "name": "stdout",
     "output_type": "stream",
     "text": [
      "[932]\ttrain-auc:0.96432\ttrain-mlogloss:0.46610\n"
     ]
    },
    {
     "name": "stdout",
     "output_type": "stream",
     "text": [
      "[933]\ttrain-auc:0.96432\ttrain-mlogloss:0.46604\n"
     ]
    },
    {
     "name": "stdout",
     "output_type": "stream",
     "text": [
      "[934]\ttrain-auc:0.96433\ttrain-mlogloss:0.46598\n"
     ]
    },
    {
     "name": "stdout",
     "output_type": "stream",
     "text": [
      "[935]\ttrain-auc:0.96435\ttrain-mlogloss:0.46595\n"
     ]
    },
    {
     "name": "stdout",
     "output_type": "stream",
     "text": [
      "[936]\ttrain-auc:0.96435\ttrain-mlogloss:0.46591\n"
     ]
    },
    {
     "name": "stdout",
     "output_type": "stream",
     "text": [
      "[937]\ttrain-auc:0.96437\ttrain-mlogloss:0.46590\n"
     ]
    },
    {
     "name": "stdout",
     "output_type": "stream",
     "text": [
      "[938]\ttrain-auc:0.96437\ttrain-mlogloss:0.46588\n"
     ]
    },
    {
     "name": "stdout",
     "output_type": "stream",
     "text": [
      "[939]\ttrain-auc:0.96436\ttrain-mlogloss:0.46586\n"
     ]
    },
    {
     "name": "stdout",
     "output_type": "stream",
     "text": [
      "[940]\ttrain-auc:0.96437\ttrain-mlogloss:0.46583\n"
     ]
    },
    {
     "name": "stdout",
     "output_type": "stream",
     "text": [
      "[941]\ttrain-auc:0.96437\ttrain-mlogloss:0.46582\n"
     ]
    },
    {
     "name": "stdout",
     "output_type": "stream",
     "text": [
      "[942]\ttrain-auc:0.96437\ttrain-mlogloss:0.46578\n"
     ]
    },
    {
     "name": "stdout",
     "output_type": "stream",
     "text": [
      "[943]\ttrain-auc:0.96437\ttrain-mlogloss:0.46573\n"
     ]
    },
    {
     "name": "stdout",
     "output_type": "stream",
     "text": [
      "[944]\ttrain-auc:0.96438\ttrain-mlogloss:0.46563\n"
     ]
    },
    {
     "name": "stdout",
     "output_type": "stream",
     "text": [
      "[945]\ttrain-auc:0.96436\ttrain-mlogloss:0.46561\n"
     ]
    },
    {
     "name": "stdout",
     "output_type": "stream",
     "text": [
      "[946]\ttrain-auc:0.96438\ttrain-mlogloss:0.46557\n"
     ]
    },
    {
     "name": "stdout",
     "output_type": "stream",
     "text": [
      "[947]\ttrain-auc:0.96437\ttrain-mlogloss:0.46554\n"
     ]
    },
    {
     "name": "stdout",
     "output_type": "stream",
     "text": [
      "[948]\ttrain-auc:0.96440\ttrain-mlogloss:0.46551\n"
     ]
    },
    {
     "name": "stdout",
     "output_type": "stream",
     "text": [
      "[949]\ttrain-auc:0.96440\ttrain-mlogloss:0.46548\n"
     ]
    },
    {
     "name": "stdout",
     "output_type": "stream",
     "text": [
      "[950]\ttrain-auc:0.96442\ttrain-mlogloss:0.46544\n"
     ]
    },
    {
     "name": "stdout",
     "output_type": "stream",
     "text": [
      "[951]\ttrain-auc:0.96442\ttrain-mlogloss:0.46541\n"
     ]
    },
    {
     "name": "stdout",
     "output_type": "stream",
     "text": [
      "[952]\ttrain-auc:0.96440\ttrain-mlogloss:0.46537\n"
     ]
    },
    {
     "name": "stdout",
     "output_type": "stream",
     "text": [
      "[953]\ttrain-auc:0.96443\ttrain-mlogloss:0.46536\n"
     ]
    },
    {
     "name": "stdout",
     "output_type": "stream",
     "text": [
      "[954]\ttrain-auc:0.96442\ttrain-mlogloss:0.46533\n"
     ]
    },
    {
     "name": "stdout",
     "output_type": "stream",
     "text": [
      "[955]\ttrain-auc:0.96443\ttrain-mlogloss:0.46531\n"
     ]
    },
    {
     "name": "stdout",
     "output_type": "stream",
     "text": [
      "[956]\ttrain-auc:0.96444\ttrain-mlogloss:0.46528\n"
     ]
    },
    {
     "name": "stdout",
     "output_type": "stream",
     "text": [
      "[957]\ttrain-auc:0.96445\ttrain-mlogloss:0.46525\n"
     ]
    },
    {
     "name": "stdout",
     "output_type": "stream",
     "text": [
      "[958]\ttrain-auc:0.96445\ttrain-mlogloss:0.46522\n"
     ]
    },
    {
     "name": "stdout",
     "output_type": "stream",
     "text": [
      "[959]\ttrain-auc:0.96446\ttrain-mlogloss:0.46522\n"
     ]
    },
    {
     "name": "stdout",
     "output_type": "stream",
     "text": [
      "[960]\ttrain-auc:0.96446\ttrain-mlogloss:0.46517\n"
     ]
    },
    {
     "name": "stdout",
     "output_type": "stream",
     "text": [
      "[961]\ttrain-auc:0.96447\ttrain-mlogloss:0.46512\n"
     ]
    },
    {
     "name": "stdout",
     "output_type": "stream",
     "text": [
      "[962]\ttrain-auc:0.96446\ttrain-mlogloss:0.46510\n"
     ]
    },
    {
     "name": "stdout",
     "output_type": "stream",
     "text": [
      "[963]\ttrain-auc:0.96446\ttrain-mlogloss:0.46509\n"
     ]
    },
    {
     "name": "stdout",
     "output_type": "stream",
     "text": [
      "[964]\ttrain-auc:0.96447\ttrain-mlogloss:0.46505\n"
     ]
    },
    {
     "name": "stdout",
     "output_type": "stream",
     "text": [
      "[965]\ttrain-auc:0.96446\ttrain-mlogloss:0.46504\n"
     ]
    },
    {
     "name": "stdout",
     "output_type": "stream",
     "text": [
      "[966]\ttrain-auc:0.96447\ttrain-mlogloss:0.46498\n"
     ]
    },
    {
     "name": "stdout",
     "output_type": "stream",
     "text": [
      "[967]\ttrain-auc:0.96448\ttrain-mlogloss:0.46490\n"
     ]
    },
    {
     "name": "stdout",
     "output_type": "stream",
     "text": [
      "[968]\ttrain-auc:0.96448\ttrain-mlogloss:0.46487\n"
     ]
    },
    {
     "name": "stdout",
     "output_type": "stream",
     "text": [
      "[969]\ttrain-auc:0.96448\ttrain-mlogloss:0.46486\n"
     ]
    },
    {
     "name": "stdout",
     "output_type": "stream",
     "text": [
      "[970]\ttrain-auc:0.96448\ttrain-mlogloss:0.46482\n"
     ]
    },
    {
     "name": "stdout",
     "output_type": "stream",
     "text": [
      "[971]\ttrain-auc:0.96449\ttrain-mlogloss:0.46481\n"
     ]
    },
    {
     "name": "stdout",
     "output_type": "stream",
     "text": [
      "[972]\ttrain-auc:0.96449\ttrain-mlogloss:0.46479\n"
     ]
    },
    {
     "name": "stdout",
     "output_type": "stream",
     "text": [
      "[973]\ttrain-auc:0.96449\ttrain-mlogloss:0.46476\n"
     ]
    },
    {
     "name": "stdout",
     "output_type": "stream",
     "text": [
      "[974]\ttrain-auc:0.96448\ttrain-mlogloss:0.46476\n"
     ]
    },
    {
     "name": "stdout",
     "output_type": "stream",
     "text": [
      "[975]\ttrain-auc:0.96450\ttrain-mlogloss:0.46474\n"
     ]
    },
    {
     "name": "stdout",
     "output_type": "stream",
     "text": [
      "[976]\ttrain-auc:0.96449\ttrain-mlogloss:0.46472\n"
     ]
    },
    {
     "name": "stdout",
     "output_type": "stream",
     "text": [
      "[977]\ttrain-auc:0.96449\ttrain-mlogloss:0.46469\n"
     ]
    },
    {
     "name": "stdout",
     "output_type": "stream",
     "text": [
      "[978]\ttrain-auc:0.96449\ttrain-mlogloss:0.46464\n"
     ]
    },
    {
     "name": "stdout",
     "output_type": "stream",
     "text": [
      "[979]\ttrain-auc:0.96449\ttrain-mlogloss:0.46463\n"
     ]
    },
    {
     "name": "stdout",
     "output_type": "stream",
     "text": [
      "[980]\ttrain-auc:0.96450\ttrain-mlogloss:0.46461\n"
     ]
    },
    {
     "name": "stdout",
     "output_type": "stream",
     "text": [
      "[981]\ttrain-auc:0.96449\ttrain-mlogloss:0.46456\n"
     ]
    },
    {
     "name": "stdout",
     "output_type": "stream",
     "text": [
      "[982]\ttrain-auc:0.96450\ttrain-mlogloss:0.46453\n"
     ]
    },
    {
     "name": "stdout",
     "output_type": "stream",
     "text": [
      "[983]\ttrain-auc:0.96450\ttrain-mlogloss:0.46451\n"
     ]
    },
    {
     "name": "stdout",
     "output_type": "stream",
     "text": [
      "[984]\ttrain-auc:0.96450\ttrain-mlogloss:0.46447\n"
     ]
    },
    {
     "name": "stdout",
     "output_type": "stream",
     "text": [
      "[985]\ttrain-auc:0.96452\ttrain-mlogloss:0.46442\n"
     ]
    },
    {
     "name": "stdout",
     "output_type": "stream",
     "text": [
      "[986]\ttrain-auc:0.96452\ttrain-mlogloss:0.46441\n"
     ]
    },
    {
     "name": "stdout",
     "output_type": "stream",
     "text": [
      "[987]\ttrain-auc:0.96452\ttrain-mlogloss:0.46440\n"
     ]
    },
    {
     "name": "stdout",
     "output_type": "stream",
     "text": [
      "[988]\ttrain-auc:0.96451\ttrain-mlogloss:0.46439\n"
     ]
    },
    {
     "name": "stdout",
     "output_type": "stream",
     "text": [
      "[989]\ttrain-auc:0.96451\ttrain-mlogloss:0.46438\n"
     ]
    },
    {
     "name": "stdout",
     "output_type": "stream",
     "text": [
      "[990]\ttrain-auc:0.96452\ttrain-mlogloss:0.46436\n"
     ]
    },
    {
     "name": "stdout",
     "output_type": "stream",
     "text": [
      "[991]\ttrain-auc:0.96453\ttrain-mlogloss:0.46428\n"
     ]
    },
    {
     "name": "stdout",
     "output_type": "stream",
     "text": [
      "[992]\ttrain-auc:0.96453\ttrain-mlogloss:0.46428\n"
     ]
    },
    {
     "name": "stdout",
     "output_type": "stream",
     "text": [
      "[993]\ttrain-auc:0.96453\ttrain-mlogloss:0.46426\n"
     ]
    },
    {
     "name": "stdout",
     "output_type": "stream",
     "text": [
      "[994]\ttrain-auc:0.96454\ttrain-mlogloss:0.46425\n"
     ]
    },
    {
     "name": "stdout",
     "output_type": "stream",
     "text": [
      "[995]\ttrain-auc:0.96454\ttrain-mlogloss:0.46422\n"
     ]
    },
    {
     "name": "stdout",
     "output_type": "stream",
     "text": [
      "[996]\ttrain-auc:0.96455\ttrain-mlogloss:0.46416\n"
     ]
    },
    {
     "name": "stdout",
     "output_type": "stream",
     "text": [
      "[997]\ttrain-auc:0.96456\ttrain-mlogloss:0.46414\n"
     ]
    },
    {
     "name": "stdout",
     "output_type": "stream",
     "text": [
      "[998]\ttrain-auc:0.96456\ttrain-mlogloss:0.46410\n"
     ]
    },
    {
     "name": "stdout",
     "output_type": "stream",
     "text": [
      "[999]\ttrain-auc:0.96456\ttrain-mlogloss:0.46407\n"
     ]
    }
   ],
   "source": [
    "model = xgb.train(\n",
    "    params,\n",
    "    dtrain,\n",
    "    params.pop(\"n_estimators\"),\n",
    "    evals=watchlist,\n",
    "    verbose_eval=True,\n",
    "    evals_result=evals_result,\n",
    "    callbacks=[xgb.callback.LearningRateScheduler(eta_decay)],\n",
    ")"
   ]
  },
  {
   "cell_type": "code",
   "execution_count": 12,
   "id": "fb8dc5fe",
   "metadata": {
    "execution": {
     "iopub.execute_input": "2023-06-19T14:06:10.627588Z",
     "iopub.status.busy": "2023-06-19T14:06:10.627146Z",
     "iopub.status.idle": "2023-06-19T14:06:10.669511Z",
     "shell.execute_reply": "2023-06-19T14:06:10.668715Z"
    },
    "papermill": {
     "duration": 0.111496,
     "end_time": "2023-06-19T14:06:10.672046",
     "exception": false,
     "start_time": "2023-06-19T14:06:10.560550",
     "status": "completed"
    },
    "tags": []
   },
   "outputs": [
    {
     "data": {
      "text/plain": [
       "12894"
      ]
     },
     "execution_count": 12,
     "metadata": {},
     "output_type": "execute_result"
    }
   ],
   "source": [
    "Path(product['result'])\\\n",
    "    .write_text(json.dumps(\n",
    "        {'target': {index: int(i) \n",
    "                    for index, i in enumerate(np.argmax(model.predict(dvalid), axis=1))}\n",
    "         }))"
   ]
  }
 ],
 "metadata": {
  "jupytext": {
   "cell_metadata_filter": "tags,-all",
   "main_language": "python",
   "notebook_metadata_filter": "-all",
   "text_representation": {
    "extension": ".py",
    "format_name": "percent"
   }
  },
  "kernelspec": {
   "display_name": "Python 3 (ipykernel)",
   "language": "python",
   "name": "python3"
  },
  "language_info": {
   "codemirror_mode": {
    "name": "ipython",
    "version": 3
   },
   "file_extension": ".py",
   "mimetype": "text/x-python",
   "name": "python",
   "nbconvert_exporter": "python",
   "pygments_lexer": "ipython3",
   "version": "3.9.6"
  },
  "papermill": {
   "duration": 24.630064,
   "end_time": "2023-06-19T14:06:11.060751",
   "exception": null,
   "input_path": "/var/folders/s5/_7d__r0n05g6qm5_92lpp99m0000gn/T/tmp0enf2h0g.ipynb",
   "output_path": "/Users/bruno/Documents/Hackaton_danone/output/train_xgboost.ipynb",
   "parameters": {
    "product": {
     "nb": "/Users/bruno/Documents/Hackaton_danone/output/train_xgboost.ipynb",
     "result": "/Users/bruno/Documents/Hackaton_danone/predictions/result_xgboost.json"
    },
    "upstream": {
     "Preprocess features": {
      "nb": "/Users/bruno/Documents/Hackaton_danone/output/process_data.ipynb",
      "test_csv": "/Users/bruno/Documents/Hackaton_danone/data/test.csv",
      "train_csv": "/Users/bruno/Documents/Hackaton_danone/data/train.csv"
     }
    }
   },
   "start_time": "2023-06-19T14:05:46.430687"
  }
 },
 "nbformat": 4,
 "nbformat_minor": 5
}