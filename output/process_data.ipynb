{
 "cells": [
  {
   "cell_type": "code",
   "execution_count": 1,
   "id": "93b8ad40",
   "metadata": {
    "execution": {
     "iopub.execute_input": "2023-06-19T14:05:38.231300Z",
     "iopub.status.busy": "2023-06-19T14:05:38.231084Z",
     "iopub.status.idle": "2023-06-19T14:05:38.238071Z",
     "shell.execute_reply": "2023-06-19T14:05:38.237642Z"
    },
    "papermill": {
     "duration": 0.012952,
     "end_time": "2023-06-19T14:05:38.239514",
     "exception": false,
     "start_time": "2023-06-19T14:05:38.226562",
     "status": "completed"
    },
    "tags": [
     "parameters"
    ]
   },
   "outputs": [],
   "source": [
    "upstream = None\n",
    "product = None\n",
    "file_train_data = None\n",
    "file_test_data = None\n",
    "\n",
    "import warnings"
   ]
  },
  {
   "cell_type": "code",
   "execution_count": 2,
   "id": "aa5b8eee",
   "metadata": {
    "execution": {
     "iopub.execute_input": "2023-06-19T14:05:38.245313Z",
     "iopub.status.busy": "2023-06-19T14:05:38.245030Z",
     "iopub.status.idle": "2023-06-19T14:05:38.247954Z",
     "shell.execute_reply": "2023-06-19T14:05:38.247550Z"
    },
    "papermill": {
     "duration": 0.006844,
     "end_time": "2023-06-19T14:05:38.249353",
     "exception": false,
     "start_time": "2023-06-19T14:05:38.242509",
     "status": "completed"
    },
    "tags": [
     "injected-parameters"
    ]
   },
   "outputs": [],
   "source": [
    "# Parameters\n",
    "file_train_data = \"train_products.json\"\n",
    "file_test_data = \"test_products.json\"\n",
    "product = {\"nb\": \"/Users/bruno/Documents/Hackaton_danone/output/process_data.ipynb\", \"train_csv\": \"/Users/bruno/Documents/Hackaton_danone/data/train.csv\", \"test_csv\": \"/Users/bruno/Documents/Hackaton_danone/data/test.csv\"}\n"
   ]
  },
  {
   "cell_type": "code",
   "execution_count": 3,
   "id": "8fd08402",
   "metadata": {
    "execution": {
     "iopub.execute_input": "2023-06-19T14:05:38.254225Z",
     "iopub.status.busy": "2023-06-19T14:05:38.253994Z",
     "iopub.status.idle": "2023-06-19T14:05:39.693066Z",
     "shell.execute_reply": "2023-06-19T14:05:39.692565Z"
    },
    "lines_to_next_cell": 0,
    "papermill": {
     "duration": 1.444132,
     "end_time": "2023-06-19T14:05:39.695506",
     "exception": false,
     "start_time": "2023-06-19T14:05:38.251374",
     "status": "completed"
    },
    "tags": []
   },
   "outputs": [],
   "source": [
    "import os\n",
    "import pandas as pd\n",
    "from sklearn.preprocessing import MultiLabelBinarizer\n",
    "\n",
    "warnings.filterwarnings('ignore')\n",
    "\n",
    "mlb = MultiLabelBinarizer()"
   ]
  },
  {
   "cell_type": "code",
   "execution_count": 4,
   "id": "ead6b32a",
   "metadata": {
    "execution": {
     "iopub.execute_input": "2023-06-19T14:05:39.701385Z",
     "iopub.status.busy": "2023-06-19T14:05:39.701049Z",
     "iopub.status.idle": "2023-06-19T14:05:39.704569Z",
     "shell.execute_reply": "2023-06-19T14:05:39.703913Z"
    },
    "papermill": {
     "duration": 0.00778,
     "end_time": "2023-06-19T14:05:39.706033",
     "exception": false,
     "start_time": "2023-06-19T14:05:39.698253",
     "status": "completed"
    },
    "tags": []
   },
   "outputs": [],
   "source": [
    "os.makedirs('/'.join(product['train_csv'].split('/')[:-1]), exist_ok=True)"
   ]
  },
  {
   "cell_type": "code",
   "execution_count": 5,
   "id": "8a1f0024",
   "metadata": {
    "execution": {
     "iopub.execute_input": "2023-06-19T14:05:39.710520Z",
     "iopub.status.busy": "2023-06-19T14:05:39.710258Z",
     "iopub.status.idle": "2023-06-19T14:05:44.068191Z",
     "shell.execute_reply": "2023-06-19T14:05:44.067649Z"
    },
    "lines_to_next_cell": 0,
    "papermill": {
     "duration": 4.36326,
     "end_time": "2023-06-19T14:05:44.071068",
     "exception": false,
     "start_time": "2023-06-19T14:05:39.707808",
     "status": "completed"
    },
    "tags": []
   },
   "outputs": [],
   "source": [
    "train = pd.read_json(file_train_data).T\n",
    "test = pd.read_json(file_test_data).T"
   ]
  },
  {
   "cell_type": "code",
   "execution_count": 6,
   "id": "652aaa48",
   "metadata": {
    "execution": {
     "iopub.execute_input": "2023-06-19T14:05:44.078486Z",
     "iopub.status.busy": "2023-06-19T14:05:44.078258Z",
     "iopub.status.idle": "2023-06-19T14:05:44.133206Z",
     "shell.execute_reply": "2023-06-19T14:05:44.132766Z"
    },
    "lines_to_next_cell": 0,
    "papermill": {
     "duration": 0.058956,
     "end_time": "2023-06-19T14:05:44.134558",
     "exception": false,
     "start_time": "2023-06-19T14:05:44.075602",
     "status": "completed"
    },
    "tags": []
   },
   "outputs": [],
   "source": [
    "train['test_ingredients'] = train.ingredients.apply(lambda x: [i['id'] for i in x] if x != 'unknown' else ['unknown'])\n",
    "test['test_ingredients'] = test.ingredients.apply(lambda x: [i['id'] for i in x] if x != 'unknown' else ['unknown'])"
   ]
  },
  {
   "cell_type": "code",
   "execution_count": 7,
   "id": "d6cf73b7",
   "metadata": {
    "execution": {
     "iopub.execute_input": "2023-06-19T14:05:44.138566Z",
     "iopub.status.busy": "2023-06-19T14:05:44.138387Z",
     "iopub.status.idle": "2023-06-19T14:05:44.141032Z",
     "shell.execute_reply": "2023-06-19T14:05:44.140668Z"
    },
    "lines_to_next_cell": 0,
    "papermill": {
     "duration": 0.005951,
     "end_time": "2023-06-19T14:05:44.142331",
     "exception": false,
     "start_time": "2023-06-19T14:05:44.136380",
     "status": "completed"
    },
    "tags": []
   },
   "outputs": [],
   "source": [
    "# temp = mlb.fit_transform(pd.concat([train.pop('test_ingredients'), test.pop('test_ingredients')]))\n",
    "# train = train.join(pd.DataFrame(temp[:len(train),:],\n",
    "#                           columns=mlb.classes_,\n",
    "#                           index=train.index))\n",
    "\n",
    "# test = test.join(pd.DataFrame(temp[len(train):,:],\n",
    "#                           columns=mlb.classes_,\n",
    "#                           index=test.index))\n",
    "# # %%\n",
    "# def fill_percentages(df):\n",
    "#     for index, i in enumerate(df.ingredients):\n",
    "#         if i == 'unknown':\n",
    "#             df.unknown.iloc[index] = 100\n",
    "#         else:\n",
    "#             for ingredient in i:\n",
    "#                 df[ingredient['id']].iloc[index] = ingredient['percent_estimate']\n",
    "#     return df\n",
    "            \n",
    "# # %%\n",
    "# train = fill_percentages(train)\n",
    "# test = fill_percentages(test)"
   ]
  },
  {
   "cell_type": "code",
   "execution_count": 8,
   "id": "026e0ed5",
   "metadata": {
    "execution": {
     "iopub.execute_input": "2023-06-19T14:05:44.145996Z",
     "iopub.status.busy": "2023-06-19T14:05:44.145840Z",
     "iopub.status.idle": "2023-06-19T14:05:45.991173Z",
     "shell.execute_reply": "2023-06-19T14:05:45.990710Z"
    },
    "papermill": {
     "duration": 1.848799,
     "end_time": "2023-06-19T14:05:45.992701",
     "exception": false,
     "start_time": "2023-06-19T14:05:44.143902",
     "status": "completed"
    },
    "tags": []
   },
   "outputs": [],
   "source": [
    "train.to_csv(product['train_csv'], index=False)\n",
    "test.to_csv(product['test_csv'], index=False)"
   ]
  }
 ],
 "metadata": {
  "jupytext": {
   "cell_metadata_filter": "tags,-all",
   "main_language": "python",
   "notebook_metadata_filter": "-all",
   "text_representation": {
    "extension": ".py",
    "format_name": "percent"
   }
  },
  "kernelspec": {
   "display_name": "Python 3 (ipykernel)",
   "language": "python",
   "name": "python3"
  },
  "language_info": {
   "codemirror_mode": {
    "name": "ipython",
    "version": 3
   },
   "file_extension": ".py",
   "mimetype": "text/x-python",
   "name": "python",
   "nbconvert_exporter": "python",
   "pygments_lexer": "ipython3",
   "version": "3.9.6"
  },
  "papermill": {
   "duration": 9.428294,
   "end_time": "2023-06-19T14:05:46.415310",
   "exception": null,
   "input_path": "/var/folders/s5/_7d__r0n05g6qm5_92lpp99m0000gn/T/tmpb3ywc3h0.ipynb",
   "output_path": "/Users/bruno/Documents/Hackaton_danone/output/process_data.ipynb",
   "parameters": {
    "file_test_data": "test_products.json",
    "file_train_data": "train_products.json",
    "product": {
     "nb": "/Users/bruno/Documents/Hackaton_danone/output/process_data.ipynb",
     "test_csv": "/Users/bruno/Documents/Hackaton_danone/data/test.csv",
     "train_csv": "/Users/bruno/Documents/Hackaton_danone/data/train.csv"
    }
   },
   "start_time": "2023-06-19T14:05:36.987016"
  }
 },
 "nbformat": 4,
 "nbformat_minor": 5
}